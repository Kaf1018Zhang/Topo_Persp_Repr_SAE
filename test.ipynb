{
 "cells": [
  {
   "cell_type": "code",
   "execution_count": null,
   "id": "2a655b62",
   "metadata": {},
   "outputs": [
    {
     "name": "stdout",
     "output_type": "stream",
     "text": [
      "Using device: cuda\n"
     ]
    },
    {
     "name": "stderr",
     "output_type": "stream",
     "text": [
      "C:\\Users\\Laplace\\AppData\\Roaming\\Python\\Python313\\site-packages\\torch\\nn\\modules\\module.py:1341: UserWarning: expandable_segments not supported on this platform (Triggered internally at C:\\actions-runner\\_work\\pytorch\\pytorch\\pytorch\\c10/cuda/CUDAAllocatorConfig.h:28.)\n",
      "  return t.to(\n"
     ]
    },
    {
     "name": "stdout",
     "output_type": "stream",
     "text": [
      "Epoch 1/50, Loss: 1081395562.6390\n",
      "Epoch 2/50, Loss: 204.5821\n",
      "Epoch 3/50, Loss: 206.6569\n",
      "Epoch 4/50, Loss: 206.6741\n",
      "Epoch 5/50, Loss: 206.7267\n",
      "Epoch 6/50, Loss: 206.5856\n",
      "Epoch 7/50, Loss: 206.6571\n",
      "Epoch 8/50, Loss: 206.4193\n",
      "Epoch 9/50, Loss: 206.5498\n",
      "Epoch 10/50, Loss: 206.4440\n",
      "Epoch 11/50, Loss: 206.5075\n",
      "Epoch 12/50, Loss: 206.4086\n",
      "Epoch 13/50, Loss: 206.3062\n",
      "Epoch 14/50, Loss: 206.2882\n",
      "Epoch 15/50, Loss: 206.2977\n",
      "Epoch 16/50, Loss: 206.1906\n",
      "Epoch 17/50, Loss: 206.1671\n",
      "Epoch 18/50, Loss: 206.0995\n",
      "Epoch 19/50, Loss: 206.0735\n",
      "Epoch 20/50, Loss: 205.9797\n",
      "Epoch 21/50, Loss: 206.0267\n",
      "Epoch 22/50, Loss: 206.0094\n",
      "Epoch 23/50, Loss: 205.7763\n",
      "Epoch 24/50, Loss: 205.8650\n",
      "Epoch 25/50, Loss: 205.8213\n",
      "Epoch 26/50, Loss: 205.6932\n",
      "Epoch 27/50, Loss: 205.6222\n",
      "Epoch 28/50, Loss: 205.5831\n",
      "Epoch 29/50, Loss: 205.5500\n",
      "Epoch 30/50, Loss: 205.4696\n",
      "Epoch 31/50, Loss: 205.4815\n",
      "Epoch 32/50, Loss: 205.3966\n",
      "Epoch 33/50, Loss: 205.2768\n",
      "Epoch 34/50, Loss: 205.2876\n",
      "Epoch 35/50, Loss: 205.2993\n",
      "Epoch 36/50, Loss: 205.2529\n",
      "Epoch 37/50, Loss: 205.0485\n",
      "Epoch 38/50, Loss: 205.1318\n",
      "Epoch 39/50, Loss: 204.9629\n",
      "Epoch 40/50, Loss: 205.0893\n",
      "Epoch 41/50, Loss: 204.8461\n",
      "Epoch 42/50, Loss: 204.8684\n",
      "Epoch 43/50, Loss: 204.7373\n",
      "Epoch 44/50, Loss: 204.6687\n",
      "Epoch 45/50, Loss: 204.6439\n",
      "Epoch 46/50, Loss: 204.4949\n",
      "Epoch 47/50, Loss: 204.5444\n",
      "Epoch 48/50, Loss: 204.5010\n",
      "Epoch 49/50, Loss: 204.4851\n",
      "Epoch 50/50, Loss: 204.4500\n"
     ]
    }
   ],
   "source": [
    "from SAE import SparseAutoencoder, train_sae, device\n",
    "\n",
    "from sklearn.preprocessing import StandardScaler\n",
    "import torch\n",
    "\n",
    "X_dense = adata.X.toarray()\n",
    "X_scaled = StandardScaler().fit_transform(X_dense)\n",
    "data_tensor = torch.tensor(X_scaled, dtype=torch.float32)\n",
    "\n",
    "model = SparseAutoencoder(input_dim=X_scaled.shape[1], latent_dim=128)\n",
    "\n",
    "trained_model = train_sae(model, data_tensor, epochs=50, l1_weight=1e-4)"
   ]
  },
  {
   "cell_type": "code",
   "execution_count": null,
   "id": "5d8e2ccd",
   "metadata": {},
   "outputs": [],
   "source": [
    "trained_model.eval()\n",
    "\n",
    "with torch.no_grad():\n",
    "    data_tensor = data_tensor.to(device)\n",
    "    _, latent_all = trained_model(data_tensor)  \n",
    "    latent_all = latent_all.cpu().numpy()       \n"
   ]
  },
  {
   "cell_type": "code",
   "execution_count": 17,
   "id": "9ebe4d8b",
   "metadata": {},
   "outputs": [
    {
     "name": "stdout",
     "output_type": "stream",
     "text": [
      "Epoch 1/80, Loss: 49071784.7207\n",
      "Epoch 2/80, Loss: 1702468.3490\n",
      "Epoch 3/80, Loss: 77658.8375\n",
      "Epoch 4/80, Loss: 12179.9555\n",
      "Epoch 5/80, Loss: 5928.3372\n",
      "Epoch 6/80, Loss: 3782.5865\n",
      "Epoch 7/80, Loss: 2619.7982\n",
      "Epoch 8/80, Loss: 1876.0933\n",
      "Epoch 9/80, Loss: 1334.3903\n",
      "Epoch 10/80, Loss: 944.2678\n",
      "Epoch 11/80, Loss: 700.2213\n",
      "Epoch 12/80, Loss: 554.9893\n",
      "Epoch 13/80, Loss: 474.2342\n",
      "Epoch 14/80, Loss: 415.2583\n",
      "Epoch 15/80, Loss: 371.3538\n",
      "Epoch 16/80, Loss: 336.2707\n",
      "Epoch 17/80, Loss: 304.8627\n",
      "Epoch 18/80, Loss: 288.2590\n",
      "Epoch 19/80, Loss: 259.7459\n",
      "Epoch 20/80, Loss: 238.9993\n",
      "Epoch 21/80, Loss: 220.4255\n",
      "Epoch 22/80, Loss: 208.8668\n",
      "Epoch 23/80, Loss: 194.8183\n",
      "Epoch 24/80, Loss: 189.6209\n",
      "Epoch 25/80, Loss: 175.3730\n",
      "Epoch 26/80, Loss: 166.0672\n",
      "Epoch 27/80, Loss: 157.4420\n",
      "Epoch 28/80, Loss: 147.5034\n",
      "Epoch 29/80, Loss: 139.1171\n",
      "Epoch 30/80, Loss: 135.1055\n",
      "Epoch 31/80, Loss: 123.0876\n",
      "Epoch 32/80, Loss: 113.7484\n",
      "Epoch 33/80, Loss: 107.8534\n",
      "Epoch 34/80, Loss: 102.2288\n",
      "Epoch 35/80, Loss: 98.4995\n",
      "Epoch 36/80, Loss: 94.8031\n",
      "Epoch 37/80, Loss: 91.3388\n",
      "Epoch 38/80, Loss: 88.5644\n",
      "Epoch 39/80, Loss: 86.0881\n",
      "Epoch 40/80, Loss: 84.6174\n",
      "Epoch 41/80, Loss: 82.5841\n",
      "Epoch 42/80, Loss: 80.8062\n",
      "Epoch 43/80, Loss: 79.5094\n",
      "Epoch 44/80, Loss: 78.1592\n",
      "Epoch 45/80, Loss: 76.9784\n",
      "Epoch 46/80, Loss: 76.0374\n",
      "Epoch 47/80, Loss: 74.9053\n",
      "Epoch 48/80, Loss: 74.0361\n",
      "Epoch 49/80, Loss: 73.1976\n",
      "Epoch 50/80, Loss: 72.3520\n",
      "Epoch 51/80, Loss: 71.7428\n",
      "Epoch 52/80, Loss: 70.9524\n",
      "Epoch 53/80, Loss: 70.2534\n",
      "Epoch 54/80, Loss: 69.7218\n",
      "Epoch 55/80, Loss: 69.1386\n",
      "Epoch 56/80, Loss: 68.5669\n",
      "Epoch 57/80, Loss: 68.1222\n",
      "Epoch 58/80, Loss: 67.6061\n",
      "Epoch 59/80, Loss: 67.1582\n",
      "Epoch 60/80, Loss: 66.7505\n",
      "Epoch 61/80, Loss: 66.2286\n",
      "Epoch 62/80, Loss: 65.8471\n",
      "Epoch 63/80, Loss: 65.3730\n",
      "Epoch 64/80, Loss: 65.0302\n",
      "Epoch 65/80, Loss: 64.6680\n",
      "Epoch 66/80, Loss: 64.4219\n",
      "Epoch 67/80, Loss: 64.0079\n",
      "Epoch 68/80, Loss: 63.8178\n",
      "Epoch 69/80, Loss: 63.4769\n",
      "Epoch 70/80, Loss: 63.2616\n",
      "Epoch 71/80, Loss: 62.9479\n",
      "Epoch 72/80, Loss: 62.6903\n",
      "Epoch 73/80, Loss: 62.4700\n",
      "Epoch 74/80, Loss: 62.3068\n",
      "Epoch 75/80, Loss: 62.0869\n",
      "Epoch 76/80, Loss: 61.8765\n",
      "Epoch 77/80, Loss: 61.6379\n",
      "Epoch 78/80, Loss: 61.5615\n",
      "Epoch 79/80, Loss: 61.3409\n",
      "Epoch 80/80, Loss: 61.1744\n"
     ]
    }
   ],
   "source": [
    "model = SparseAutoencoder(input_dim=X_scaled.shape[1], latent_dim=3)\n",
    "trained_model = train_sae(model, data_tensor, epochs=80, l1_weight=1e-4)\n",
    "\n",
    "with torch.no_grad():\n",
    "    _, latent = trained_model(data_tensor.to(device))\n",
    "    latent_3d = latent.cpu().numpy()"
   ]
  },
  {
   "cell_type": "code",
   "execution_count": null,
   "id": "0e87849d",
   "metadata": {},
   "outputs": [
    {
     "name": "stdout",
     "output_type": "stream",
     "text": [
      "              Barcode  Cluster\n",
      "0  AAACCCACATAACTCG-1        2\n",
      "1  AAACCCACATGTAACC-1        1\n",
      "2  AAACCCAGTGAGTCAG-1        2\n",
      "3  AAACCCAGTGCTTATG-1        3\n",
      "4  AAACGAACAGTCAGTT-1        2\n"
     ]
    }
   ],
   "source": [
    "cluster_df = pd.read_csv(\"data/Parent_NGSC3_DI_PBMC_analysis/analysis/clustering/kmeans_3_clusters/clusters.csv\")\n",
    "\n",
    "print(cluster_df.head())\n",
    "\n",
    "cluster_df = cluster_df.set_index(\"Barcode\")\n",
    "\n",
    "adata.obs[\"kmeans_3\"] = adata.obs_names.map(cluster_df[\"Cluster\"])"
   ]
  },
  {
   "cell_type": "code",
   "execution_count": null,
   "id": "d76e1b48",
   "metadata": {},
   "outputs": [
    {
     "data": {
      "image/png": "[encoded data removed]",
      "text/plain": [
       "<Figure size 640x480 with 1 Axes>"
      ]
     },
     "metadata": {},
     "output_type": "display_data"
    }
   ],
   "source": [
    "import numpy as np\n",
    "from ripser import ripser\n",
    "from persim import plot_diagrams\n",
    "\n",
    "latent_all = np.load(\"latent_128.npy\")\n",
    "subset = latent_all[:1000]\n",
    "\n",
    "result = ripser(subset, maxdim=2)  \n",
    "diagrams = result['dgms']\n",
    "\n",
    "plot_diagrams(diagrams, show=True, title=\"Persistence Diagram of SAE latent space\")\n"
   ]
  },
  {
   "cell_type": "code",
   "execution_count": 13,
   "id": "859c3c74",
   "metadata": {},
   "outputs": [
    {
     "name": "stdout",
     "output_type": "stream",
     "text": [
      "Betti numbers: H0=1000, H1=59, H2=1\n"
     ]
    }
   ],
   "source": [
    "from collections import Counter\n",
    "\n",
    "betti_counts = [len(diag) for diag in diagrams]\n",
    "print(f\"Betti numbers: H0={betti_counts[0]}, H1={betti_counts[1]}, H2={betti_counts[2]}\")"
   ]
  },
  {
   "cell_type": "code",
   "execution_count": null,
   "id": "31ea8676",
   "metadata": {},
   "outputs": [
    {
     "name": "stderr",
     "output_type": "stream",
     "text": [
      "C:\\Users\\Laplace\\AppData\\Roaming\\Python\\Python313\\site-packages\\ripser\\ripser.py:253: UserWarning: The input point cloud has more columns than rows; did you mean to transpose?\n",
      "  warnings.warn(\n"
     ]
    },
    {
     "data": {
      "image/png": "[encoded data removed]",
      "text/plain": [
       "<Figure size 640x480 with 1 Axes>"
      ]
     },
     "metadata": {},
     "output_type": "display_data"
    }
   ],
   "source": [
    "import numpy as np\n",
    "from ripser import ripser\n",
    "from persim import plot_diagrams\n",
    "\n",
    "subset = adata.X[:1000]\n",
    "\n",
    "result = ripser(subset, maxdim=2)  \n",
    "diagrams = result['dgms']\n",
    "\n",
    "plot_diagrams(diagrams, show=True, title=\"Persistence Diagram of SAE latent space\")"
   ]
  },
  {
   "cell_type": "code",
   "execution_count": 11,
   "id": "36318e6a",
   "metadata": {},
   "outputs": [
    {
     "name": "stdout",
     "output_type": "stream",
     "text": [
      "Betti numbers: H0=1000, H1=532, H2=130\n"
     ]
    }
   ],
   "source": [
    "betti_counts = [len(diag) for diag in diagrams]\n",
    "print(f\"Betti numbers: H0={betti_counts[0]}, H1={betti_counts[1]}, H2={betti_counts[2]}\")"
   ]
  },
  {
   "cell_type": "code",
   "execution_count": null,
   "id": "208572aa",
   "metadata": {},
   "outputs": [
    {
     "name": "stdout",
     "output_type": "stream",
     "text": [
      "Using device: cuda\n"
     ]
    }
   ],
   "source": [
    "import torch\n",
    "import numpy as np\n",
    "from sklearn.preprocessing import StandardScaler\n",
    "from SAE import SparseAutoencoder, train_sae, device  \n",
    "import os\n",
    "\n",
    "def run_and_save_latent(adata, latent_dim, save_dir=\"latent_db\"):\n",
    "    os.makedirs(save_dir, exist_ok=True)\n",
    "\n",
    "    X_dense = adata.X.toarray()\n",
    "    X_scaled = StandardScaler().fit_transform(X_dense)\n",
    "    data_tensor = torch.tensor(X_scaled, dtype=torch.float32)\n",
    "\n",
    "    model = SparseAutoencoder(input_dim=X_scaled.shape[1], latent_dim=latent_dim)\n",
    "    trained_model = train_sae(model, data_tensor, epochs=50, l1_weight=1e-4)\n",
    "\n",
    "    trained_model.eval()\n",
    "    with torch.no_grad():\n",
    "        latent_all = trained_model.encoder(data_tensor.to(device)).cpu().numpy()\n",
    "\n",
    "    save_path = os.path.join(save_dir, f\"latent_{latent_dim}.npy\")\n",
    "    np.save(save_path, latent_all)\n",
    "    print(f\"Saved latent to: {save_path}\")\n"
   ]
  },
  {
   "cell_type": "code",
   "execution_count": null,
   "id": "03670644",
   "metadata": {},
   "outputs": [
    {
     "name": "stderr",
     "output_type": "stream",
     "text": [
      "C:\\Users\\Laplace\\AppData\\Roaming\\Python\\Python313\\site-packages\\torch\\nn\\modules\\module.py:1341: UserWarning: expandable_segments not supported on this platform (Triggered internally at C:\\actions-runner\\_work\\pytorch\\pytorch\\pytorch\\c10/cuda/CUDAAllocatorConfig.h:28.)\n",
      "  return t.to(\n"
     ]
    },
    {
     "name": "stdout",
     "output_type": "stream",
     "text": [
      "Epoch 1/50, Loss: 6861829450.7335\n",
      "Epoch 2/50, Loss: 230.2385\n",
      "Epoch 3/50, Loss: 232.8738\n",
      "Epoch 4/50, Loss: 232.7841\n",
      "Epoch 5/50, Loss: 232.5531\n",
      "Epoch 6/50, Loss: 232.5975\n",
      "Epoch 7/50, Loss: 232.6027\n",
      "Epoch 8/50, Loss: 232.5683\n",
      "Epoch 9/50, Loss: 232.6530\n",
      "Epoch 10/50, Loss: 232.6342\n",
      "Epoch 11/50, Loss: 232.4886\n",
      "Epoch 12/50, Loss: 232.6377\n",
      "Epoch 13/50, Loss: 232.5392\n",
      "Epoch 14/50, Loss: 232.5989\n",
      "Epoch 15/50, Loss: 232.6641\n",
      "Epoch 16/50, Loss: 232.5183\n",
      "Epoch 17/50, Loss: 232.3603\n",
      "Epoch 18/50, Loss: 232.4072\n",
      "Epoch 19/50, Loss: 232.3943\n",
      "Epoch 20/50, Loss: 232.4917\n",
      "Epoch 21/50, Loss: 232.3086\n",
      "Epoch 22/50, Loss: 232.3263\n",
      "Epoch 23/50, Loss: 232.4947\n",
      "Epoch 24/50, Loss: 232.2801\n",
      "Epoch 25/50, Loss: 232.3647\n",
      "Epoch 26/50, Loss: 232.4162\n",
      "Epoch 27/50, Loss: 232.2642\n",
      "Epoch 28/50, Loss: 232.3247\n",
      "Epoch 29/50, Loss: 232.2906\n",
      "Epoch 30/50, Loss: 232.2614\n",
      "Epoch 31/50, Loss: 232.2204\n",
      "Epoch 32/50, Loss: 232.1545\n",
      "Epoch 33/50, Loss: 232.1480\n",
      "Epoch 34/50, Loss: 232.1473\n",
      "Epoch 35/50, Loss: 232.1903\n",
      "Epoch 36/50, Loss: 232.0934\n",
      "Epoch 37/50, Loss: 231.9814\n",
      "Epoch 38/50, Loss: 232.0816\n",
      "Epoch 39/50, Loss: 231.9815\n",
      "Epoch 40/50, Loss: 231.9906\n",
      "Epoch 41/50, Loss: 231.8905\n",
      "Epoch 42/50, Loss: 232.0192\n",
      "Epoch 43/50, Loss: 231.7696\n",
      "Epoch 44/50, Loss: 231.8529\n",
      "Epoch 45/50, Loss: 231.7419\n",
      "Epoch 46/50, Loss: 231.7265\n",
      "Epoch 47/50, Loss: 231.7816\n",
      "Epoch 48/50, Loss: 231.8741\n",
      "Epoch 49/50, Loss: 231.4388\n",
      "Epoch 50/50, Loss: 231.6423\n",
      "Saved latent to: latent_db\\latent_512.npy\n"
     ]
    }
   ],
   "source": [
    "dims_to_run = [512]\n",
    "\n",
    "for dim in dims_to_run:\n",
    "    run_and_save_latent(adata, latent_dim=dim)\n"
   ]
  },
  {
   "cell_type": "code",
   "execution_count": null,
   "id": "2743ff71",
   "metadata": {},
   "outputs": [
    {
     "data": {
      "text/html": [
       "<div>\n",
       "<style scoped>\n",
       "    .dataframe tbody tr th:only-of-type {\n",
       "        vertical-align: middle;\n",
       "    }\n",
       "\n",
       "    .dataframe tbody tr th {\n",
       "        vertical-align: top;\n",
       "    }\n",
       "\n",
       "    .dataframe thead th {\n",
       "        text-align: right;\n",
       "    }\n",
       "</style>\n",
       "<table border=\"1\" class=\"dataframe\">\n",
       "  <thead>\n",
       "    <tr style=\"text-align: right;\">\n",
       "      <th></th>\n",
       "      <th>H0</th>\n",
       "      <th>H1</th>\n",
       "      <th>H2</th>\n",
       "    </tr>\n",
       "  </thead>\n",
       "  <tbody>\n",
       "    <tr>\n",
       "      <th>2</th>\n",
       "      <td>1000</td>\n",
       "      <td>231</td>\n",
       "      <td>2</td>\n",
       "    </tr>\n",
       "    <tr>\n",
       "      <th>4</th>\n",
       "      <td>1000</td>\n",
       "      <td>344</td>\n",
       "      <td>34</td>\n",
       "    </tr>\n",
       "    <tr>\n",
       "      <th>8</th>\n",
       "      <td>1000</td>\n",
       "      <td>253</td>\n",
       "      <td>18</td>\n",
       "    </tr>\n",
       "    <tr>\n",
       "      <th>16</th>\n",
       "      <td>1000</td>\n",
       "      <td>102</td>\n",
       "      <td>2</td>\n",
       "    </tr>\n",
       "    <tr>\n",
       "      <th>32</th>\n",
       "      <td>1000</td>\n",
       "      <td>126</td>\n",
       "      <td>3</td>\n",
       "    </tr>\n",
       "    <tr>\n",
       "      <th>64</th>\n",
       "      <td>1000</td>\n",
       "      <td>154</td>\n",
       "      <td>5</td>\n",
       "    </tr>\n",
       "    <tr>\n",
       "      <th>128</th>\n",
       "      <td>1000</td>\n",
       "      <td>88</td>\n",
       "      <td>1</td>\n",
       "    </tr>\n",
       "    <tr>\n",
       "      <th>256</th>\n",
       "      <td>1000</td>\n",
       "      <td>46</td>\n",
       "      <td>2</td>\n",
       "    </tr>\n",
       "    <tr>\n",
       "      <th>512</th>\n",
       "      <td>1000</td>\n",
       "      <td>56</td>\n",
       "      <td>0</td>\n",
       "    </tr>\n",
       "  </tbody>\n",
       "</table>\n",
       "</div>"
      ],
      "text/plain": [
       "       H0   H1  H2\n",
       "2    1000  231   2\n",
       "4    1000  344  34\n",
       "8    1000  253  18\n",
       "16   1000  102   2\n",
       "32   1000  126   3\n",
       "64   1000  154   5\n",
       "128  1000   88   1\n",
       "256  1000   46   2\n",
       "512  1000   56   0"
      ]
     },
     "metadata": {},
     "output_type": "display_data"
    }
   ],
   "source": [
    "import os\n",
    "import numpy as np\n",
    "import pandas as pd\n",
    "from ripser import ripser\n",
    "from collections import defaultdict\n",
    "import matplotlib.pyplot as plt\n",
    "\n",
    "latent_dims = [512, 256, 128, 64, 32, 16, 8, 4, 2]\n",
    "latent_dir = \"latent_db\"\n",
    "\n",
    "betti_results = defaultdict(dict)\n",
    "\n",
    "for dim in latent_dims:\n",
    "    file_path = os.path.join(latent_dir, f\"latent_{dim}.npy\")\n",
    "    if os.path.exists(file_path):\n",
    "        latent = np.load(file_path)\n",
    "        subset = latent[:1000]  \n",
    "        result = ripser(subset, maxdim=2)\n",
    "        diagrams = result['dgms']\n",
    "        betti_counts = [len(dgm) for dgm in diagrams]\n",
    "        betti_results[dim] = {\n",
    "            \"H0\": betti_counts[0] if len(betti_counts) > 0 else 0,\n",
    "            \"H1\": betti_counts[1] if len(betti_counts) > 1 else 0,\n",
    "            \"H2\": betti_counts[2] if len(betti_counts) > 2 else 0,\n",
    "        }\n",
    "    else:\n",
    "        print(f\"文件不存在: {file_path}\")\n",
    "\n",
    "df_betti = pd.DataFrame.from_dict(betti_results, orient=\"index\")\n",
    "df_betti = df_betti.sort_index()\n",
    "display(df_betti)"
   ]
  },
  {
   "cell_type": "code",
   "execution_count": null,
   "id": "5c2e7669",
   "metadata": {},
   "outputs": [
    {
     "name": "stderr",
     "output_type": "stream",
     "text": [
      "C:\\Users\\Laplace\\AppData\\Roaming\\Python\\Python313\\site-packages\\anndata\\_core\\anndata.py:1758: UserWarning: Variable names are not unique. To make them unique, call `.var_names_make_unique`.\n",
      "  utils.warn_names_duplicates(\"var\")\n",
      "C:\\Users\\Laplace\\AppData\\Roaming\\Python\\Python313\\site-packages\\anndata\\_core\\anndata.py:1758: UserWarning: Variable names are not unique. To make them unique, call `.var_names_make_unique`.\n",
      "  utils.warn_names_duplicates(\"var\")\n",
      "C:\\Users\\Laplace\\AppData\\Roaming\\Python\\Python313\\site-packages\\ripser\\ripser.py:253: UserWarning: The input point cloud has more columns than rows; did you mean to transpose?\n",
      "  warnings.warn(\n"
     ]
    },
    {
     "data": {
      "image/png": "[encoded data removed]",
      "text/plain": [
       "<Figure size 640x480 with 1 Axes>"
      ]
     },
     "metadata": {},
     "output_type": "display_data"
    },
    {
     "name": "stdout",
     "output_type": "stream",
     "text": [
      "Betti numbers of adata.X: H0=500, H1=218, H2=48\n"
     ]
    }
   ],
   "source": [
    "import scanpy as sc\n",
    "from ripser import ripser\n",
    "from persim import plot_diagrams\n",
    "import numpy as np\n",
    "\n",
    "adata = sc.read_10x_h5(\"data/Parent_NGSC3_DI_PBMC_filtered_feature_bc_matrix.h5\")\n",
    "adata.var_names_make_unique()\n",
    "\n",
    "subset = adata.X[:500].toarray()\n",
    "\n",
    "result = ripser(subset, maxdim=2)\n",
    "diagrams = result['dgms']\n",
    "\n",
    "plot_diagrams(diagrams, show=True, title=\"Persistence Diagram of Original adata.X\")\n",
    "\n",
    "betti_counts = [len(diag) for diag in diagrams]\n",
    "print(f\"Betti numbers of adata.X: H0={betti_counts[0]}, H1={betti_counts[1]}, H2={betti_counts[2]}\")\n"
   ]
  },
  {
   "cell_type": "code",
   "execution_count": 9,
   "id": "13f0e512",
   "metadata": {},
   "outputs": [
    {
     "data": {
      "text/html": [
       "<div>\n",
       "<style scoped>\n",
       "    .dataframe tbody tr th:only-of-type {\n",
       "        vertical-align: middle;\n",
       "    }\n",
       "\n",
       "    .dataframe tbody tr th {\n",
       "        vertical-align: top;\n",
       "    }\n",
       "\n",
       "    .dataframe thead th {\n",
       "        text-align: right;\n",
       "    }\n",
       "</style>\n",
       "<table border=\"1\" class=\"dataframe\">\n",
       "  <thead>\n",
       "    <tr style=\"text-align: right;\">\n",
       "      <th></th>\n",
       "      <th>gene_ids</th>\n",
       "      <th>feature_types</th>\n",
       "      <th>genome</th>\n",
       "    </tr>\n",
       "  </thead>\n",
       "  <tbody>\n",
       "    <tr>\n",
       "      <th>MIR1302-2HG</th>\n",
       "      <td>ENSG00000243485</td>\n",
       "      <td>Gene Expression</td>\n",
       "      <td>GRCh38</td>\n",
       "    </tr>\n",
       "    <tr>\n",
       "      <th>FAM138A</th>\n",
       "      <td>ENSG00000237613</td>\n",
       "      <td>Gene Expression</td>\n",
       "      <td>GRCh38</td>\n",
       "    </tr>\n",
       "    <tr>\n",
       "      <th>OR4F5</th>\n",
       "      <td>ENSG00000186092</td>\n",
       "      <td>Gene Expression</td>\n",
       "      <td>GRCh38</td>\n",
       "    </tr>\n",
       "    <tr>\n",
       "      <th>AL627309.1</th>\n",
       "      <td>ENSG00000238009</td>\n",
       "      <td>Gene Expression</td>\n",
       "      <td>GRCh38</td>\n",
       "    </tr>\n",
       "    <tr>\n",
       "      <th>AL627309.3</th>\n",
       "      <td>ENSG00000239945</td>\n",
       "      <td>Gene Expression</td>\n",
       "      <td>GRCh38</td>\n",
       "    </tr>\n",
       "    <tr>\n",
       "      <th>...</th>\n",
       "      <td>...</td>\n",
       "      <td>...</td>\n",
       "      <td>...</td>\n",
       "    </tr>\n",
       "    <tr>\n",
       "      <th>AC141272.1</th>\n",
       "      <td>ENSG00000277836</td>\n",
       "      <td>Gene Expression</td>\n",
       "      <td>GRCh38</td>\n",
       "    </tr>\n",
       "    <tr>\n",
       "      <th>AC023491.2</th>\n",
       "      <td>ENSG00000278633</td>\n",
       "      <td>Gene Expression</td>\n",
       "      <td>GRCh38</td>\n",
       "    </tr>\n",
       "    <tr>\n",
       "      <th>AC007325.1</th>\n",
       "      <td>ENSG00000276017</td>\n",
       "      <td>Gene Expression</td>\n",
       "      <td>GRCh38</td>\n",
       "    </tr>\n",
       "    <tr>\n",
       "      <th>AC007325.4</th>\n",
       "      <td>ENSG00000278817</td>\n",
       "      <td>Gene Expression</td>\n",
       "      <td>GRCh38</td>\n",
       "    </tr>\n",
       "    <tr>\n",
       "      <th>AC007325.2</th>\n",
       "      <td>ENSG00000277196</td>\n",
       "      <td>Gene Expression</td>\n",
       "      <td>GRCh38</td>\n",
       "    </tr>\n",
       "  </tbody>\n",
       "</table>\n",
       "<p>36601 rows × 3 columns</p>\n",
       "</div>"
      ],
      "text/plain": [
       "                    gene_ids    feature_types  genome\n",
       "MIR1302-2HG  ENSG00000243485  Gene Expression  GRCh38\n",
       "FAM138A      ENSG00000237613  Gene Expression  GRCh38\n",
       "OR4F5        ENSG00000186092  Gene Expression  GRCh38\n",
       "AL627309.1   ENSG00000238009  Gene Expression  GRCh38\n",
       "AL627309.3   ENSG00000239945  Gene Expression  GRCh38\n",
       "...                      ...              ...     ...\n",
       "AC141272.1   ENSG00000277836  Gene Expression  GRCh38\n",
       "AC023491.2   ENSG00000278633  Gene Expression  GRCh38\n",
       "AC007325.1   ENSG00000276017  Gene Expression  GRCh38\n",
       "AC007325.4   ENSG00000278817  Gene Expression  GRCh38\n",
       "AC007325.2   ENSG00000277196  Gene Expression  GRCh38\n",
       "\n",
       "[36601 rows x 3 columns]"
      ]
     },
     "execution_count": 9,
     "metadata": {},
     "output_type": "execute_result"
    }
   ],
   "source": [
    "adata.var\n"
   ]
  },
  {
   "cell_type": "markdown",
   "id": "7f2d7013",
   "metadata": {},
   "source": [
    "discrete_morse_skeleton"
   ]
  },
  {
   "cell_type": "code",
   "execution_count": null,
   "id": "3641c6f5",
   "metadata": {},
   "outputs": [],
   "source": [
    "import numpy as np\n",
    "from dm_yw import yw_morse_skeleton\n",
    "from dm_full import visualize_graph3d   \n",
    "\n",
    "theta = np.linspace(0, 6*np.pi, 2000)\n",
    "x, y = np.cos(theta), np.sin(theta)\n",
    "z = np.linspace(-6, 6, 2000)\n",
    "pts = np.c_[x, y, z] + 0.02 * np.random.randn(2000, 3)\n",
    "\n",
    "\n"
   ]
  },
  {
   "cell_type": "code",
   "execution_count": 2,
   "id": "19d478e3",
   "metadata": {},
   "outputs": [
    {
     "data": {
      "application/vnd.plotly.v1+json": {
       "config": {
        "plotlyServerURL": "https://plot.ly"
       },
       "data": [
        {
         "marker": {
          "color": "rgba(120,120,120,0.25)",
          "size": 2
         },
         "mode": "markers",
         "showlegend": false,
         "type": "scatter3d",
         "x": {
          "bdata": "Higg7TRp6j8Brhye8gPsv6HZvIi9vdk/r7K3m7WL7L/cgUC6JA7vPxs2Vmpsh8Q/V3wFuzNa0b9Jkrna7e/YP0/hOdvsC+6/w9NWxG+h8L/8Nu5/i/nuv7nk+qy22t+/Tv7kLMQ97b/eXd2tXpTvP4oJ5NUyFeW/FUKIgoOk6r+0P8x6YijuP8VW94czXvA/YyySqgDS6T8l/z9x6eXvvwHBCttoG++/SPCZa0uJ6j8JmRw7xN3jv7OU7Db+0Oq/2fh+g4bptz++nF5cxXPevxeSnRH7TuK/nIftXPQO6j950zZu4aPZP/SSFa/47e+/F0nVs6DSyr/vttjNAbK7vz04PXgFoeS/cMpIbKQg7T+rnXpbiSXvv2PR0rLv+Oq/OjxLAVkl4r8bxW2nSJzVP+4ezA4wp+I/yDdAykAa8L+fBG8xPVLgP+0bWdgBhvA/tvPCgG9h8D9CKyDCnNfkvyoN+DHayr4/FEJTzVgj4L+WjoSw6c3VP+FcuBF6pNw/hefeKGiz778zuaf1myzuv3vaHi3SYOA/mc+ULLA64r8RagKK6DTvPzr/EG+f59O/Vlph3iqW7j/gJcoWJtXQP5GItbtyOem/QkXV+Q+Q4z9MOHuxj3HkP2h6a6R1mOG/ovEhlpzfzr92kBpQdm7iP1ECYO9YtN0/kauQ/sos8L8IYcrKyWncv5bYg9MME/A/AyHpe8ShxL8gWzwKOurRv9IxCKyY0e6/FYQVFFZp7b/fR16KjUHMP2GiMOJOre8/H2jr991R3r9oBLuZo9jlvz2m7wqRHfA/AsUweoXe5b8SlkpShw3mP9olNDRPjea/rwl9xiY3z7+om09Scd+tPxd8hwurUe4/c8FUcmAU6j8BWDAHJxrEP5eo4UZ+G++/telITg12ub+QNTcDiWvRP+GnsTmfoOI/sYEQRV7l5z/2iE2yaLbdv3U8qaGINPC/13v1vFMF5j8X5TxXFLzUv05ePjfqSO6/OWwOCdnH7b+jcyAEk23Ov4cMACygH+4/iH4eoA8+5b9/oBeZRkvsP3Sx6Do5Ouc/edWLXuRu5b8=",
          "dtype": "f8"
         },
         "y": {
          "bdata": "5Ld/ftik4z9BJU5yzZ/ev88P2l4t4O2/gXiub3uk1r8rE+AAZ2rJP7rBTHSixO4/+Z0OxzMi7j+KdIEMUMfsP9SO+dDGxtG/7JRpD0Jfgz8ETypd6M3Sv0UqGvcOI+u/BZyNdMGa2z8FCKTCiFuivzZTeoZ8P+k/qr9a3tjL4L/MQxMwHVW/v9okBBleZ6C/IVEecVFs5D/IpBWo+cPOv7hv9QptUce/EaGtiuM44L9d3f9DbGbpP9I/ISol794/snbc6M4t7798I1SoCY7sP2an84kf1uq/+Yr8s+Lw4r/mSc4sFaTtv4HDr/JSLcU/A40CZFFQ7r+V82a3lq/vP3Yamv3mQec/QX+/jVuK3L8rUuz1GebDPwJoNUxt8+C/q0k60MmY6j/zwJAh6S/tv6Lnajuogui/VlT1sF/Vnb/WLSBpS9Prv6aQcGkyspS/YD4RJ3/Orr+9QGHIxrboP3qZ2tazOfA/yIwEtBSQ7D9bJj68l4HuP4hCsPjMcey/H1R2r6rnor/RnfI56z/PPy9jvrG1ieu/TjJoV9ei7D9/eV7DWuvGv58nQ+lS5e2/K2YOXB4P0L+Amcr4Zxnvv2jdRQ8b/+M/L9mKvmux6D+hVbb0BIjoP60wwMmGmeu/sZNI5g8s779xvH8IjDbqv1UCwxFEO+w/qD8B2kNbwD9+0+vEp5nsP2Tw0RUxv8y/Nas8Gu+A7r95hHJvXE/vvyLwaXvLSNO/fdqi0nno2j+fkpFsiQnwP0xbZUZp5sc/vfxQ8cap7D9LkP8sNKPlP2yzV7fxg7K/GkJ0Esel6L8dydyTlwXmP0wYOBg7cOY/PnG940gP7j+qnQVadF/wPwiHkCP6c9G/8dbiFdmd3z+rmZW6Vzbwv/bWnuJGc9S/osud9DbC7z/ONV7g1l/vPzDJfDbRxeo/6ePHwmVq5b+34YZPNFvtvw3vNwgVusi/0SOG9GDr5j+ViygbZ5XuPyWNvy9zv9U/FEX4AifR2r8diGa4eKnvP1zkYEPwfdI/EmXm/gEU6L+4QRzuUvjgPwtzFrZzF+Y/FE1dnhfu5z8=",
          "dtype": "f8"
         },
         "z": {
          "bdata": "hQLh4KQN+r/49GgibKENwKessRnf8hRAaSJFO6lXzD9evEZAlQD+v188da2VVxTAWB6FUz1X6r8sV48ndAUVwC2WeoK1kBBA3JLyxq9vir/ICglRw6LBP2emTg4q0QrAGNtFP4grEcA9dV51Ly4AQJ0cxYGdQBLArlhoi/eJEUCPZR7zvOgAwFO13Lz54hdACPb9BXBlA0DkZEeIJ6gOwKHmujtnXhBA+76eZ1/x+j8wiT/waFYSwIFvurvMjtS/HyddZz1QFEC67G7YKbUSwMC0U0IHFeQ/BzhF94EbA8A50cHw0asFwPBOe2U6XcK/RLtak+ibE0BJqBWq1mEIQC1nGL86/hHAe2EVejFRAsCDYr6QyEMQwKR6EHzQdhFAGTyuR4vvCkAl97/gZRwGwO2N6TDGpRVAiA8zqU78oT9lquHaqmX1PzpFyFeo2xdAFaZ4QE9f/z8A7zDr2w/iv9pW7/fRRhTAzLAC25CMEsAsSmpnR7EUwN//5AFs9AXA+Tg7iNrcD8B6g+eqvY8OQPv7zRo81vU/vHXKrsu8CkDdQ5oRlKP+P9MZ05V6MxNASITplf9oAcCi6o1Hg5kGwCknP9AivwxAwMI4usHu9r/b7V7c/Yv2v1vQ5FhCwgrAaZARm4A0CcC9xlYTiAn2Pzdh5fMcSQVAbN1M7xNfEMDHP8GTnCwKQPb/qSYDiv0/RT+AoVRuE0DqayGvn1nqP15b1EostRBA5FDqmJbp0L+VQU7QMq0GQHRcu3q7Jv6/UFp2mcvUEsCl7PXijr7gv6dokl9l0RdAWy5RDMvqC8D/jdDOheQDQEvVsbsJGAxAkEMSdDRQ6r+7Yfgwmsrwv0NFYKmLjAHAldv2/mq0AkBzI9c7GXEUQAuFy6PoxhBAahAO3aePE8CrCUEX+KwUwN5A9deVmva/sdRoAAHtA8CeNub70eUSQOrNXz4Bxg7AB38X4JTp978lsIJmrbEJQHWu1DqdrM6/ncZZ5gDoDcAkZa4cN4YJQA6WxWLscgFAXfhHNEErEkBHJPVyU54WwM6vaLOa5RXAdrQAXnO0C0A=",
          "dtype": "f8"
         }
        },
        {
         "line": {
          "color": "crimson",
          "width": 2
         },
         "mode": "lines",
         "showlegend": false,
         "type": "scatter3d",
         "x": [
          0.050002584360648195,
          0.06805718952913309
         ],
         "y": [
          -1.1448157535479608,
          -1.1448157535479608
         ],
         "z": [
          2.0229296389770877,
          2.0229296389770877
         ]
        },
        {
         "line": {
          "color": "crimson",
          "width": 2
         },
         "mode": "lines",
         "showlegend": false,
         "type": "scatter3d",
         "x": [
          0.2847124515509518,
          0.2666578463824669
         ],
         "y": [
          1.15600255462534,
          1.15600255462534
         ],
         "z": [
          3.783227752399993,
          3.783227752399993
         ]
        },
        {
         "line": {
          "color": "crimson",
          "width": 2
         },
         "mode": "lines",
         "showlegend": false,
         "type": "scatter3d",
         "x": [
          -1.1416013567593553,
          -1.1416013567593553
         ],
         "y": [
          0.30451861380529976,
          0.2864019342133839
         ],
         "z": [
          0.7803662647962133,
          0.7803662647962133
         ]
        },
        {
         "line": {
          "color": "crimson",
          "width": 2
         },
         "mode": "lines",
         "showlegend": false,
         "type": "scatter3d",
         "x": [
          0.050002584360648195,
          0.0319479791921633
         ],
         "y": [
          1.15600255462534,
          1.15600255462534
         ],
         "z": [
          -4.086340284078877,
          -4.086340284078877
         ]
        },
        {
         "line": {
          "color": "crimson",
          "width": 2
         },
         "mode": "lines",
         "showlegend": false,
         "type": "scatter3d",
         "x": [
          0.3930400825618614,
          0.3930400825618614
         ],
         "y": [
          1.15600255462534,
          1.15600255462534
         ],
         "z": [
          -2.0154013271107534,
          -1.9118543792623468
         ]
        },
        {
         "line": {
          "color": "crimson",
          "width": 2
         },
         "mode": "lines",
         "showlegend": false,
         "type": "scatter3d",
         "x": [
          -1.1416013567593553,
          -1.1416013567593553
         ],
         "y": [
          0.30451861380529976,
          0.2864019342133839
         ],
         "z": [
          4.818697230884055,
          4.818697230884055
         ]
        },
        {
         "line": {
          "color": "crimson",
          "width": 2
         },
         "mode": "lines",
         "showlegend": false,
         "type": "scatter3d",
         "x": [
          0.4110946877303463,
          0.3930400825618614
         ],
         "y": [
          1.15600255462534,
          1.15600255462534
         ],
         "z": [
          3.6796808045515856,
          3.6796808045515856
         ]
        },
        {
         "line": {
          "color": "crimson",
          "width": 2
         },
         "mode": "lines",
         "showlegend": false,
         "type": "scatter3d",
         "x": [
          -1.1416013567593553,
          -1.1416013567593553
         ],
         "y": [
          0.1958185362538052,
          0.1777018566618893
         ],
         "z": [
          0.8839132126446199,
          0.8839132126446199
         ]
        },
        {
         "line": {
          "color": "crimson",
          "width": 2
         },
         "mode": "lines",
         "showlegend": false,
         "type": "scatter3d",
         "x": [
          -0.004161231144806488,
          0.013893374023678406
         ],
         "y": [
          -1.1448157535479608,
          -1.1448157535479608
         ],
         "z": [
          5.957713657216523,
          5.957713657216523
         ]
        },
        {
         "line": {
          "color": "crimson",
          "width": 2
         },
         "mode": "lines",
         "showlegend": false,
         "type": "scatter3d",
         "x": [
          0.2847124515509518,
          0.2666578463824669
         ],
         "y": [
          1.15600255462534,
          1.15600255462534
         ],
         "z": [
          -4.189887231927283,
          -4.189887231927283
         ]
        },
        {
         "line": {
          "color": "crimson",
          "width": 2
         },
         "mode": "lines",
         "showlegend": false,
         "type": "scatter3d",
         "x": [
          -0.3291441241775347,
          -0.3110895190090498
         ],
         "y": [
          -1.1448157535479608,
          -1.1448157535479608
         ],
         "z": [
          5.75061976151971,
          5.75061976151971
         ]
        },
        {
         "line": {
          "color": "crimson",
          "width": 2
         },
         "mode": "lines",
         "showlegend": false,
         "type": "scatter3d",
         "x": [
          0.21249403087701224,
          0.19443942570852735
         ],
         "y": [
          1.15600255462534,
          1.15600255462534
         ],
         "z": [
          -0.15155626583944226,
          -0.15155626583944226
         ]
        },
        {
         "line": {
          "color": "crimson",
          "width": 2
         },
         "mode": "lines",
         "showlegend": false,
         "type": "scatter3d",
         "x": [
          1.151333499638227,
          1.133278894469742
         ],
         "y": [
          0.26828525462146824,
          0.26828525462146824
         ],
         "z": [
          -0.9799318486266912,
          -0.9799318486266912
         ]
        },
        {
         "line": {
          "color": "crimson",
          "width": 2
         },
         "mode": "lines",
         "showlegend": false,
         "type": "scatter3d",
         "x": [
          -0.18470728282965554,
          -0.16665267766117065
         ],
         "y": [
          -1.1448157535479608,
          -1.1448157535479608
         ],
         "z": [
          -2.11894827495916,
          -2.11894827495916
         ]
        },
        {
         "line": {
          "color": "crimson",
          "width": 2
         },
         "mode": "lines",
         "showlegend": false,
         "type": "scatter3d",
         "x": [
          1.151333499638227,
          1.151333499638227
         ],
         "y": [
          0.39510201176487847,
          0.3769853321729628
         ],
         "z": [
          -5.018262814714532,
          -5.018262814714532
         ]
        },
        {
         "line": {
          "color": "crimson",
          "width": 2
         },
         "mode": "lines",
         "showlegend": false,
         "type": "scatter3d",
         "x": [
          1.151333499638227,
          1.151333499638227
         ],
         "y": [
          -0.2570984535440888,
          -0.23898177395217302
         ],
         "z": [
          -1.1870257443235035,
          -1.1870257443235035
         ]
        },
        {
         "line": {
          "color": "crimson",
          "width": 2
         },
         "mode": "lines",
         "showlegend": false,
         "type": "scatter3d",
         "x": [
          1.1152242893012572,
          1.0971696841327723
         ],
         "y": [
          0.3407519729891313,
          0.3407519729891313
         ],
         "z": [
          -4.914715866866127,
          -4.914715866866127
         ]
        },
        {
         "line": {
          "color": "crimson",
          "width": 2
         },
         "mode": "lines",
         "showlegend": false,
         "type": "scatter3d",
         "x": [
          -0.11248886215571585,
          -0.13054346732420075
         ],
         "y": [
          1.15600255462534,
          1.15600255462534
         ],
         "z": [
          3.9903216480968045,
          3.9903216480968045
         ]
        },
        {
         "line": {
          "color": "crimson",
          "width": 2
         },
         "mode": "lines",
         "showlegend": false,
         "type": "scatter3d",
         "x": [
          0.0319479791921633,
          0.013893374023678406
         ],
         "y": [
          -1.1448157535479608,
          -1.1448157535479608
         ],
         "z": [
          1.919382691128682,
          1.919382691128682
         ]
        },
        {
         "line": {
          "color": "crimson",
          "width": 2
         },
         "mode": "lines",
         "showlegend": false,
         "type": "scatter3d",
         "x": [
          -0.040270441481776276,
          -0.040270441481776276
         ],
         "y": [
          -0.8005988413015614,
          -0.8005988413015614
         ],
         "z": [
          5.75061976151971,
          5.647072813671304
         ]
        },
        {
         "line": {
          "color": "crimson",
          "width": 2
         },
         "mode": "lines",
         "showlegend": false,
         "type": "scatter3d",
         "x": [
          1.0430058686273176,
          1.0430058686273176
         ],
         "y": [
          -0.6194320453824038,
          -0.601315365790488
         ],
         "z": [
          6.578995344306959,
          6.578995344306959
         ]
        },
        {
         "line": {
          "color": "crimson",
          "width": 2
         },
         "mode": "lines",
         "showlegend": false,
         "type": "scatter3d",
         "x": [
          -0.004161231144806488,
          -0.004161231144806488
         ],
         "y": [
          -0.8005988413015614,
          -0.8005988413015614
         ],
         "z": [
          4.197415543793618,
          4.300962491642023
         ]
        },
        {
         "line": {
          "color": "crimson",
          "width": 2
         },
         "mode": "lines",
         "showlegend": false,
         "type": "scatter3d",
         "x": [
          0.050002584360648195,
          0.0319479791921633
         ],
         "y": [
          1.15600255462534,
          1.15600255462534
         ],
         "z": [
          -0.048009317991035694,
          -0.048009317991035694
         ]
        },
        {
         "line": {
          "color": "crimson",
          "width": 2
         },
         "mode": "lines",
         "showlegend": false,
         "type": "scatter3d",
         "x": [
          -0.3110895190090498,
          -0.2930349138405649
         ],
         "y": [
          -1.1448157535479608,
          -1.1448157535479608
         ],
         "z": [
          -2.2224952228075656,
          -2.2224952228075656
         ]
        },
        {
         "line": {
          "color": "crimson",
          "width": 2
         },
         "mode": "lines",
         "showlegend": false,
         "type": "scatter3d",
         "x": [
          1.151333499638227,
          1.133278894469742
         ],
         "y": [
          0.25016857502955236,
          0.25016857502955236
         ],
         "z": [
          -0.9799318486266912,
          -0.9799318486266912
         ]
        },
        {
         "line": {
          "color": "crimson",
          "width": 2
         },
         "mode": "lines",
         "showlegend": false,
         "type": "scatter3d",
         "x": [
          -0.41941715001995916,
          -0.40136254485147427
         ],
         "y": [
          -1.1448157535479608,
          -1.1448157535479608
         ],
         "z": [
          1.7122887954318688,
          1.7122887954318688
         ]
        },
        {
         "line": {
          "color": "crimson",
          "width": 2
         },
         "mode": "lines",
         "showlegend": false,
         "type": "scatter3d",
         "x": [
          -1.1416013567593553,
          -1.1416013567593553
         ],
         "y": [
          0.2320518954376367,
          0.21393521584572084
         ],
         "z": [
          -3.154417753443221,
          -3.154417753443221
         ]
        },
        {
         "line": {
          "color": "crimson",
          "width": 2
         },
         "mode": "lines",
         "showlegend": false,
         "type": "scatter3d",
         "x": [
          1.151333499638227,
          1.151333499638227
         ],
         "y": [
          -0.3476818515036675,
          -0.3295651719117517
         ],
         "z": [
          2.747758273915931,
          2.747758273915931
         ]
        },
        {
         "line": {
          "color": "crimson",
          "width": 2
         },
         "mode": "lines",
         "showlegend": false,
         "type": "scatter3d",
         "x": [
          0.8263506066054989,
          0.8444052117739838
         ],
         "y": [
          0.1777018566618893,
          0.1777018566618893
         ],
         "z": [
          6.578995344306959,
          6.578995344306959
         ]
        },
        {
         "line": {
          "color": "crimson",
          "width": 2
         },
         "mode": "lines",
         "showlegend": false,
         "type": "scatter3d",
         "x": [
          1.151333499638227,
          1.151333499638227
         ],
         "y": [
          -0.18463173517642573,
          -0.16651505558450996
         ],
         "z": [
          2.8513052217643367,
          2.8513052217643367
         ]
        },
        {
         "line": {
          "color": "crimson",
          "width": 2
         },
         "mode": "lines",
         "showlegend": false,
         "type": "scatter3d",
         "x": [
          -0.09443425698723096,
          -0.07637965181874606
         ],
         "y": [
          1.15600255462534,
          1.15600255462534
         ],
         "z": [
          3.8867747002483988,
          3.8867747002483988
         ]
        },
        {
         "line": {
          "color": "crimson",
          "width": 2
         },
         "mode": "lines",
         "showlegend": false,
         "type": "scatter3d",
         "x": [
          -1.1416013567593553,
          -1.1416013567593553
         ],
         "y": [
          -0.1483983759925942,
          -0.13028169640067855
         ],
         "z": [
          -3.050870805594815,
          -3.050870805594815
         ]
        },
        {
         "line": {
          "color": "crimson",
          "width": 2
         },
         "mode": "lines",
         "showlegend": false,
         "type": "scatter3d",
         "x": [
          0.4472038980673161,
          0.4472038980673161
         ],
         "y": [
          -1.1448157535479608,
          -1.1448157535479608
         ],
         "z": [
          6.061260605064929,
          5.957713657216523
         ]
        },
        {
         "line": {
          "color": "crimson",
          "width": 2
         },
         "mode": "lines",
         "showlegend": false,
         "type": "scatter3d",
         "x": [
          -1.1416013567593553,
          -1.1416013567593553
         ],
         "y": [
          -0.057814978033015496,
          -0.07593165762493115
         ],
         "z": [
          0.9874601604930255,
          0.9874601604930255
         ]
        },
        {
         "line": {
          "color": "crimson",
          "width": 2
         },
         "mode": "lines",
         "showlegend": false,
         "type": "scatter3d",
         "x": [
          0.3208216618879218,
          0.30276705671943693
         ],
         "y": [
          1.15600255462534,
          1.15600255462534
         ],
         "z": [
          -4.293434179775689,
          -4.293434179775689
         ]
        },
        {
         "line": {
          "color": "crimson",
          "width": 2
         },
         "mode": "lines",
         "showlegend": false,
         "type": "scatter3d",
         "x": [
          1.133278894469742,
          1.133278894469742
         ],
         "y": [
          0.43133537094871,
          0.41321869135679434
         ],
         "z": [
          -6.5714670324406255,
          -6.5714670324406255
         ]
        },
        {
         "line": {
          "color": "crimson",
          "width": 2
         },
         "mode": "lines",
         "showlegend": false,
         "type": "scatter3d",
         "x": [
          -1.1416013567593553,
          -1.1416013567593553
         ],
         "y": [
          0.08711845870231061,
          0.06900177911039496
         ],
         "z": [
          4.922244178732461,
          4.922244178732461
         ]
        },
        {
         "line": {
          "color": "crimson",
          "width": 2
         },
         "mode": "lines",
         "showlegend": false,
         "type": "scatter3d",
         "x": [
          -1.1416013567593553,
          -1.1416013567593553
         ],
         "y": [
          0.10523513829422648,
          0.08711845870231061
         ],
         "z": [
          -3.050870805594815,
          -3.050870805594815
         ]
        },
        {
         "line": {
          "color": "crimson",
          "width": 2
         },
         "mode": "lines",
         "showlegend": false,
         "type": "scatter3d",
         "x": [
          -0.18470728282965554,
          -0.16665267766117065
         ],
         "y": [
          -1.1448157535479608,
          -1.1448157535479608
         ],
         "z": [
          1.919382691128682,
          1.919382691128682
         ]
        },
        {
         "line": {
          "color": "crimson",
          "width": 2
         },
         "mode": "lines",
         "showlegend": false,
         "type": "scatter3d",
         "x": [
          1.151333499638227,
          1.151333499638227
         ],
         "y": [
          -0.03969829844109962,
          -0.02158161884918397
         ],
         "z": [
          2.954852169612744,
          2.954852169612744
         ]
        },
        {
         "line": {
          "color": "crimson",
          "width": 2
         },
         "mode": "lines",
         "showlegend": false,
         "type": "scatter3d",
         "x": [
          -0.27498030867208,
          -0.2569257035035951
         ],
         "y": [
          -1.1448157535479608,
          -1.1448157535479608
         ],
         "z": [
          1.8158357432802745,
          1.8158357432802745
         ]
        },
        {
         "line": {
          "color": "crimson",
          "width": 2
         },
         "mode": "lines",
         "showlegend": false,
         "type": "scatter3d",
         "x": [
          -1.1416013567593553,
          -1.1416013567593553
         ],
         "y": [
          -0.07593165762493115,
          -0.09404833721684702
         ],
         "z": [
          5.025791126580867,
          5.025791126580867
         ]
        },
        {
         "line": {
          "color": "crimson",
          "width": 2
         },
         "mode": "lines",
         "showlegend": false,
         "type": "scatter3d",
         "x": [
          0.4110946877303463,
          0.3930400825618614
         ],
         "y": [
          -1.1448157535479608,
          -1.1448157535479608
         ],
         "z": [
          2.0229296389770877,
          2.0229296389770877
         ]
        },
        {
         "line": {
          "color": "crimson",
          "width": 2
         },
         "mode": "lines",
         "showlegend": false,
         "type": "scatter3d",
         "x": [
          -0.20276188799814043,
          -0.18470728282965554
         ],
         "y": [
          -1.1448157535479608,
          -1.1448157535479608
         ],
         "z": [
          5.854166709368116,
          5.854166709368116
         ]
        },
        {
         "line": {
          "color": "crimson",
          "width": 2
         },
         "mode": "lines",
         "showlegend": false,
         "type": "scatter3d",
         "x": [
          -0.22081649316662533,
          -0.22081649316662533
         ],
         "y": [
          1.15600255462534,
          1.1378858750334244
         ],
         "z": [
          -3.9827933362304706,
          -3.9827933362304706
         ]
        },
        {
         "line": {
          "color": "crimson",
          "width": 2
         },
         "mode": "lines",
         "showlegend": false,
         "type": "scatter3d",
         "x": [
          -0.41941715001995916,
          -0.40136254485147427
         ],
         "y": [
          -0.9636489576288032,
          -0.9636489576288032
         ],
         "z": [
          1.7122887954318688,
          1.7122887954318688
         ]
        },
        {
         "line": {
          "color": "crimson",
          "width": 2
         },
         "mode": "lines",
         "showlegend": false,
         "type": "scatter3d",
         "x": [
          1.0971696841327723,
          1.0971696841327723
         ],
         "y": [
          -0.5469653270147409,
          -0.5288486474228251
         ],
         "z": [
          6.578995344306959,
          6.578995344306959
         ]
        },
        {
         "line": {
          "color": "crimson",
          "width": 2
         },
         "mode": "lines",
         "showlegend": false,
         "type": "scatter3d",
         "x": [
          -0.20276188799814043,
          -0.20276188799814043
         ],
         "y": [
          1.15600255462534,
          1.1378858750334244
         ],
         "z": [
          -3.9827933362304706,
          -3.9827933362304706
         ]
        },
        {
         "line": {
          "color": "crimson",
          "width": 2
         },
         "mode": "lines",
         "showlegend": false,
         "type": "scatter3d",
         "x": [
          1.1152242893012572,
          1.0971696841327723
         ],
         "y": [
          0.3226352933972154,
          0.3226352933972154
         ],
         "z": [
          -4.914715866866127,
          -4.914715866866127
         ]
        },
        {
         "line": {
          "color": "crimson",
          "width": 2
         },
         "mode": "lines",
         "showlegend": false,
         "type": "scatter3d",
         "x": [
          1.151333499638227,
          1.151333499638227
         ],
         "y": [
          -0.11216501680876267,
          -0.09404833721684702
         ],
         "z": [
          -1.0834787964750978,
          -1.0834787964750978
         ]
        },
        {
         "line": {
          "color": "crimson",
          "width": 2
         },
         "mode": "lines",
         "showlegend": false,
         "type": "scatter3d",
         "x": [
          0.12222100503458777,
          0.10416639986610288
         ],
         "y": [
          1.15600255462534,
          1.15600255462534
         ],
         "z": [
          3.8867747002483988,
          3.8867747002483988
         ]
        },
        {
         "line": {
          "color": "crimson",
          "width": 2
         },
         "mode": "lines",
         "showlegend": false,
         "type": "scatter3d",
         "x": [
          0.013893374023678406,
          0.0319479791921633
         ],
         "y": [
          -1.1448157535479608,
          -1.1448157535479608
         ],
         "z": [
          -2.0154013271107534,
          -2.0154013271107534
         ]
        },
        {
         "line": {
          "color": "crimson",
          "width": 2
         },
         "mode": "lines",
         "showlegend": false,
         "type": "scatter3d",
         "x": [
          -0.41941715001995916,
          -0.40136254485147427
         ],
         "y": [
          -0.981765637220719,
          -0.981765637220719
         ],
         "z": [
          1.7122887954318688,
          1.7122887954318688
         ]
        },
        {
         "line": {
          "color": "crimson",
          "width": 2
         },
         "mode": "lines",
         "showlegend": false,
         "type": "scatter3d",
         "x": [
          -1.1416013567593553,
          -1.1416013567593553
         ],
         "y": [
          -0.42014856987133054,
          -0.40203189027941477
         ],
         "z": [
          5.025791126580867,
          5.025791126580867
         ]
        },
        {
         "line": {
          "color": "crimson",
          "width": 2
         },
         "mode": "lines",
         "showlegend": false,
         "type": "scatter3d",
         "x": [
          -0.40136254485147427,
          -0.3833079396829894
         ],
         "y": [
          -1.1448157535479608,
          -1.1448157535479608
         ],
         "z": [
          5.647072813671304,
          5.647072813671304
         ]
        },
        {
         "line": {
          "color": "crimson",
          "width": 2
         },
         "mode": "lines",
         "showlegend": false,
         "type": "scatter3d",
         "x": [
          1.133278894469742,
          1.133278894469742
         ],
         "y": [
          -0.4382652494632463,
          -0.42014856987133054
         ],
         "z": [
          6.578995344306959,
          6.578995344306959
         ]
        },
        {
         "line": {
          "color": "crimson",
          "width": 2
         },
         "mode": "lines",
         "showlegend": false,
         "type": "scatter3d",
         "x": [
          1.151333499638227,
          1.151333499638227
         ],
         "y": [
          -0.057814978033015496,
          -0.03969829844109962
         ],
         "z": [
          -5.018262814714532,
          -5.018262814714532
         ]
        },
        {
         "line": {
          "color": "crimson",
          "width": 2
         },
         "mode": "lines",
         "showlegend": false,
         "type": "scatter3d",
         "x": [
          -1.1416013567593553,
          -1.1416013567593553
         ],
         "y": [
          0.3769853321729628,
          0.35886865258104694
         ],
         "z": [
          4.715150283035648,
          4.715150283035648
         ]
        },
        {
         "line": {
          "color": "crimson",
          "width": 2
         },
         "mode": "lines",
         "showlegend": false,
         "type": "scatter3d",
         "x": [
          1.1152242893012572,
          1.1152242893012572
         ],
         "y": [
          -0.4744986086470778,
          -0.45638192905516206
         ],
         "z": [
          6.578995344306959,
          6.578995344306959
         ]
        },
        {
         "line": {
          "color": "crimson",
          "width": 2
         },
         "mode": "lines",
         "showlegend": false,
         "type": "scatter3d",
         "x": [
          -1.1416013567593553,
          -1.1416013567593553
         ],
         "y": [
          -0.4926152882389936,
          -0.4926152882389936
         ],
         "z": [
          0.9874601604930255,
          1.091007108341432
         ]
        },
        {
         "line": {
          "color": "crimson",
          "width": 2
         },
         "mode": "lines",
         "showlegend": false,
         "type": "scatter3d",
         "x": [
          -1.1416013567593553,
          -1.1416013567593553
         ],
         "y": [
          -0.4926152882389936,
          -0.4744986086470778
         ],
         "z": [
          1.091007108341432,
          0.9874601604930255
         ]
        },
        {
         "line": {
          "color": "crimson",
          "width": 2
         },
         "mode": "lines",
         "showlegend": false,
         "type": "scatter3d",
         "x": [
          -1.1416013567593553,
          -1.1416013567593553
         ],
         "y": [
          -0.4744986086470778,
          -0.45638192905516206
         ],
         "z": [
          1.091007108341432,
          0.9874601604930255
         ]
        },
        {
         "line": {
          "color": "crimson",
          "width": 2
         },
         "mode": "lines",
         "showlegend": false,
         "type": "scatter3d",
         "x": [
          -1.1235467515908704,
          -1.1235467515908704
         ],
         "y": [
          -0.4382652494632463,
          -0.4382652494632463
         ],
         "z": [
          -2.947323857746409,
          -2.843776909898003
         ]
        },
        {
         "line": {
          "color": "crimson",
          "width": 2
         },
         "mode": "lines",
         "showlegend": false,
         "type": "scatter3d",
         "x": [
          -1.1416013567593553,
          -1.1416013567593553
         ],
         "y": [
          -0.45638192905516206,
          -0.4382652494632463
         ],
         "z": [
          1.091007108341432,
          0.9874601604930255
         ]
        },
        {
         "line": {
          "color": "crimson",
          "width": 2
         },
         "mode": "lines",
         "showlegend": false,
         "type": "scatter3d",
         "x": [
          -1.1416013567593553,
          -1.1416013567593553
         ],
         "y": [
          -0.42014856987133054,
          -0.4382652494632463
         ],
         "z": [
          0.9874601604930255,
          1.091007108341432
         ]
        },
        {
         "line": {
          "color": "crimson",
          "width": 2
         },
         "mode": "lines",
         "showlegend": false,
         "type": "scatter3d",
         "x": [
          -1.1416013567593553,
          -1.1416013567593553
         ],
         "y": [
          -0.42014856987133054,
          -0.40203189027941477
         ],
         "z": [
          1.091007108341432,
          0.9874601604930255
         ]
        },
        {
         "line": {
          "color": "crimson",
          "width": 2
         },
         "mode": "lines",
         "showlegend": false,
         "type": "scatter3d",
         "x": [
          -1.1416013567593553,
          -1.1416013567593553
         ],
         "y": [
          -0.40203189027941477,
          -0.383915210687499
         ],
         "z": [
          1.091007108341432,
          0.9874601604930255
         ]
        },
        {
         "line": {
          "color": "crimson",
          "width": 2
         },
         "mode": "lines",
         "showlegend": false,
         "type": "scatter3d",
         "x": [
          -1.1416013567593553,
          -1.1416013567593553
         ],
         "y": [
          -0.40203189027941477,
          -0.383915210687499
         ],
         "z": [
          5.129338074429272,
          5.025791126580867
         ]
        },
        {
         "line": {
          "color": "crimson",
          "width": 2
         },
         "mode": "lines",
         "showlegend": false,
         "type": "scatter3d",
         "x": [
          -1.1416013567593553,
          -1.1416013567593553
         ],
         "y": [
          -0.383915210687499,
          -0.36579853109558325
         ],
         "z": [
          1.091007108341432,
          0.9874601604930255
         ]
        },
        {
         "line": {
          "color": "crimson",
          "width": 2
         },
         "mode": "lines",
         "showlegend": false,
         "type": "scatter3d",
         "x": [
          -1.1416013567593553,
          -1.1416013567593553
         ],
         "y": [
          -0.36579853109558325,
          -0.383915210687499
         ],
         "z": [
          5.025791126580867,
          5.129338074429272
         ]
        },
        {
         "line": {
          "color": "crimson",
          "width": 2
         },
         "mode": "lines",
         "showlegend": false,
         "type": "scatter3d",
         "x": [
          -1.1416013567593553,
          -1.1416013567593553
         ],
         "y": [
          -0.36579853109558325,
          -0.3476818515036675
         ],
         "z": [
          5.129338074429272,
          5.025791126580867
         ]
        },
        {
         "line": {
          "color": "crimson",
          "width": 2
         },
         "mode": "lines",
         "showlegend": false,
         "type": "scatter3d",
         "x": [
          -1.1416013567593553,
          -1.1416013567593553
         ],
         "y": [
          -0.31144849231983596,
          -0.3295651719117517
         ],
         "z": [
          1.091007108341432,
          0.9874601604930255
         ]
        },
        {
         "line": {
          "color": "crimson",
          "width": 2
         },
         "mode": "lines",
         "showlegend": false,
         "type": "scatter3d",
         "x": [
          -1.1416013567593553,
          -1.1416013567593553
         ],
         "y": [
          -0.31144849231983596,
          -0.2933318127279202
         ],
         "z": [
          1.091007108341432,
          0.9874601604930255
         ]
        },
        {
         "line": {
          "color": "crimson",
          "width": 2
         },
         "mode": "lines",
         "showlegend": false,
         "type": "scatter3d",
         "x": [
          -1.1416013567593553,
          -1.1416013567593553
         ],
         "y": [
          -0.3476818515036675,
          -0.3295651719117517
         ],
         "z": [
          5.129338074429272,
          5.025791126580867
         ]
        },
        {
         "line": {
          "color": "crimson",
          "width": 2
         },
         "mode": "lines",
         "showlegend": false,
         "type": "scatter3d",
         "x": [
          -1.1416013567593553,
          -1.1416013567593553
         ],
         "y": [
          -0.31144849231983596,
          -0.3295651719117517
         ],
         "z": [
          5.025791126580867,
          5.129338074429272
         ]
        },
        {
         "line": {
          "color": "crimson",
          "width": 2
         },
         "mode": "lines",
         "showlegend": false,
         "type": "scatter3d",
         "x": [
          -1.1416013567593553,
          -1.1416013567593553
         ],
         "y": [
          -0.31144849231983596,
          -0.2933318127279202
         ],
         "z": [
          5.129338074429272,
          5.025791126580867
         ]
        },
        {
         "line": {
          "color": "crimson",
          "width": 2
         },
         "mode": "lines",
         "showlegend": false,
         "type": "scatter3d",
         "x": [
          -1.1416013567593553,
          -1.1416013567593553
         ],
         "y": [
          -0.27521513313600454,
          -0.2933318127279202
         ],
         "z": [
          0.9874601604930255,
          1.091007108341432
         ]
        },
        {
         "line": {
          "color": "crimson",
          "width": 2
         },
         "mode": "lines",
         "showlegend": false,
         "type": "scatter3d",
         "x": [
          -1.1416013567593553,
          -1.1416013567593553
         ],
         "y": [
          -0.27521513313600454,
          -0.2933318127279202
         ],
         "z": [
          5.025791126580867,
          5.129338074429272
         ]
        },
        {
         "line": {
          "color": "crimson",
          "width": 2
         },
         "mode": "lines",
         "showlegend": false,
         "type": "scatter3d",
         "x": [
          -1.1416013567593553,
          -1.1416013567593553
         ],
         "y": [
          -0.27521513313600454,
          -0.2570984535440888
         ],
         "z": [
          1.091007108341432,
          0.9874601604930255
         ]
        },
        {
         "line": {
          "color": "crimson",
          "width": 2
         },
         "mode": "lines",
         "showlegend": false,
         "type": "scatter3d",
         "x": [
          -1.1416013567593553,
          -1.1416013567593553
         ],
         "y": [
          -0.27521513313600454,
          -0.2570984535440888
         ],
         "z": [
          5.129338074429272,
          5.025791126580867
         ]
        },
        {
         "line": {
          "color": "crimson",
          "width": 2
         },
         "mode": "lines",
         "showlegend": false,
         "type": "scatter3d",
         "x": [
          -1.1416013567593553,
          -1.1416013567593553
         ],
         "y": [
          -0.22086509436025725,
          -0.2027484147683415
         ],
         "z": [
          0.9874601604930255,
          1.091007108341432
         ]
        },
        {
         "line": {
          "color": "crimson",
          "width": 2
         },
         "mode": "lines",
         "showlegend": false,
         "type": "scatter3d",
         "x": [
          -1.1416013567593553,
          -1.1416013567593553
         ],
         "y": [
          -0.22086509436025725,
          -0.2027484147683415
         ],
         "z": [
          5.025791126580867,
          5.129338074429272
         ]
        },
        {
         "line": {
          "color": "crimson",
          "width": 2
         },
         "mode": "lines",
         "showlegend": false,
         "type": "scatter3d",
         "x": [
          -1.1416013567593553,
          -1.1416013567593553
         ],
         "y": [
          -0.2027484147683415,
          -0.18463173517642573
         ],
         "z": [
          0.9874601604930255,
          1.091007108341432
         ]
        },
        {
         "line": {
          "color": "crimson",
          "width": 2
         },
         "mode": "lines",
         "showlegend": false,
         "type": "scatter3d",
         "x": [
          -1.1416013567593553,
          -1.1416013567593553
         ],
         "y": [
          -0.2027484147683415,
          -0.18463173517642573
         ],
         "z": [
          5.025791126580867,
          5.129338074429272
         ]
        },
        {
         "line": {
          "color": "crimson",
          "width": 2
         },
         "mode": "lines",
         "showlegend": false,
         "type": "scatter3d",
         "x": [
          -1.1416013567593553,
          -1.1416013567593553
         ],
         "y": [
          -0.16651505558450996,
          -0.18463173517642573
         ],
         "z": [
          1.091007108341432,
          0.9874601604930255
         ]
        },
        {
         "line": {
          "color": "crimson",
          "width": 2
         },
         "mode": "lines",
         "showlegend": false,
         "type": "scatter3d",
         "x": [
          -1.1416013567593553,
          -1.1416013567593553
         ],
         "y": [
          -0.16651505558450996,
          -0.18463173517642573
         ],
         "z": [
          5.129338074429272,
          5.025791126580867
         ]
        },
        {
         "line": {
          "color": "crimson",
          "width": 2
         },
         "mode": "lines",
         "showlegend": false,
         "type": "scatter3d",
         "x": [
          -1.1416013567593553,
          -1.1416013567593553
         ],
         "y": [
          -0.16651505558450996,
          -0.1483983759925942
         ],
         "z": [
          0.9874601604930255,
          1.091007108341432
         ]
        },
        {
         "line": {
          "color": "crimson",
          "width": 2
         },
         "mode": "lines",
         "showlegend": false,
         "type": "scatter3d",
         "x": [
          -1.1416013567593553,
          -1.1416013567593553
         ],
         "y": [
          -0.16651505558450996,
          -0.1483983759925942
         ],
         "z": [
          5.025791126580867,
          5.129338074429272
         ]
        },
        {
         "line": {
          "color": "crimson",
          "width": 2
         },
         "mode": "lines",
         "showlegend": false,
         "type": "scatter3d",
         "x": [
          -1.1416013567593553,
          -1.1416013567593553
         ],
         "y": [
          -0.1483983759925942,
          -0.13028169640067855
         ],
         "z": [
          0.9874601604930255,
          1.091007108341432
         ]
        },
        {
         "line": {
          "color": "crimson",
          "width": 2
         },
         "mode": "lines",
         "showlegend": false,
         "type": "scatter3d",
         "x": [
          -1.1416013567593553,
          -1.1416013567593553
         ],
         "y": [
          -0.1483983759925942,
          -0.13028169640067855
         ],
         "z": [
          5.025791126580867,
          5.129338074429272
         ]
        },
        {
         "line": {
          "color": "crimson",
          "width": 2
         },
         "mode": "lines",
         "showlegend": false,
         "type": "scatter3d",
         "x": [
          -1.1416013567593553,
          -1.1416013567593553
         ],
         "y": [
          -0.11216501680876267,
          -0.13028169640067855
         ],
         "z": [
          1.091007108341432,
          0.9874601604930255
         ]
        },
        {
         "line": {
          "color": "crimson",
          "width": 2
         },
         "mode": "lines",
         "showlegend": false,
         "type": "scatter3d",
         "x": [
          -1.1416013567593553,
          -1.1416013567593553
         ],
         "y": [
          -0.11216501680876267,
          -0.13028169640067855
         ],
         "z": [
          5.129338074429272,
          5.025791126580867
         ]
        },
        {
         "line": {
          "color": "crimson",
          "width": 2
         },
         "mode": "lines",
         "showlegend": false,
         "type": "scatter3d",
         "x": [
          -1.1416013567593553,
          -1.1416013567593553
         ],
         "y": [
          -0.13028169640067855,
          -0.11216501680876267
         ],
         "z": [
          -2.947323857746409,
          -3.050870805594815
         ]
        },
        {
         "line": {
          "color": "crimson",
          "width": 2
         },
         "mode": "lines",
         "showlegend": false,
         "type": "scatter3d",
         "x": [
          -1.1416013567593553,
          -1.1416013567593553
         ],
         "y": [
          -0.11216501680876267,
          -0.09404833721684702
         ],
         "z": [
          0.9874601604930255,
          1.091007108341432
         ]
        },
        {
         "line": {
          "color": "crimson",
          "width": 2
         },
         "mode": "lines",
         "showlegend": false,
         "type": "scatter3d",
         "x": [
          -1.1416013567593553,
          -1.1416013567593553
         ],
         "y": [
          -0.11216501680876267,
          -0.09404833721684702
         ],
         "z": [
          5.025791126580867,
          5.129338074429272
         ]
        },
        {
         "line": {
          "color": "crimson",
          "width": 2
         },
         "mode": "lines",
         "showlegend": false,
         "type": "scatter3d",
         "x": [
          -1.1416013567593553,
          -1.1416013567593553
         ],
         "y": [
          -0.11216501680876267,
          -0.09404833721684702
         ],
         "z": [
          -2.947323857746409,
          -3.050870805594815
         ]
        },
        {
         "line": {
          "color": "crimson",
          "width": 2
         },
         "mode": "lines",
         "showlegend": false,
         "type": "scatter3d",
         "x": [
          -1.1416013567593553,
          -1.1416013567593553
         ],
         "y": [
          -0.07593165762493115,
          -0.09404833721684702
         ],
         "z": [
          1.091007108341432,
          0.9874601604930255
         ]
        },
        {
         "line": {
          "color": "crimson",
          "width": 2
         },
         "mode": "lines",
         "showlegend": false,
         "type": "scatter3d",
         "x": [
          -1.1416013567593553,
          -1.1416013567593553
         ],
         "y": [
          -0.03969829844109962,
          -0.057814978033015496
         ],
         "z": [
          -2.947323857746409,
          -3.050870805594815
         ]
        },
        {
         "line": {
          "color": "crimson",
          "width": 2
         },
         "mode": "lines",
         "showlegend": false,
         "type": "scatter3d",
         "x": [
          -1.1416013567593553,
          -1.1416013567593553
         ],
         "y": [
          -0.02158161884918397,
          -0.03969829844109962
         ],
         "z": [
          -2.947323857746409,
          -3.050870805594815
         ]
        },
        {
         "line": {
          "color": "crimson",
          "width": 2
         },
         "mode": "lines",
         "showlegend": false,
         "type": "scatter3d",
         "x": [
          -1.1416013567593553,
          -1.1416013567593553
         ],
         "y": [
          -0.02158161884918397,
          -0.03969829844109962
         ],
         "z": [
          5.025791126580867,
          4.922244178732461
         ]
        },
        {
         "line": {
          "color": "crimson",
          "width": 2
         },
         "mode": "lines",
         "showlegend": false,
         "type": "scatter3d",
         "x": [
          -1.1416013567593553,
          -1.1416013567593553
         ],
         "y": [
          -0.02158161884918397,
          -0.003464939257268096
         ],
         "z": [
          -3.050870805594815,
          -2.947323857746409
         ]
        },
        {
         "line": {
          "color": "crimson",
          "width": 2
         },
         "mode": "lines",
         "showlegend": false,
         "type": "scatter3d",
         "x": [
          -1.1416013567593553,
          -1.1416013567593553
         ],
         "y": [
          -0.003464939257268096,
          -0.02158161884918397
         ],
         "z": [
          5.025791126580867,
          4.922244178732461
         ]
        },
        {
         "line": {
          "color": "crimson",
          "width": 2
         },
         "mode": "lines",
         "showlegend": false,
         "type": "scatter3d",
         "x": [
          -1.1416013567593553,
          -1.1416013567593553
         ],
         "y": [
          0.014651740334647556,
          -0.003464939257268096
         ],
         "z": [
          -2.947323857746409,
          -3.050870805594815
         ]
        },
        {
         "line": {
          "color": "crimson",
          "width": 2
         },
         "mode": "lines",
         "showlegend": false,
         "type": "scatter3d",
         "x": [
          -1.1416013567593553,
          -1.1416013567593553
         ],
         "y": [
          -0.003464939257268096,
          0.014651740334647556
         ],
         "z": [
          4.922244178732461,
          5.025791126580867
         ]
        },
        {
         "line": {
          "color": "crimson",
          "width": 2
         },
         "mode": "lines",
         "showlegend": false,
         "type": "scatter3d",
         "x": [
          -1.1416013567593553,
          -1.1416013567593553
         ],
         "y": [
          0.014651740334647556,
          0.03276841992656343
         ],
         "z": [
          -3.050870805594815,
          -2.947323857746409
         ]
        },
        {
         "line": {
          "color": "crimson",
          "width": 2
         },
         "mode": "lines",
         "showlegend": false,
         "type": "scatter3d",
         "x": [
          -1.1416013567593553,
          -1.1416013567593553
         ],
         "y": [
          0.03276841992656343,
          0.014651740334647556
         ],
         "z": [
          5.025791126580867,
          4.922244178732461
         ]
        },
        {
         "line": {
          "color": "crimson",
          "width": 2
         },
         "mode": "lines",
         "showlegend": false,
         "type": "scatter3d",
         "x": [
          -1.1416013567593553,
          -1.1416013567593553
         ],
         "y": [
          0.03276841992656343,
          0.05088509951847908
         ],
         "z": [
          -3.050870805594815,
          -2.947323857746409
         ]
        },
        {
         "line": {
          "color": "crimson",
          "width": 2
         },
         "mode": "lines",
         "showlegend": false,
         "type": "scatter3d",
         "x": [
          -1.1416013567593553,
          -1.1416013567593553
         ],
         "y": [
          0.05088509951847908,
          0.03276841992656343
         ],
         "z": [
          5.025791126580867,
          4.922244178732461
         ]
        },
        {
         "line": {
          "color": "crimson",
          "width": 2
         },
         "mode": "lines",
         "showlegend": false,
         "type": "scatter3d",
         "x": [
          -1.1416013567593553,
          -1.1416013567593553
         ],
         "y": [
          0.06900177911039496,
          0.05088509951847908
         ],
         "z": [
          -2.947323857746409,
          -3.050870805594815
         ]
        },
        {
         "line": {
          "color": "crimson",
          "width": 2
         },
         "mode": "lines",
         "showlegend": false,
         "type": "scatter3d",
         "x": [
          -1.1416013567593553,
          -1.1416013567593553
         ],
         "y": [
          0.06900177911039496,
          0.05088509951847908
         ],
         "z": [
          0.9874601604930255,
          0.8839132126446199
         ]
        },
        {
         "line": {
          "color": "crimson",
          "width": 2
         },
         "mode": "lines",
         "showlegend": false,
         "type": "scatter3d",
         "x": [
          -1.1416013567593553,
          -1.1416013567593553
         ],
         "y": [
          0.05088509951847908,
          0.06900177911039496
         ],
         "z": [
          4.922244178732461,
          5.025791126580867
         ]
        },
        {
         "line": {
          "color": "crimson",
          "width": 2
         },
         "mode": "lines",
         "showlegend": false,
         "type": "scatter3d",
         "x": [
          -1.1416013567593553,
          -1.1416013567593553
         ],
         "y": [
          0.06900177911039496,
          0.08711845870231061
         ],
         "z": [
          -3.050870805594815,
          -2.947323857746409
         ]
        },
        {
         "line": {
          "color": "crimson",
          "width": 2
         },
         "mode": "lines",
         "showlegend": false,
         "type": "scatter3d",
         "x": [
          -1.1416013567593553,
          -1.1416013567593553
         ],
         "y": [
          0.08711845870231061,
          0.06900177911039496
         ],
         "z": [
          0.9874601604930255,
          0.8839132126446199
         ]
        },
        {
         "line": {
          "color": "crimson",
          "width": 2
         },
         "mode": "lines",
         "showlegend": false,
         "type": "scatter3d",
         "x": [
          -1.1416013567593553,
          -1.1416013567593553
         ],
         "y": [
          0.08711845870231061,
          0.10523513829422648
         ],
         "z": [
          0.8839132126446199,
          0.9874601604930255
         ]
        },
        {
         "line": {
          "color": "crimson",
          "width": 2
         },
         "mode": "lines",
         "showlegend": false,
         "type": "scatter3d",
         "x": [
          -1.1416013567593553,
          -1.1416013567593553
         ],
         "y": [
          0.12335181788614213,
          0.10523513829422648
         ],
         "z": [
          0.9874601604930255,
          0.8839132126446199
         ]
        },
        {
         "line": {
          "color": "crimson",
          "width": 2
         },
         "mode": "lines",
         "showlegend": false,
         "type": "scatter3d",
         "x": [
          -1.1416013567593553,
          -1.1416013567593553
         ],
         "y": [
          0.10523513829422648,
          0.12335181788614213
         ],
         "z": [
          4.818697230884055,
          4.922244178732461
         ]
        },
        {
         "line": {
          "color": "crimson",
          "width": 2
         },
         "mode": "lines",
         "showlegend": false,
         "type": "scatter3d",
         "x": [
          -1.1416013567593553,
          -1.1416013567593553
         ],
         "y": [
          0.141468497478058,
          0.12335181788614213
         ],
         "z": [
          -3.050870805594815,
          -3.154417753443221
         ]
        },
        {
         "line": {
          "color": "crimson",
          "width": 2
         },
         "mode": "lines",
         "showlegend": false,
         "type": "scatter3d",
         "x": [
          -1.1416013567593553,
          -1.1416013567593553
         ],
         "y": [
          0.141468497478058,
          0.12335181788614213
         ],
         "z": [
          0.9874601604930255,
          0.8839132126446199
         ]
        },
        {
         "line": {
          "color": "crimson",
          "width": 2
         },
         "mode": "lines",
         "showlegend": false,
         "type": "scatter3d",
         "x": [
          -1.1416013567593553,
          -1.1416013567593553
         ],
         "y": [
          0.141468497478058,
          0.12335181788614213
         ],
         "z": [
          4.922244178732461,
          4.818697230884055
         ]
        },
        {
         "line": {
          "color": "crimson",
          "width": 2
         },
         "mode": "lines",
         "showlegend": false,
         "type": "scatter3d",
         "x": [
          -1.1416013567593553,
          -1.1416013567593553
         ],
         "y": [
          0.141468497478058,
          0.15958517706997366
         ],
         "z": [
          -3.154417753443221,
          -3.050870805594815
         ]
        },
        {
         "line": {
          "color": "crimson",
          "width": 2
         },
         "mode": "lines",
         "showlegend": false,
         "type": "scatter3d",
         "x": [
          -1.1416013567593553,
          -1.1416013567593553
         ],
         "y": [
          0.141468497478058,
          0.15958517706997366
         ],
         "z": [
          0.8839132126446199,
          0.9874601604930255
         ]
        },
        {
         "line": {
          "color": "crimson",
          "width": 2
         },
         "mode": "lines",
         "showlegend": false,
         "type": "scatter3d",
         "x": [
          -1.1416013567593553,
          -1.1416013567593553
         ],
         "y": [
          0.141468497478058,
          0.15958517706997366
         ],
         "z": [
          4.818697230884055,
          4.922244178732461
         ]
        },
        {
         "line": {
          "color": "crimson",
          "width": 2
         },
         "mode": "lines",
         "showlegend": false,
         "type": "scatter3d",
         "x": [
          -1.1416013567593553,
          -1.1416013567593553
         ],
         "y": [
          0.1777018566618893,
          0.15958517706997366
         ],
         "z": [
          -3.050870805594815,
          -3.154417753443221
         ]
        },
        {
         "line": {
          "color": "crimson",
          "width": 2
         },
         "mode": "lines",
         "showlegend": false,
         "type": "scatter3d",
         "x": [
          -1.1416013567593553,
          -1.1416013567593553
         ],
         "y": [
          0.1777018566618893,
          0.15958517706997366
         ],
         "z": [
          0.9874601604930255,
          0.8839132126446199
         ]
        },
        {
         "line": {
          "color": "crimson",
          "width": 2
         },
         "mode": "lines",
         "showlegend": false,
         "type": "scatter3d",
         "x": [
          -1.1416013567593553,
          -1.1416013567593553
         ],
         "y": [
          0.15958517706997366,
          0.1777018566618893
         ],
         "z": [
          4.818697230884055,
          4.922244178732461
         ]
        },
        {
         "line": {
          "color": "crimson",
          "width": 2
         },
         "mode": "lines",
         "showlegend": false,
         "type": "scatter3d",
         "x": [
          -1.1416013567593553,
          -1.1416013567593553
         ],
         "y": [
          0.1777018566618893,
          0.1958185362538052
         ],
         "z": [
          -3.154417753443221,
          -3.050870805594815
         ]
        },
        {
         "line": {
          "color": "crimson",
          "width": 2
         },
         "mode": "lines",
         "showlegend": false,
         "type": "scatter3d",
         "x": [
          -1.1416013567593553,
          -1.1416013567593553
         ],
         "y": [
          0.1958185362538052,
          0.1777018566618893
         ],
         "z": [
          4.922244178732461,
          4.818697230884055
         ]
        },
        {
         "line": {
          "color": "crimson",
          "width": 2
         },
         "mode": "lines",
         "showlegend": false,
         "type": "scatter3d",
         "x": [
          -1.1416013567593553,
          -1.1416013567593553
         ],
         "y": [
          0.1958185362538052,
          0.21393521584572084
         ],
         "z": [
          -3.154417753443221,
          -3.050870805594815
         ]
        },
        {
         "line": {
          "color": "crimson",
          "width": 2
         },
         "mode": "lines",
         "showlegend": false,
         "type": "scatter3d",
         "x": [
          -1.1416013567593553,
          -1.1416013567593553
         ],
         "y": [
          0.1958185362538052,
          0.21393521584572084
         ],
         "z": [
          4.818697230884055,
          4.922244178732461
         ]
        },
        {
         "line": {
          "color": "crimson",
          "width": 2
         },
         "mode": "lines",
         "showlegend": false,
         "type": "scatter3d",
         "x": [
          -1.1416013567593553,
          -1.1416013567593553
         ],
         "y": [
          0.2320518954376367,
          0.21393521584572084
         ],
         "z": [
          0.8839132126446199,
          0.7803662647962133
         ]
        },
        {
         "line": {
          "color": "crimson",
          "width": 2
         },
         "mode": "lines",
         "showlegend": false,
         "type": "scatter3d",
         "x": [
          -1.1416013567593553,
          -1.1416013567593553
         ],
         "y": [
          0.2320518954376367,
          0.21393521584572084
         ],
         "z": [
          4.922244178732461,
          4.818697230884055
         ]
        },
        {
         "line": {
          "color": "crimson",
          "width": 2
         },
         "mode": "lines",
         "showlegend": false,
         "type": "scatter3d",
         "x": [
          -1.1416013567593553,
          -1.1416013567593553
         ],
         "y": [
          0.2320518954376367,
          0.25016857502955236
         ],
         "z": [
          0.7803662647962133,
          0.8839132126446199
         ]
        },
        {
         "line": {
          "color": "crimson",
          "width": 2
         },
         "mode": "lines",
         "showlegend": false,
         "type": "scatter3d",
         "x": [
          -1.1416013567593553,
          -1.1416013567593553
         ],
         "y": [
          0.25016857502955236,
          0.2320518954376367
         ],
         "z": [
          4.922244178732461,
          4.818697230884055
         ]
        },
        {
         "line": {
          "color": "crimson",
          "width": 2
         },
         "mode": "lines",
         "showlegend": false,
         "type": "scatter3d",
         "x": [
          -1.1416013567593553,
          -1.1416013567593553
         ],
         "y": [
          0.25016857502955236,
          0.26828525462146824
         ],
         "z": [
          -3.2579647012916273,
          -3.154417753443221
         ]
        },
        {
         "line": {
          "color": "crimson",
          "width": 2
         },
         "mode": "lines",
         "showlegend": false,
         "type": "scatter3d",
         "x": [
          -1.1416013567593553,
          -1.1416013567593553
         ],
         "y": [
          0.25016857502955236,
          0.26828525462146824
         ],
         "z": [
          0.7803662647962133,
          0.8839132126446199
         ]
        },
        {
         "line": {
          "color": "crimson",
          "width": 2
         },
         "mode": "lines",
         "showlegend": false,
         "type": "scatter3d",
         "x": [
          -1.1416013567593553,
          -1.1416013567593553
         ],
         "y": [
          0.25016857502955236,
          0.26828525462146824
         ],
         "z": [
          4.818697230884055,
          4.922244178732461
         ]
        },
        {
         "line": {
          "color": "crimson",
          "width": 2
         },
         "mode": "lines",
         "showlegend": false,
         "type": "scatter3d",
         "x": [
          -1.1416013567593553,
          -1.1416013567593553
         ],
         "y": [
          0.2864019342133839,
          0.26828525462146824
         ],
         "z": [
          -3.154417753443221,
          -3.2579647012916273
         ]
        },
        {
         "line": {
          "color": "crimson",
          "width": 2
         },
         "mode": "lines",
         "showlegend": false,
         "type": "scatter3d",
         "x": [
          -1.1416013567593553,
          -1.1416013567593553
         ],
         "y": [
          0.2864019342133839,
          0.26828525462146824
         ],
         "z": [
          0.8839132126446199,
          0.7803662647962133
         ]
        },
        {
         "line": {
          "color": "crimson",
          "width": 2
         },
         "mode": "lines",
         "showlegend": false,
         "type": "scatter3d",
         "x": [
          -1.1416013567593553,
          -1.1416013567593553
         ],
         "y": [
          0.2864019342133839,
          0.26828525462146824
         ],
         "z": [
          4.922244178732461,
          4.818697230884055
         ]
        },
        {
         "line": {
          "color": "crimson",
          "width": 2
         },
         "mode": "lines",
         "showlegend": false,
         "type": "scatter3d",
         "x": [
          -1.1416013567593553,
          -1.1416013567593553
         ],
         "y": [
          0.2864019342133839,
          0.30451861380529976
         ],
         "z": [
          -3.2579647012916273,
          -3.154417753443221
         ]
        },
        {
         "line": {
          "color": "crimson",
          "width": 2
         },
         "mode": "lines",
         "showlegend": false,
         "type": "scatter3d",
         "x": [
          -1.1416013567593553,
          -1.1416013567593553
         ],
         "y": [
          0.30451861380529976,
          0.3226352933972154
         ],
         "z": [
          -3.2579647012916273,
          -3.154417753443221
         ]
        },
        {
         "line": {
          "color": "crimson",
          "width": 2
         },
         "mode": "lines",
         "showlegend": false,
         "type": "scatter3d",
         "x": [
          -1.1416013567593553,
          -1.1416013567593553
         ],
         "y": [
          0.3407519729891313,
          0.3226352933972154
         ],
         "z": [
          -3.154417753443221,
          -3.2579647012916273
         ]
        },
        {
         "line": {
          "color": "crimson",
          "width": 2
         },
         "mode": "lines",
         "showlegend": false,
         "type": "scatter3d",
         "x": [
          -1.1416013567593553,
          -1.1416013567593553
         ],
         "y": [
          0.3226352933972154,
          0.3407519729891313
         ],
         "z": [
          4.715150283035648,
          4.818697230884055
         ]
        },
        {
         "line": {
          "color": "crimson",
          "width": 2
         },
         "mode": "lines",
         "showlegend": false,
         "type": "scatter3d",
         "x": [
          -1.1416013567593553,
          -1.1416013567593553
         ],
         "y": [
          0.3407519729891313,
          0.35886865258104694
         ],
         "z": [
          -3.2579647012916273,
          -3.154417753443221
         ]
        },
        {
         "line": {
          "color": "crimson",
          "width": 2
         },
         "mode": "lines",
         "showlegend": false,
         "type": "scatter3d",
         "x": [
          -1.1416013567593553,
          -1.1416013567593553
         ],
         "y": [
          0.35886865258104694,
          0.3407519729891313
         ],
         "z": [
          4.818697230884055,
          4.715150283035648
         ]
        },
        {
         "line": {
          "color": "crimson",
          "width": 2
         },
         "mode": "lines",
         "showlegend": false,
         "type": "scatter3d",
         "x": [
          -1.1416013567593553,
          -1.1416013567593553
         ],
         "y": [
          0.39510201176487847,
          0.35886865258104694
         ],
         "z": [
          -3.2579647012916273,
          -3.2579647012916273
         ]
        },
        {
         "line": {
          "color": "crimson",
          "width": 2
         },
         "mode": "lines",
         "showlegend": false,
         "type": "scatter3d",
         "x": [
          -1.1416013567593553,
          -1.1416013567593553
         ],
         "y": [
          0.39510201176487847,
          0.3769853321729628
         ],
         "z": [
          -3.2579647012916273,
          -3.2579647012916273
         ]
        },
        {
         "line": {
          "color": "crimson",
          "width": 2
         },
         "mode": "lines",
         "showlegend": false,
         "type": "scatter3d",
         "x": [
          -1.1416013567593553,
          -1.1416013567593553
         ],
         "y": [
          0.39510201176487847,
          0.43133537094871
         ],
         "z": [
          0.6768193169478076,
          0.6768193169478076
         ]
        },
        {
         "line": {
          "color": "crimson",
          "width": 2
         },
         "mode": "lines",
         "showlegend": false,
         "type": "scatter3d",
         "x": [
          -1.1416013567593553,
          -1.1416013567593553
         ],
         "y": [
          0.43133537094871,
          0.41321869135679434
         ],
         "z": [
          0.6768193169478076,
          0.6768193169478076
         ]
        },
        {
         "line": {
          "color": "crimson",
          "width": 2
         },
         "mode": "lines",
         "showlegend": false,
         "type": "scatter3d",
         "x": [
          -1.1416013567593553,
          -1.1416013567593553
         ],
         "y": [
          0.4675687301325415,
          0.43133537094871
         ],
         "z": [
          4.611603335187242,
          4.611603335187242
         ]
        },
        {
         "line": {
          "color": "crimson",
          "width": 2
         },
         "mode": "lines",
         "showlegend": false,
         "type": "scatter3d",
         "x": [
          -1.1416013567593553,
          -1.1416013567593553
         ],
         "y": [
          0.4675687301325415,
          0.44945205054062565
         ],
         "z": [
          4.611603335187242,
          4.611603335187242
         ]
        },
        {
         "line": {
          "color": "crimson",
          "width": 2
         },
         "mode": "lines",
         "showlegend": false,
         "type": "scatter3d",
         "x": [
          -1.1416013567593553,
          -1.1416013567593553
         ],
         "y": [
          0.4675687301325415,
          0.44945205054062565
         ],
         "z": [
          4.611603335187242,
          4.508056387338836
         ]
        },
        {
         "line": {
          "color": "crimson",
          "width": 2
         },
         "mode": "lines",
         "showlegend": false,
         "type": "scatter3d",
         "x": [
          -1.1416013567593553,
          -1.1416013567593553
         ],
         "y": [
          0.44945205054062565,
          0.4675687301325415
         ],
         "z": [
          2.954852169612744,
          2.954852169612744
         ]
        },
        {
         "line": {
          "color": "crimson",
          "width": 2
         },
         "mode": "lines",
         "showlegend": false,
         "type": "scatter3d",
         "x": [
          -1.1416013567593553,
          -1.1416013567593553
         ],
         "y": [
          0.4675687301325415,
          0.44945205054062565
         ],
         "z": [
          2.954852169612744,
          3.05839911746115
         ]
        },
        {
         "line": {
          "color": "crimson",
          "width": 2
         },
         "mode": "lines",
         "showlegend": false,
         "type": "scatter3d",
         "x": [
          -1.1416013567593553,
          -1.1416013567593553
         ],
         "y": [
          0.44945205054062565,
          0.4675687301325415
         ],
         "z": [
          3.1619460653095555,
          3.05839911746115
         ]
        },
        {
         "line": {
          "color": "crimson",
          "width": 2
         },
         "mode": "lines",
         "showlegend": false,
         "type": "scatter3d",
         "x": [
          -1.1416013567593553,
          -1.1416013567593553
         ],
         "y": [
          0.44945205054062565,
          0.4675687301325415
         ],
         "z": [
          3.265493013157961,
          3.1619460653095555
         ]
        },
        {
         "line": {
          "color": "crimson",
          "width": 2
         },
         "mode": "lines",
         "showlegend": false,
         "type": "scatter3d",
         "x": [
          -1.1416013567593553,
          -1.1416013567593553
         ],
         "y": [
          0.4675687301325415,
          0.44945205054062565
         ],
         "z": [
          3.265493013157961,
          3.3690399610063686
         ]
        },
        {
         "line": {
          "color": "crimson",
          "width": 2
         },
         "mode": "lines",
         "showlegend": false,
         "type": "scatter3d",
         "x": [
          -1.1416013567593553,
          -1.1416013567593553
         ],
         "y": [
          0.44945205054062565,
          0.4675687301325415
         ],
         "z": [
          3.4725869088547743,
          3.3690399610063686
         ]
        },
        {
         "line": {
          "color": "crimson",
          "width": 2
         },
         "mode": "lines",
         "showlegend": false,
         "type": "scatter3d",
         "x": [
          -1.1416013567593553,
          -1.1416013567593553
         ],
         "y": [
          0.44945205054062565,
          0.4675687301325415
         ],
         "z": [
          3.57613385670318,
          3.4725869088547743
         ]
        },
        {
         "line": {
          "color": "crimson",
          "width": 2
         },
         "mode": "lines",
         "showlegend": false,
         "type": "scatter3d",
         "x": [
          -1.1416013567593553,
          -1.1416013567593553
         ],
         "y": [
          0.44945205054062565,
          0.4675687301325415
         ],
         "z": [
          3.6796808045515856,
          3.57613385670318
         ]
        },
        {
         "line": {
          "color": "crimson",
          "width": 2
         },
         "mode": "lines",
         "showlegend": false,
         "type": "scatter3d",
         "x": [
          -1.1416013567593553,
          -1.1416013567593553
         ],
         "y": [
          0.4675687301325415,
          0.44945205054062565
         ],
         "z": [
          3.9903216480968045,
          3.8867747002483988
         ]
        },
        {
         "line": {
          "color": "crimson",
          "width": 2
         },
         "mode": "lines",
         "showlegend": false,
         "type": "scatter3d",
         "x": [
          -1.1416013567593553,
          -1.1416013567593553
         ],
         "y": [
          0.4675687301325415,
          0.44945205054062565
         ],
         "z": [
          4.093868595945212,
          3.9903216480968045
         ]
        },
        {
         "line": {
          "color": "crimson",
          "width": 2
         },
         "mode": "lines",
         "showlegend": false,
         "type": "scatter3d",
         "x": [
          -1.1416013567593553,
          -1.1416013567593553
         ],
         "y": [
          0.44945205054062565,
          0.4675687301325415
         ],
         "z": [
          4.093868595945212,
          4.197415543793618
         ]
        },
        {
         "line": {
          "color": "crimson",
          "width": 2
         },
         "mode": "lines",
         "showlegend": false,
         "type": "scatter3d",
         "x": [
          -1.1416013567593553,
          -1.1416013567593553
         ],
         "y": [
          0.44945205054062565,
          0.4675687301325415
         ],
         "z": [
          4.197415543793618,
          4.300962491642023
         ]
        },
        {
         "line": {
          "color": "crimson",
          "width": 2
         },
         "mode": "lines",
         "showlegend": false,
         "type": "scatter3d",
         "x": [
          -1.1416013567593553,
          -1.1416013567593553
         ],
         "y": [
          0.4675687301325415,
          0.44945205054062565
         ],
         "z": [
          4.404509439490429,
          4.300962491642023
         ]
        },
        {
         "line": {
          "color": "crimson",
          "width": 2
         },
         "mode": "lines",
         "showlegend": false,
         "type": "scatter3d",
         "x": [
          -1.1416013567593553,
          -1.1416013567593553
         ],
         "y": [
          0.4675687301325415,
          0.44945205054062565
         ],
         "z": [
          4.508056387338836,
          4.404509439490429
         ]
        },
        {
         "line": {
          "color": "crimson",
          "width": 2
         },
         "mode": "lines",
         "showlegend": false,
         "type": "scatter3d",
         "x": [
          -1.1054921464223855,
          -1.1054921464223855
         ],
         "y": [
          -0.5469653270147409,
          -0.5469653270147409
         ],
         "z": [
          5.129338074429272,
          5.23288502227768
         ]
        },
        {
         "line": {
          "color": "crimson",
          "width": 2
         },
         "mode": "lines",
         "showlegend": false,
         "type": "scatter3d",
         "x": [
          -1.1054921464223855,
          -1.1054921464223855
         ],
         "y": [
          0.5219187689082887,
          0.503802089316373
         ],
         "z": [
          -3.361511649140034,
          -3.361511649140034
         ]
        },
        {
         "line": {
          "color": "crimson",
          "width": 2
         },
         "mode": "lines",
         "showlegend": false,
         "type": "scatter3d",
         "x": [
          -1.1054921464223855,
          -1.1054921464223855
         ],
         "y": [
          0.5762688076840361,
          0.5581521280921202
         ],
         "z": [
          -1.0834787964750978,
          -1.0834787964750978
         ]
        },
        {
         "line": {
          "color": "crimson",
          "width": 2
         },
         "mode": "lines",
         "showlegend": false,
         "type": "scatter3d",
         "x": [
          -1.1054921464223855,
          -1.1054921464223855
         ],
         "y": [
          0.5762688076840361,
          0.5581521280921202
         ],
         "z": [
          0.573272369099401,
          0.573272369099401
         ]
        },
        {
         "line": {
          "color": "crimson",
          "width": 2
         },
         "mode": "lines",
         "showlegend": false,
         "type": "scatter3d",
         "x": [
          -1.0693829360854157,
          -1.0693829360854157
         ],
         "y": [
          -0.601315365790488,
          -0.601315365790488
         ],
         "z": [
          5.129338074429272,
          5.23288502227768
         ]
        },
        {
         "line": {
          "color": "crimson",
          "width": 2
         },
         "mode": "lines",
         "showlegend": false,
         "type": "scatter3d",
         "x": [
          -1.0693829360854157,
          -1.0693829360854157
         ],
         "y": [
          -0.5831986861985723,
          -0.5831986861985723
         ],
         "z": [
          -2.843776909898003,
          -2.7402299620495967
         ]
        },
        {
         "line": {
          "color": "crimson",
          "width": 2
         },
         "mode": "lines",
         "showlegend": false,
         "type": "scatter3d",
         "x": [
          -1.0693829360854157,
          -1.0693829360854157
         ],
         "y": [
          0.5762688076840361,
          0.5943854872759518
         ],
         "z": [
          -5.121809762562939,
          -5.121809762562939
         ]
        },
        {
         "line": {
          "color": "crimson",
          "width": 2
         },
         "mode": "lines",
         "showlegend": false,
         "type": "scatter3d",
         "x": [
          -1.0693829360854157,
          -1.0693829360854157
         ],
         "y": [
          0.5762688076840361,
          0.5943854872759518
         ],
         "z": [
          -3.46505859698844,
          -3.46505859698844
         ]
        },
        {
         "line": {
          "color": "crimson",
          "width": 2
         },
         "mode": "lines",
         "showlegend": false,
         "type": "scatter3d",
         "x": [
          -1.0693829360854157,
          -1.0693829360854157
         ],
         "y": [
          0.5943854872759518,
          0.6125021668678676
         ],
         "z": [
          0.573272369099401,
          0.573272369099401
         ]
        },
        {
         "line": {
          "color": "crimson",
          "width": 2
         },
         "mode": "lines",
         "showlegend": false,
         "type": "scatter3d",
         "x": [
          -1.0513283309169308,
          -1.0513283309169308
         ],
         "y": [
          -0.6556654045662353,
          -0.6556654045662353
         ],
         "z": [
          1.1945540561898378,
          1.2981010040382444
         ]
        },
        {
         "line": {
          "color": "crimson",
          "width": 2
         },
         "mode": "lines",
         "showlegend": false,
         "type": "scatter3d",
         "x": [
          -1.033273725748446,
          -1.033273725748446
         ],
         "y": [
          -0.6737820841581511,
          -0.6737820841581511
         ],
         "z": [
          -2.7402299620495967,
          -2.843776909898003
         ]
        },
        {
         "line": {
          "color": "crimson",
          "width": 2
         },
         "mode": "lines",
         "showlegend": false,
         "type": "scatter3d",
         "x": [
          -1.033273725748446,
          -1.033273725748446
         ],
         "y": [
          -0.6375487249743196,
          -0.6375487249743196
         ],
         "z": [
          5.23288502227768,
          5.336431970126085
         ]
        },
        {
         "line": {
          "color": "crimson",
          "width": 2
         },
         "mode": "lines",
         "showlegend": false,
         "type": "scatter3d",
         "x": [
          -1.033273725748446,
          -1.033273725748446
         ],
         "y": [
          0.6306188464597833,
          0.6487355260516992
         ],
         "z": [
          -3.46505859698844,
          -3.46505859698844
         ]
        },
        {
         "line": {
          "color": "crimson",
          "width": 2
         },
         "mode": "lines",
         "showlegend": false,
         "type": "scatter3d",
         "x": [
          -1.033273725748446,
          -1.033273725748446
         ],
         "y": [
          0.6849688852355307,
          0.6668522056436148
         ],
         "z": [
          2.8513052217643367,
          2.8513052217643367
         ]
        },
        {
         "line": {
          "color": "crimson",
          "width": 2
         },
         "mode": "lines",
         "showlegend": false,
         "type": "scatter3d",
         "x": [
          -1.033273725748446,
          -1.033273725748446
         ],
         "y": [
          0.6849688852355307,
          0.6668522056436148
         ],
         "z": [
          4.508056387338836,
          4.508056387338836
         ]
        },
        {
         "line": {
          "color": "crimson",
          "width": 2
         },
         "mode": "lines",
         "showlegend": false,
         "type": "scatter3d",
         "x": [
          -1.015219120579961,
          -1.015219120579961
         ],
         "y": [
          0.6849688852355307,
          0.7030855648274463
         ],
         "z": [
          -5.225356710411345,
          -5.225356710411345
         ]
        },
        {
         "line": {
          "color": "crimson",
          "width": 2
         },
         "mode": "lines",
         "showlegend": false,
         "type": "scatter3d",
         "x": [
          -1.015219120579961,
          -1.015219120579961
         ],
         "y": [
          0.6849688852355307,
          0.7030855648274463
         ],
         "z": [
          -3.568605544836846,
          -3.568605544836846
         ]
        },
        {
         "line": {
          "color": "crimson",
          "width": 2
         },
         "mode": "lines",
         "showlegend": false,
         "type": "scatter3d",
         "x": [
          -0.9791099102429912,
          -0.9791099102429912
         ],
         "y": [
          -0.7824821617096457,
          -0.7824821617096457
         ],
         "z": [
          1.2981010040382444,
          1.40164795188665
         ]
        },
        {
         "line": {
          "color": "crimson",
          "width": 2
         },
         "mode": "lines",
         "showlegend": false,
         "type": "scatter3d",
         "x": [
          -0.9791099102429912,
          -0.9791099102429912
         ],
         "y": [
          -0.7643654821177299,
          -0.7643654821177299
         ],
         "z": [
          -2.7402299620495967,
          -2.6366830142011906
         ]
        },
        {
         "line": {
          "color": "crimson",
          "width": 2
         },
         "mode": "lines",
         "showlegend": false,
         "type": "scatter3d",
         "x": [
          -0.9791099102429912,
          -0.9791099102429912
         ],
         "y": [
          0.7393189240112779,
          0.7212022444193622
         ],
         "z": [
          -5.225356710411345,
          -5.225356710411345
         ]
        },
        {
         "line": {
          "color": "crimson",
          "width": 2
         },
         "mode": "lines",
         "showlegend": false,
         "type": "scatter3d",
         "x": [
          -0.9791099102429912,
          -0.9791099102429912
         ],
         "y": [
          0.7393189240112779,
          0.7212022444193622
         ],
         "z": [
          -3.568605544836846,
          -3.568605544836846
         ]
        },
        {
         "line": {
          "color": "crimson",
          "width": 2
         },
         "mode": "lines",
         "showlegend": false,
         "type": "scatter3d",
         "x": [
          -0.9610553050745062,
          -0.9610553050745062
         ],
         "y": [
          0.7212022444193622,
          0.7393189240112779
         ],
         "z": [
          -1.29057269217191,
          -1.29057269217191
         ]
        },
        {
         "line": {
          "color": "crimson",
          "width": 2
         },
         "mode": "lines",
         "showlegend": false,
         "type": "scatter3d",
         "x": [
          -0.9430006999060213,
          -0.9430006999060213
         ],
         "y": [
          -0.8005988413015614,
          -0.8005988413015614
         ],
         "z": [
          -2.7402299620495967,
          -2.6366830142011906
         ]
        },
        {
         "line": {
          "color": "crimson",
          "width": 2
         },
         "mode": "lines",
         "showlegend": false,
         "type": "scatter3d",
         "x": [
          -0.9430006999060213,
          -0.9430006999060213
         ],
         "y": [
          0.7755522831951094,
          0.7574356036031935
         ],
         "z": [
          0.46972542125099537,
          0.46972542125099537
         ]
        },
        {
         "line": {
          "color": "crimson",
          "width": 2
         },
         "mode": "lines",
         "showlegend": false,
         "type": "scatter3d",
         "x": [
          -0.9249460947375364,
          -0.9249460947375364
         ],
         "y": [
          -0.8549488800773086,
          -0.8549488800773086
         ],
         "z": [
          5.336431970126085,
          5.439978917974491
         ]
        },
        {
         "line": {
          "color": "crimson",
          "width": 2
         },
         "mode": "lines",
         "showlegend": false,
         "type": "scatter3d",
         "x": [
          -0.9249460947375364,
          -0.9249460947375364
         ],
         "y": [
          0.8117856423789409,
          0.8299023219708566
         ],
         "z": [
          -3.568605544836846,
          -3.568605544836846
         ]
        },
        {
         "line": {
          "color": "crimson",
          "width": 2
         },
         "mode": "lines",
         "showlegend": false,
         "type": "scatter3d",
         "x": [
          -0.9068914895690515,
          -0.9068914895690515
         ],
         "y": [
          -0.8187155208934771,
          -0.8187155208934771
         ],
         "z": [
          -2.6366830142011906,
          -2.5331360663527844
         ]
        },
        {
         "line": {
          "color": "crimson",
          "width": 2
         },
         "mode": "lines",
         "showlegend": false,
         "type": "scatter3d",
         "x": [
          -0.8888368844005666,
          -0.8888368844005666
         ],
         "y": [
          -0.8730655596692245,
          -0.8730655596692245
         ],
         "z": [
          1.2981010040382444,
          1.40164795188665
         ]
        },
        {
         "line": {
          "color": "crimson",
          "width": 2
         },
         "mode": "lines",
         "showlegend": false,
         "type": "scatter3d",
         "x": [
          -0.8888368844005666,
          -0.8888368844005666
         ],
         "y": [
          0.884252360746604,
          0.9023690403385196
         ],
         "z": [
          -1.29057269217191,
          -1.29057269217191
         ]
        },
        {
         "line": {
          "color": "crimson",
          "width": 2
         },
         "mode": "lines",
         "showlegend": false,
         "type": "scatter3d",
         "x": [
          -0.8888368844005666,
          -0.8888368844005666
         ],
         "y": [
          0.884252360746604,
          0.9023690403385196
         ],
         "z": [
          0.3661784734025888,
          0.3661784734025888
         ]
        },
        {
         "line": {
          "color": "crimson",
          "width": 2
         },
         "mode": "lines",
         "showlegend": false,
         "type": "scatter3d",
         "x": [
          -0.8707822792320817,
          -0.8707822792320817
         ],
         "y": [
          -0.8730655596692245,
          -0.8730655596692245
         ],
         "z": [
          -2.6366830142011906,
          -2.5331360663527844
         ]
        },
        {
         "line": {
          "color": "crimson",
          "width": 2
         },
         "mode": "lines",
         "showlegend": false,
         "type": "scatter3d",
         "x": [
          -0.8707822792320817,
          -0.8707822792320817
         ],
         "y": [
          0.884252360746604,
          0.8661356811546883
         ],
         "z": [
          2.6442113260675253,
          2.6442113260675253
         ]
        },
        {
         "line": {
          "color": "crimson",
          "width": 2
         },
         "mode": "lines",
         "showlegend": false,
         "type": "scatter3d",
         "x": [
          -0.8707822792320817,
          -0.8707822792320817
         ],
         "y": [
          0.884252360746604,
          0.8661356811546883
         ],
         "z": [
          4.300962491642023,
          4.300962491642023
         ]
        },
        {
         "line": {
          "color": "crimson",
          "width": 2
         },
         "mode": "lines",
         "showlegend": false,
         "type": "scatter3d",
         "x": [
          -0.8527276740635968,
          -0.8527276740635968
         ],
         "y": [
          -0.8911822392611402,
          -0.8911822392611402
         ],
         "z": [
          5.336431970126085,
          5.439978917974491
         ]
        },
        {
         "line": {
          "color": "crimson",
          "width": 2
         },
         "mode": "lines",
         "showlegend": false,
         "type": "scatter3d",
         "x": [
          -0.834673068895112,
          -0.834673068895112
         ],
         "y": [
          -0.9455322780368874,
          -0.9455322780368874
         ],
         "z": [
          1.40164795188665,
          1.5051948997350575
         ]
        },
        {
         "line": {
          "color": "crimson",
          "width": 2
         },
         "mode": "lines",
         "showlegend": false,
         "type": "scatter3d",
         "x": [
          -0.834673068895112,
          -0.834673068895112
         ],
         "y": [
          -0.9092989188530559,
          -0.9092989188530559
         ],
         "z": [
          -2.6366830142011906,
          -2.5331360663527844
         ]
        },
        {
         "line": {
          "color": "crimson",
          "width": 2
         },
         "mode": "lines",
         "showlegend": false,
         "type": "scatter3d",
         "x": [
          -0.834673068895112,
          -0.834673068895112
         ],
         "y": [
          0.9204857199304353,
          0.9386023995223514
         ],
         "z": [
          2.6442113260675253,
          2.6442113260675253
         ]
        },
        {
         "line": {
          "color": "crimson",
          "width": 2
         },
         "mode": "lines",
         "showlegend": false,
         "type": "scatter3d",
         "x": [
          -0.834673068895112,
          -0.834673068895112
         ],
         "y": [
          0.9386023995223514,
          0.9204857199304353
         ],
         "z": [
          4.300962491642023,
          4.300962491642023
         ]
        },
        {
         "line": {
          "color": "crimson",
          "width": 2
         },
         "mode": "lines",
         "showlegend": false,
         "type": "scatter3d",
         "x": [
          -0.834673068895112,
          -0.816618463726627
         ],
         "y": [
          0.014651740334647556,
          0.014651740334647556
         ],
         "z": [
          -5.018262814714532,
          -5.018262814714532
         ]
        },
        {
         "line": {
          "color": "crimson",
          "width": 2
         },
         "mode": "lines",
         "showlegend": false,
         "type": "scatter3d",
         "x": [
          -0.834673068895112,
          -0.816618463726627
         ],
         "y": [
          0.03276841992656343,
          0.03276841992656343
         ],
         "z": [
          0.9874601604930255,
          0.9874601604930255
         ]
        },
        {
         "line": {
          "color": "crimson",
          "width": 2
         },
         "mode": "lines",
         "showlegend": false,
         "type": "scatter3d",
         "x": [
          -0.816618463726627,
          -0.7985638585581422
         ],
         "y": [
          -0.09404833721684702,
          -0.09404833721684702
         ],
         "z": [
          -0.8763849007782856,
          -0.8763849007782856
         ]
        },
        {
         "line": {
          "color": "crimson",
          "width": 2
         },
         "mode": "lines",
         "showlegend": false,
         "type": "scatter3d",
         "x": [
          -0.7985638585581422,
          -0.7985638585581422
         ],
         "y": [
          0.9386023995223514,
          0.956719079114267
         ],
         "z": [
          -5.432450606108157,
          -5.432450606108157
         ]
        },
        {
         "line": {
          "color": "crimson",
          "width": 2
         },
         "mode": "lines",
         "showlegend": false,
         "type": "scatter3d",
         "x": [
          -0.7985638585581422,
          -0.816618463726627
         ],
         "y": [
          -0.09404833721684702,
          -0.09404833721684702
         ],
         "z": [
          -0.772837952929879,
          -0.6692910050814733
         ]
        },
        {
         "line": {
          "color": "crimson",
          "width": 2
         },
         "mode": "lines",
         "showlegend": false,
         "type": "scatter3d",
         "x": [
          -0.7985638585581422,
          -0.816618463726627
         ],
         "y": [
          -0.07593165762493115,
          -0.07593165762493115
         ],
         "z": [
          -0.6692910050814733,
          -0.5657440572330668
         ]
        },
        {
         "line": {
          "color": "crimson",
          "width": 2
         },
         "mode": "lines",
         "showlegend": false,
         "type": "scatter3d",
         "x": [
          -0.7985638585581422,
          -0.816618463726627
         ],
         "y": [
          -0.07593165762493115,
          -0.07593165762493115
         ],
         "z": [
          -0.5657440572330668,
          -0.4621971093846611
         ]
        },
        {
         "line": {
          "color": "crimson",
          "width": 2
         },
         "mode": "lines",
         "showlegend": false,
         "type": "scatter3d",
         "x": [
          -0.7985638585581422,
          -0.816618463726627
         ],
         "y": [
          -0.07593165762493115,
          -0.07593165762493115
         ],
         "z": [
          -0.4621971093846611,
          -0.3586501615362545
         ]
        },
        {
         "line": {
          "color": "crimson",
          "width": 2
         },
         "mode": "lines",
         "showlegend": false,
         "type": "scatter3d",
         "x": [
          -0.816618463726627,
          -0.7985638585581422
         ],
         "y": [
          -0.07593165762493115,
          -0.07593165762493115
         ],
         "z": [
          -0.25510321368784794,
          -0.3586501615362545
         ]
        },
        {
         "line": {
          "color": "crimson",
          "width": 2
         },
         "mode": "lines",
         "showlegend": false,
         "type": "scatter3d",
         "x": [
          -0.816618463726627,
          -0.7985638585581422
         ],
         "y": [
          -0.07593165762493115,
          -0.07593165762493115
         ],
         "z": [
          -0.15155626583944226,
          -0.25510321368784794
         ]
        },
        {
         "line": {
          "color": "crimson",
          "width": 2
         },
         "mode": "lines",
         "showlegend": false,
         "type": "scatter3d",
         "x": [
          -0.816618463726627,
          -0.7985638585581422
         ],
         "y": [
          -0.07593165762493115,
          -0.07593165762493115
         ],
         "z": [
          -0.048009317991035694,
          -0.15155626583944226
         ]
        },
        {
         "line": {
          "color": "crimson",
          "width": 2
         },
         "mode": "lines",
         "showlegend": false,
         "type": "scatter3d",
         "x": [
          -0.7985638585581422,
          -0.7805092533896572
         ],
         "y": [
          -0.07593165762493115,
          -0.07593165762493115
         ],
         "z": [
          5.025791126580867,
          5.025791126580867
         ]
        },
        {
         "line": {
          "color": "crimson",
          "width": 2
         },
         "mode": "lines",
         "showlegend": false,
         "type": "scatter3d",
         "x": [
          -0.7985638585581422,
          -0.816618463726627
         ],
         "y": [
          -0.057814978033015496,
          -0.057814978033015496
         ],
         "z": [
          -4.81116891901772,
          -4.7076219711693135
         ]
        },
        {
         "line": {
          "color": "crimson",
          "width": 2
         },
         "mode": "lines",
         "showlegend": false,
         "type": "scatter3d",
         "x": [
          -0.816618463726627,
          -0.7985638585581422
         ],
         "y": [
          -0.057814978033015496,
          -0.057814978033015496
         ],
         "z": [
          0.055537629857369986,
          0.15908457770577655
         ]
        },
        {
         "line": {
          "color": "crimson",
          "width": 2
         },
         "mode": "lines",
         "showlegend": false,
         "type": "scatter3d",
         "x": [
          -0.816618463726627,
          -0.7985638585581422
         ],
         "y": [
          -0.057814978033015496,
          -0.057814978033015496
         ],
         "z": [
          0.15908457770577655,
          0.26263152555418223
         ]
        },
        {
         "line": {
          "color": "crimson",
          "width": 2
         },
         "mode": "lines",
         "showlegend": false,
         "type": "scatter3d",
         "x": [
          -0.816618463726627,
          -0.7985638585581422
         ],
         "y": [
          -0.057814978033015496,
          -0.057814978033015496
         ],
         "z": [
          0.26263152555418223,
          0.3661784734025888
         ]
        },
        {
         "line": {
          "color": "crimson",
          "width": 2
         },
         "mode": "lines",
         "showlegend": false,
         "type": "scatter3d",
         "x": [
          -0.816618463726627,
          -0.7985638585581422
         ],
         "y": [
          -0.057814978033015496,
          -0.057814978033015496
         ],
         "z": [
          0.3661784734025888,
          0.46972542125099537
         ]
        },
        {
         "line": {
          "color": "crimson",
          "width": 2
         },
         "mode": "lines",
         "showlegend": false,
         "type": "scatter3d",
         "x": [
          -0.7985638585581422,
          -0.816618463726627
         ],
         "y": [
          -0.057814978033015496,
          -0.057814978033015496
         ],
         "z": [
          0.573272369099401,
          0.46972542125099537
         ]
        },
        {
         "line": {
          "color": "crimson",
          "width": 2
         },
         "mode": "lines",
         "showlegend": false,
         "type": "scatter3d",
         "x": [
          -0.7985638585581422,
          -0.816618463726627
         ],
         "y": [
          -0.057814978033015496,
          -0.057814978033015496
         ],
         "z": [
          0.6768193169478076,
          0.573272369099401
         ]
        },
        {
         "line": {
          "color": "crimson",
          "width": 2
         },
         "mode": "lines",
         "showlegend": false,
         "type": "scatter3d",
         "x": [
          -0.816618463726627,
          -0.7985638585581422
         ],
         "y": [
          -0.03969829844109962,
          -0.03969829844109962
         ],
         "z": [
          -4.604075023320908,
          -4.7076219711693135
         ]
        },
        {
         "line": {
          "color": "crimson",
          "width": 2
         },
         "mode": "lines",
         "showlegend": false,
         "type": "scatter3d",
         "x": [
          -0.816618463726627,
          -0.7985638585581422
         ],
         "y": [
          -0.03969829844109962,
          -0.03969829844109962
         ],
         "z": [
          -4.500528075472502,
          -4.604075023320908
         ]
        },
        {
         "line": {
          "color": "crimson",
          "width": 2
         },
         "mode": "lines",
         "showlegend": false,
         "type": "scatter3d",
         "x": [
          -0.816618463726627,
          -0.7985638585581422
         ],
         "y": [
          -0.03969829844109962,
          -0.03969829844109962
         ],
         "z": [
          -4.3969811276240955,
          -4.500528075472502
         ]
        },
        {
         "line": {
          "color": "crimson",
          "width": 2
         },
         "mode": "lines",
         "showlegend": false,
         "type": "scatter3d",
         "x": [
          -0.7985638585581422,
          -0.816618463726627
         ],
         "y": [
          -0.03969829844109962,
          -0.03969829844109962
         ],
         "z": [
          -4.3969811276240955,
          -4.293434179775689
         ]
        },
        {
         "line": {
          "color": "crimson",
          "width": 2
         },
         "mode": "lines",
         "showlegend": false,
         "type": "scatter3d",
         "x": [
          -0.7985638585581422,
          -0.816618463726627
         ],
         "y": [
          -0.03969829844109962,
          -0.03969829844109962
         ],
         "z": [
          -4.293434179775689,
          -4.189887231927283
         ]
        },
        {
         "line": {
          "color": "crimson",
          "width": 2
         },
         "mode": "lines",
         "showlegend": false,
         "type": "scatter3d",
         "x": [
          -0.816618463726627,
          -0.7985638585581422
         ],
         "y": [
          -0.03969829844109962,
          -0.03969829844109962
         ],
         "z": [
          -4.086340284078877,
          -4.189887231927283
         ]
        },
        {
         "line": {
          "color": "crimson",
          "width": 2
         },
         "mode": "lines",
         "showlegend": false,
         "type": "scatter3d",
         "x": [
          -0.816618463726627,
          -0.7985638585581422
         ],
         "y": [
          -0.03969829844109962,
          -0.03969829844109962
         ],
         "z": [
          -3.9827933362304706,
          -4.086340284078877
         ]
        },
        {
         "line": {
          "color": "crimson",
          "width": 2
         },
         "mode": "lines",
         "showlegend": false,
         "type": "scatter3d",
         "x": [
          -0.816618463726627,
          -0.7985638585581422
         ],
         "y": [
          -0.03969829844109962,
          -0.03969829844109962
         ],
         "z": [
          0.6768193169478076,
          0.7803662647962133
         ]
        },
        {
         "line": {
          "color": "crimson",
          "width": 2
         },
         "mode": "lines",
         "showlegend": false,
         "type": "scatter3d",
         "x": [
          -0.7985638585581422,
          -0.816618463726627
         ],
         "y": [
          -0.03969829844109962,
          -0.03969829844109962
         ],
         "z": [
          0.8839132126446199,
          0.7803662647962133
         ]
        },
        {
         "line": {
          "color": "crimson",
          "width": 2
         },
         "mode": "lines",
         "showlegend": false,
         "type": "scatter3d",
         "x": [
          -0.7985638585581422,
          -0.816618463726627
         ],
         "y": [
          -0.02158161884918397,
          -0.02158161884918397
         ],
         "z": [
          -3.7756994405336584,
          -3.8792463883820645
         ]
        },
        {
         "line": {
          "color": "crimson",
          "width": 2
         },
         "mode": "lines",
         "showlegend": false,
         "type": "scatter3d",
         "x": [
          -0.816618463726627,
          -0.7985638585581422
         ],
         "y": [
          -0.02158161884918397,
          -0.02158161884918397
         ],
         "z": [
          -3.7756994405336584,
          -3.6721524926852522
         ]
        },
        {
         "line": {
          "color": "crimson",
          "width": 2
         },
         "mode": "lines",
         "showlegend": false,
         "type": "scatter3d",
         "x": [
          -0.816618463726627,
          -0.7985638585581422
         ],
         "y": [
          -0.02158161884918397,
          -0.02158161884918397
         ],
         "z": [
          -3.6721524926852522,
          -3.568605544836846
         ]
        },
        {
         "line": {
          "color": "crimson",
          "width": 2
         },
         "mode": "lines",
         "showlegend": false,
         "type": "scatter3d",
         "x": [
          -0.7985638585581422,
          -0.816618463726627
         ],
         "y": [
          -0.02158161884918397,
          -0.02158161884918397
         ],
         "z": [
          -3.46505859698844,
          -3.568605544836846
         ]
        },
        {
         "line": {
          "color": "crimson",
          "width": 2
         },
         "mode": "lines",
         "showlegend": false,
         "type": "scatter3d",
         "x": [
          -0.7985638585581422,
          -0.816618463726627
         ],
         "y": [
          -0.02158161884918397,
          -0.02158161884918397
         ],
         "z": [
          -3.361511649140034,
          -3.46505859698844
         ]
        },
        {
         "line": {
          "color": "crimson",
          "width": 2
         },
         "mode": "lines",
         "showlegend": false,
         "type": "scatter3d",
         "x": [
          -0.7985638585581422,
          -0.816618463726627
         ],
         "y": [
          -0.02158161884918397,
          -0.02158161884918397
         ],
         "z": [
          -3.2579647012916273,
          -3.361511649140034
         ]
        },
        {
         "line": {
          "color": "crimson",
          "width": 2
         },
         "mode": "lines",
         "showlegend": false,
         "type": "scatter3d",
         "x": [
          -0.7985638585581422,
          -0.816618463726627
         ],
         "y": [
          -0.02158161884918397,
          -0.02158161884918397
         ],
         "z": [
          -3.154417753443221,
          -3.2579647012916273
         ]
        },
        {
         "line": {
          "color": "crimson",
          "width": 2
         },
         "mode": "lines",
         "showlegend": false,
         "type": "scatter3d",
         "x": [
          -0.816618463726627,
          -0.7985638585581422
         ],
         "y": [
          -0.003464939257268096,
          -0.003464939257268096
         ],
         "z": [
          -3.154417753443221,
          -3.050870805594815
         ]
        },
        {
         "line": {
          "color": "crimson",
          "width": 2
         },
         "mode": "lines",
         "showlegend": false,
         "type": "scatter3d",
         "x": [
          -0.7805092533896572,
          -0.7985638585581422
         ],
         "y": [
          0.06900177911039496,
          0.06900177911039496
         ],
         "z": [
          -0.9799318486266912,
          -0.9799318486266912
         ]
        },
        {
         "line": {
          "color": "crimson",
          "width": 2
         },
         "mode": "lines",
         "showlegend": false,
         "type": "scatter3d",
         "x": [
          -0.7985638585581422,
          -0.7805092533896572
         ],
         "y": [
          0.10523513829422648,
          0.10523513829422648
         ],
         "z": [
          2.954852169612744,
          2.954852169612744
         ]
        },
        {
         "line": {
          "color": "crimson",
          "width": 2
         },
         "mode": "lines",
         "showlegend": false,
         "type": "scatter3d",
         "x": [
          -0.7805092533896572,
          -0.7624546482211723
         ],
         "y": [
          -0.13028169640067855,
          -0.13028169640067855
         ],
         "z": [
          -4.604075023320908,
          -4.604075023320908
         ]
        },
        {
         "line": {
          "color": "crimson",
          "width": 2
         },
         "mode": "lines",
         "showlegend": false,
         "type": "scatter3d",
         "x": [
          -0.7624546482211723,
          -0.7805092533896572
         ],
         "y": [
          -0.13028169640067855,
          -0.13028169640067855
         ],
         "z": [
          -2.947323857746409,
          -2.947323857746409
         ]
        },
        {
         "line": {
          "color": "crimson",
          "width": 2
         },
         "mode": "lines",
         "showlegend": false,
         "type": "scatter3d",
         "x": [
          -0.7624546482211723,
          -0.7805092533896572
         ],
         "y": [
          -0.13028169640067855,
          -0.13028169640067855
         ],
         "z": [
          -0.6692910050814733,
          -0.6692910050814733
         ]
        },
        {
         "line": {
          "color": "crimson",
          "width": 2
         },
         "mode": "lines",
         "showlegend": false,
         "type": "scatter3d",
         "x": [
          -0.7624546482211723,
          -0.7805092533896572
         ],
         "y": [
          -0.13028169640067855,
          -0.13028169640067855
         ],
         "z": [
          0.9874601604930255,
          0.9874601604930255
         ]
        },
        {
         "line": {
          "color": "crimson",
          "width": 2
         },
         "mode": "lines",
         "showlegend": false,
         "type": "scatter3d",
         "x": [
          -0.7624546482211723,
          -0.7624546482211723
         ],
         "y": [
          0.9929524382980983,
          0.9748357587061827
         ],
         "z": [
          -5.432450606108157,
          -5.432450606108157
         ]
        },
        {
         "line": {
          "color": "crimson",
          "width": 2
         },
         "mode": "lines",
         "showlegend": false,
         "type": "scatter3d",
         "x": [
          -0.7624546482211723,
          -0.7624546482211723
         ],
         "y": [
          0.9929524382980983,
          0.9748357587061827
         ],
         "z": [
          -3.7756994405336584,
          -3.7756994405336584
         ]
        },
        {
         "line": {
          "color": "crimson",
          "width": 2
         },
         "mode": "lines",
         "showlegend": false,
         "type": "scatter3d",
         "x": [
          -0.7624546482211723,
          -0.7624546482211723
         ],
         "y": [
          0.9929524382980983,
          1.0110691178900144
         ],
         "z": [
          -1.3941196400203166,
          -1.3941196400203166
         ]
        },
        {
         "line": {
          "color": "crimson",
          "width": 2
         },
         "mode": "lines",
         "showlegend": false,
         "type": "scatter3d",
         "x": [
          -0.7624546482211723,
          -0.7624546482211723
         ],
         "y": [
          1.0110691178900144,
          0.9929524382980983
         ],
         "z": [
          0.26263152555418223,
          0.26263152555418223
         ]
        },
        {
         "line": {
          "color": "crimson",
          "width": 2
         },
         "mode": "lines",
         "showlegend": false,
         "type": "scatter3d",
         "x": [
          -0.7444000430526874,
          -0.7444000430526874
         ],
         "y": [
          -0.981765637220719,
          -0.981765637220719
         ],
         "z": [
          -2.5331360663527844,
          -2.429589118504378
         ]
        },
        {
         "line": {
          "color": "crimson",
          "width": 2
         },
         "mode": "lines",
         "showlegend": false,
         "type": "scatter3d",
         "x": [
          -0.7444000430526874,
          -0.7624546482211723
         ],
         "y": [
          0.1958185362538052,
          0.1958185362538052
         ],
         "z": [
          -5.121809762562939,
          -5.121809762562939
         ]
        },
        {
         "line": {
          "color": "crimson",
          "width": 2
         },
         "mode": "lines",
         "showlegend": false,
         "type": "scatter3d",
         "x": [
          -0.7444000430526874,
          -0.7624546482211723
         ],
         "y": [
          0.1958185362538052,
          0.1958185362538052
         ],
         "z": [
          -3.46505859698844,
          -3.46505859698844
         ]
        },
        {
         "line": {
          "color": "crimson",
          "width": 2
         },
         "mode": "lines",
         "showlegend": false,
         "type": "scatter3d",
         "x": [
          -0.7624546482211723,
          -0.7444000430526874
         ],
         "y": [
          0.21393521584572084,
          0.21393521584572084
         ],
         "z": [
          -1.0834787964750978,
          -1.0834787964750978
         ]
        },
        {
         "line": {
          "color": "crimson",
          "width": 2
         },
         "mode": "lines",
         "showlegend": false,
         "type": "scatter3d",
         "x": [
          -0.7263454378842025,
          -0.7444000430526874
         ],
         "y": [
          -0.2027484147683415,
          -0.2027484147683415
         ],
         "z": [
          -0.5657440572330668,
          -0.5657440572330668
         ]
        },
        {
         "line": {
          "color": "crimson",
          "width": 2
         },
         "mode": "lines",
         "showlegend": false,
         "type": "scatter3d",
         "x": [
          -0.7263454378842025,
          -0.7444000430526874
         ],
         "y": [
          -0.2027484147683415,
          -0.2027484147683415
         ],
         "z": [
          1.091007108341432,
          1.091007108341432
         ]
        },
        {
         "line": {
          "color": "crimson",
          "width": 2
         },
         "mode": "lines",
         "showlegend": false,
         "type": "scatter3d",
         "x": [
          -0.7263454378842025,
          -0.7444000430526874
         ],
         "y": [
          0.1777018566618893,
          0.1777018566618893
         ],
         "z": [
          2.954852169612744,
          2.954852169612744
         ]
        },
        {
         "line": {
          "color": "crimson",
          "width": 2
         },
         "mode": "lines",
         "showlegend": false,
         "type": "scatter3d",
         "x": [
          -0.7263454378842025,
          -0.7444000430526874
         ],
         "y": [
          0.1777018566618893,
          0.1777018566618893
         ],
         "z": [
          4.611603335187242,
          4.611603335187242
         ]
        },
        {
         "line": {
          "color": "crimson",
          "width": 2
         },
         "mode": "lines",
         "showlegend": false,
         "type": "scatter3d",
         "x": [
          -0.7082908327157176,
          -0.7082908327157176
         ],
         "y": [
          -0.9998823168126347,
          -0.9998823168126347
         ],
         "z": [
          1.5051948997350575,
          1.6087418475834632
         ]
        },
        {
         "line": {
          "color": "crimson",
          "width": 2
         },
         "mode": "lines",
         "showlegend": false,
         "type": "scatter3d",
         "x": [
          -0.7082908327157176,
          -0.7082908327157176
         ],
         "y": [
          -0.981765637220719,
          -0.981765637220719
         ],
         "z": [
          5.647072813671304,
          5.5435258658228985
         ]
        },
        {
         "line": {
          "color": "crimson",
          "width": 2
         },
         "mode": "lines",
         "showlegend": false,
         "type": "scatter3d",
         "x": [
          -0.7263454378842025,
          -0.7082908327157176
         ],
         "y": [
          0.2864019342133839,
          0.2864019342133839
         ],
         "z": [
          2.8513052217643367,
          2.8513052217643367
         ]
        },
        {
         "line": {
          "color": "crimson",
          "width": 2
         },
         "mode": "lines",
         "showlegend": false,
         "type": "scatter3d",
         "x": [
          -0.7082908327157176,
          -0.7082908327157176
         ],
         "y": [
          1.0654191566657614,
          1.0473024770738457
         ],
         "z": [
          2.540664378219118,
          2.540664378219118
         ]
        },
        {
         "line": {
          "color": "crimson",
          "width": 2
         },
         "mode": "lines",
         "showlegend": false,
         "type": "scatter3d",
         "x": [
          -0.7082908327157176,
          -0.7082908327157176
         ],
         "y": [
          1.0654191566657614,
          1.0473024770738457
         ],
         "z": [
          4.197415543793618,
          4.197415543793618
         ]
        },
        {
         "line": {
          "color": "crimson",
          "width": 2
         },
         "mode": "lines",
         "showlegend": false,
         "type": "scatter3d",
         "x": [
          -0.7082908327157176,
          -0.6902362275472327
         ],
         "y": [
          -0.31144849231983596,
          -0.31144849231983596
         ],
         "z": [
          -4.500528075472502,
          -4.500528075472502
         ]
        },
        {
         "line": {
          "color": "crimson",
          "width": 2
         },
         "mode": "lines",
         "showlegend": false,
         "type": "scatter3d",
         "x": [
          -0.6902362275472327,
          -0.7082908327157176
         ],
         "y": [
          -0.31144849231983596,
          -0.31144849231983596
         ],
         "z": [
          -2.843776909898003,
          -2.843776909898003
         ]
        },
        {
         "line": {
          "color": "crimson",
          "width": 2
         },
         "mode": "lines",
         "showlegend": false,
         "type": "scatter3d",
         "x": [
          -0.6902362275472327,
          -0.7082908327157176
         ],
         "y": [
          -0.27521513313600454,
          -0.27521513313600454
         ],
         "z": [
          -0.5657440572330668,
          -0.5657440572330668
         ]
        },
        {
         "line": {
          "color": "crimson",
          "width": 2
         },
         "mode": "lines",
         "showlegend": false,
         "type": "scatter3d",
         "x": [
          -0.6902362275472327,
          -0.7082908327157176
         ],
         "y": [
          -0.27521513313600454,
          -0.27521513313600454
         ],
         "z": [
          1.091007108341432,
          1.091007108341432
         ]
        },
        {
         "line": {
          "color": "crimson",
          "width": 2
         },
         "mode": "lines",
         "showlegend": false,
         "type": "scatter3d",
         "x": [
          -0.6902362275472327,
          -0.7082908327157176
         ],
         "y": [
          0.2864019342133839,
          0.2864019342133839
         ],
         "z": [
          -5.121809762562939,
          -5.121809762562939
         ]
        },
        {
         "line": {
          "color": "crimson",
          "width": 2
         },
         "mode": "lines",
         "showlegend": false,
         "type": "scatter3d",
         "x": [
          -0.7082908327157176,
          -0.6902362275472327
         ],
         "y": [
          0.2864019342133839,
          0.2864019342133839
         ],
         "z": [
          -3.46505859698844,
          -3.46505859698844
         ]
        },
        {
         "line": {
          "color": "crimson",
          "width": 2
         },
         "mode": "lines",
         "showlegend": false,
         "type": "scatter3d",
         "x": [
          -0.6721816223787478,
          -0.6721816223787478
         ],
         "y": [
          -1.0361156759964663,
          -1.0361156759964663
         ],
         "z": [
          5.5435258658228985,
          5.647072813671304
         ]
        },
        {
         "line": {
          "color": "crimson",
          "width": 2
         },
         "mode": "lines",
         "showlegend": false,
         "type": "scatter3d",
         "x": [
          -0.6721816223787478,
          -0.6902362275472327
         ],
         "y": [
          -0.3295651719117517,
          -0.3295651719117517
         ],
         "z": [
          3.57613385670318,
          3.57613385670318
         ]
        },
        {
         "line": {
          "color": "crimson",
          "width": 2
         },
         "mode": "lines",
         "showlegend": false,
         "type": "scatter3d",
         "x": [
          -0.6902362275472327,
          -0.6721816223787478
         ],
         "y": [
          -0.3295651719117517,
          -0.3295651719117517
         ],
         "z": [
          5.23288502227768,
          5.23288502227768
         ]
        },
        {
         "line": {
          "color": "crimson",
          "width": 2
         },
         "mode": "lines",
         "showlegend": false,
         "type": "scatter3d",
         "x": [
          -0.6721816223787478,
          -0.6902362275472327
         ],
         "y": [
          0.3226352933972154,
          0.3226352933972154
         ],
         "z": [
          -1.1870257443235035,
          -1.1870257443235035
         ]
        },
        {
         "line": {
          "color": "crimson",
          "width": 2
         },
         "mode": "lines",
         "showlegend": false,
         "type": "scatter3d",
         "x": [
          -0.6902362275472327,
          -0.6721816223787478
         ],
         "y": [
          0.3226352933972154,
          0.3226352933972154
         ],
         "z": [
          0.46972542125099537,
          0.46972542125099537
         ]
        },
        {
         "line": {
          "color": "crimson",
          "width": 2
         },
         "mode": "lines",
         "showlegend": false,
         "type": "scatter3d",
         "x": [
          -0.6721816223787478,
          -0.6721816223787478
         ],
         "y": [
          1.02918579748193,
          1.0110691178900144
         ],
         "z": [
          -5.535997553956563,
          -5.535997553956563
         ]
        },
        {
         "line": {
          "color": "crimson",
          "width": 2
         },
         "mode": "lines",
         "showlegend": false,
         "type": "scatter3d",
         "x": [
          -0.6721816223787478,
          -0.6721816223787478
         ],
         "y": [
          1.02918579748193,
          1.0473024770738457
         ],
         "z": [
          -1.4976665878687223,
          -1.4976665878687223
         ]
        },
        {
         "line": {
          "color": "crimson",
          "width": 2
         },
         "mode": "lines",
         "showlegend": false,
         "type": "scatter3d",
         "x": [
          -0.6541270172102629,
          -0.6541270172102629
         ],
         "y": [
          1.02918579748193,
          1.0473024770738457
         ],
         "z": [
          -3.7756994405336584,
          -3.7756994405336584
         ]
        },
        {
         "line": {
          "color": "crimson",
          "width": 2
         },
         "mode": "lines",
         "showlegend": false,
         "type": "scatter3d",
         "x": [
          -0.636072412041778,
          -0.636072412041778
         ],
         "y": [
          -1.0723490351802978,
          -1.0723490351802978
         ],
         "z": [
          -2.5331360663527844,
          -2.429589118504378
         ]
        },
        {
         "line": {
          "color": "crimson",
          "width": 2
         },
         "mode": "lines",
         "showlegend": false,
         "type": "scatter3d",
         "x": [
          -0.636072412041778,
          -0.6541270172102629
         ],
         "y": [
          -0.42014856987133054,
          -0.42014856987133054
         ],
         "z": [
          1.2981010040382444,
          1.2981010040382444
         ]
        },
        {
         "line": {
          "color": "crimson",
          "width": 2
         },
         "mode": "lines",
         "showlegend": false,
         "type": "scatter3d",
         "x": [
          -0.636072412041778,
          -0.6541270172102629
         ],
         "y": [
          0.39510201176487847,
          0.39510201176487847
         ],
         "z": [
          2.747758273915931,
          2.747758273915931
         ]
        },
        {
         "line": {
          "color": "crimson",
          "width": 2
         },
         "mode": "lines",
         "showlegend": false,
         "type": "scatter3d",
         "x": [
          -0.636072412041778,
          -0.6541270172102629
         ],
         "y": [
          0.39510201176487847,
          0.39510201176487847
         ],
         "z": [
          4.404509439490429,
          4.404509439490429
         ]
        },
        {
         "line": {
          "color": "crimson",
          "width": 2
         },
         "mode": "lines",
         "showlegend": false,
         "type": "scatter3d",
         "x": [
          -0.6180178068732931,
          -0.6180178068732931
         ],
         "y": [
          1.0654191566657614,
          1.083535836257677
         ],
         "z": [
          -5.535997553956563,
          -5.535997553956563
         ]
        },
        {
         "line": {
          "color": "crimson",
          "width": 2
         },
         "mode": "lines",
         "showlegend": false,
         "type": "scatter3d",
         "x": [
          -0.6180178068732931,
          -0.6180178068732931
         ],
         "y": [
          1.083535836257677,
          1.0654191566657614
         ],
         "z": [
          -3.8792463883820645,
          -3.8792463883820645
         ]
        },
        {
         "line": {
          "color": "crimson",
          "width": 2
         },
         "mode": "lines",
         "showlegend": false,
         "type": "scatter3d",
         "x": [
          -0.6180178068732931,
          -0.6180178068732931
         ],
         "y": [
          1.083535836257677,
          1.1016525158495931
         ],
         "z": [
          -1.4976665878687223,
          -1.4976665878687223
         ]
        },
        {
         "line": {
          "color": "crimson",
          "width": 2
         },
         "mode": "lines",
         "showlegend": false,
         "type": "scatter3d",
         "x": [
          -0.6180178068732931,
          -0.6180178068732931
         ],
         "y": [
          1.083535836257677,
          1.1016525158495931
         ],
         "z": [
          0.15908457770577655,
          0.15908457770577655
         ]
        },
        {
         "line": {
          "color": "crimson",
          "width": 2
         },
         "mode": "lines",
         "showlegend": false,
         "type": "scatter3d",
         "x": [
          -0.5999632017048082,
          -0.6180178068732931
         ],
         "y": [
          -0.42014856987133054,
          -0.42014856987133054
         ],
         "z": [
          -4.3969811276240955,
          -4.3969811276240955
         ]
        },
        {
         "line": {
          "color": "crimson",
          "width": 2
         },
         "mode": "lines",
         "showlegend": false,
         "type": "scatter3d",
         "x": [
          -0.6180178068732931,
          -0.5999632017048082
         ],
         "y": [
          -0.42014856987133054,
          -0.42014856987133054
         ],
         "z": [
          -2.7402299620495967,
          -2.7402299620495967
         ]
        },
        {
         "line": {
          "color": "crimson",
          "width": 2
         },
         "mode": "lines",
         "showlegend": false,
         "type": "scatter3d",
         "x": [
          -0.5999632017048082,
          -0.5999632017048082
         ],
         "y": [
          1.083535836257677,
          1.1016525158495931
         ],
         "z": [
          2.437117430370712,
          2.437117430370712
         ]
        },
        {
         "line": {
          "color": "crimson",
          "width": 2
         },
         "mode": "lines",
         "showlegend": false,
         "type": "scatter3d",
         "x": [
          -0.5999632017048082,
          -0.5999632017048082
         ],
         "y": [
          1.083535836257677,
          1.1016525158495931
         ],
         "z": [
          4.093868595945212,
          4.093868595945212
         ]
        },
        {
         "line": {
          "color": "crimson",
          "width": 2
         },
         "mode": "lines",
         "showlegend": false,
         "type": "scatter3d",
         "x": [
          -0.5819085965363233,
          -0.5819085965363233
         ],
         "y": [
          -1.0723490351802978,
          -1.0723490351802978
         ],
         "z": [
          1.5051948997350575,
          1.6087418475834632
         ]
        },
        {
         "line": {
          "color": "crimson",
          "width": 2
         },
         "mode": "lines",
         "showlegend": false,
         "type": "scatter3d",
         "x": [
          -0.5999632017048082,
          -0.5819085965363233
         ],
         "y": [
          -0.4926152882389936,
          -0.4926152882389936
         ],
         "z": [
          -0.4621971093846611,
          -0.4621971093846611
         ]
        },
        {
         "line": {
          "color": "crimson",
          "width": 2
         },
         "mode": "lines",
         "showlegend": false,
         "type": "scatter3d",
         "x": [
          -0.5999632017048082,
          -0.5819085965363233
         ],
         "y": [
          0.41321869135679434,
          0.41321869135679434
         ],
         "z": [
          -5.225356710411345,
          -5.225356710411345
         ]
        },
        {
         "line": {
          "color": "crimson",
          "width": 2
         },
         "mode": "lines",
         "showlegend": false,
         "type": "scatter3d",
         "x": [
          -0.5999632017048082,
          -0.5819085965363233
         ],
         "y": [
          0.41321869135679434,
          0.41321869135679434
         ],
         "z": [
          -3.568605544836846,
          -3.568605544836846
         ]
        },
        {
         "line": {
          "color": "crimson",
          "width": 2
         },
         "mode": "lines",
         "showlegend": false,
         "type": "scatter3d",
         "x": [
          -0.5999632017048082,
          -0.5819085965363233
         ],
         "y": [
          0.43133537094871,
          0.43133537094871
         ],
         "z": [
          -1.1870257443235035,
          -1.1870257443235035
         ]
        },
        {
         "line": {
          "color": "crimson",
          "width": 2
         },
         "mode": "lines",
         "showlegend": false,
         "type": "scatter3d",
         "x": [
          -0.5819085965363233,
          -0.5999632017048082
         ],
         "y": [
          0.43133537094871,
          0.43133537094871
         ],
         "z": [
          0.46972542125099537,
          0.46972542125099537
         ]
        },
        {
         "line": {
          "color": "crimson",
          "width": 2
         },
         "mode": "lines",
         "showlegend": false,
         "type": "scatter3d",
         "x": [
          -0.5999632017048082,
          -0.5819085965363233
         ],
         "y": [
          0.4675687301325415,
          0.4675687301325415
         ],
         "z": [
          2.747758273915931,
          2.747758273915931
         ]
        },
        {
         "line": {
          "color": "crimson",
          "width": 2
         },
         "mode": "lines",
         "showlegend": false,
         "type": "scatter3d",
         "x": [
          -0.5999632017048082,
          -0.5819085965363233
         ],
         "y": [
          0.4675687301325415,
          0.4675687301325415
         ],
         "z": [
          4.404509439490429,
          4.404509439490429
         ]
        },
        {
         "line": {
          "color": "crimson",
          "width": 2
         },
         "mode": "lines",
         "showlegend": false,
         "type": "scatter3d",
         "x": [
          -0.5819085965363233,
          -0.5638539913678384
         ],
         "y": [
          -0.45638192905516206,
          -0.45638192905516206
         ],
         "z": [
          3.57613385670318,
          3.57613385670318
         ]
        },
        {
         "line": {
          "color": "crimson",
          "width": 2
         },
         "mode": "lines",
         "showlegend": false,
         "type": "scatter3d",
         "x": [
          -0.5819085965363233,
          -0.5638539913678384
         ],
         "y": [
          -0.45638192905516206,
          -0.45638192905516206
         ],
         "z": [
          5.23288502227768,
          5.23288502227768
         ]
        },
        {
         "line": {
          "color": "crimson",
          "width": 2
         },
         "mode": "lines",
         "showlegend": false,
         "type": "scatter3d",
         "x": [
          -0.5638539913678384,
          -0.5819085965363233
         ],
         "y": [
          0.4675687301325415,
          0.4675687301325415
         ],
         "z": [
          -1.29057269217191,
          -1.29057269217191
         ]
        },
        {
         "line": {
          "color": "crimson",
          "width": 2
         },
         "mode": "lines",
         "showlegend": false,
         "type": "scatter3d",
         "x": [
          -0.5457993861993535,
          -0.5638539913678384
         ],
         "y": [
          -0.5107319678309094,
          -0.5107319678309094
         ],
         "z": [
          5.336431970126085,
          5.336431970126085
         ]
        },
        {
         "line": {
          "color": "crimson",
          "width": 2
         },
         "mode": "lines",
         "showlegend": false,
         "type": "scatter3d",
         "x": [
          -0.5457993861993535,
          -0.5638539913678384
         ],
         "y": [
          0.503802089316373,
          0.503802089316373
         ],
         "z": [
          -5.328903658259751,
          -5.328903658259751
         ]
        },
        {
         "line": {
          "color": "crimson",
          "width": 2
         },
         "mode": "lines",
         "showlegend": false,
         "type": "scatter3d",
         "x": [
          -0.5457993861993535,
          -0.5638539913678384
         ],
         "y": [
          0.5219187689082887,
          0.5219187689082887
         ],
         "z": [
          2.6442113260675253,
          2.6442113260675253
         ]
        },
        {
         "line": {
          "color": "crimson",
          "width": 2
         },
         "mode": "lines",
         "showlegend": false,
         "type": "scatter3d",
         "x": [
          -0.5277447810308686,
          -0.5277447810308686
         ],
         "y": [
          -1.1085823943641293,
          -1.1085823943641293
         ],
         "z": [
          5.75061976151971,
          5.647072813671304
         ]
        },
        {
         "line": {
          "color": "crimson",
          "width": 2
         },
         "mode": "lines",
         "showlegend": false,
         "type": "scatter3d",
         "x": [
          -0.5457993861993535,
          -0.5277447810308686
         ],
         "y": [
          -0.5469653270147409,
          -0.5469653270147409
         ],
         "z": [
          -4.293434179775689,
          -4.293434179775689
         ]
        },
        {
         "line": {
          "color": "crimson",
          "width": 2
         },
         "mode": "lines",
         "showlegend": false,
         "type": "scatter3d",
         "x": [
          -0.5277447810308686,
          -0.5457993861993535
         ],
         "y": [
          -0.5469653270147409,
          -0.5469653270147409
         ],
         "z": [
          -2.6366830142011906,
          -2.6366830142011906
         ]
        },
        {
         "line": {
          "color": "crimson",
          "width": 2
         },
         "mode": "lines",
         "showlegend": false,
         "type": "scatter3d",
         "x": [
          -0.5457993861993535,
          -0.5277447810308686
         ],
         "y": [
          -0.5107319678309094,
          -0.5107319678309094
         ],
         "z": [
          1.40164795188665,
          1.40164795188665
         ]
        },
        {
         "line": {
          "color": "crimson",
          "width": 2
         },
         "mode": "lines",
         "showlegend": false,
         "type": "scatter3d",
         "x": [
          -0.5457993861993535,
          -0.5277447810308686
         ],
         "y": [
          0.5400354485002046,
          0.5400354485002046
         ],
         "z": [
          -1.3941196400203166,
          -1.3941196400203166
         ]
        },
        {
         "line": {
          "color": "crimson",
          "width": 2
         },
         "mode": "lines",
         "showlegend": false,
         "type": "scatter3d",
         "x": [
          -0.5277447810308686,
          -0.5457993861993535
         ],
         "y": [
          0.5400354485002046,
          0.5400354485002046
         ],
         "z": [
          0.26263152555418223,
          0.26263152555418223
         ]
        },
        {
         "line": {
          "color": "crimson",
          "width": 2
         },
         "mode": "lines",
         "showlegend": false,
         "type": "scatter3d",
         "x": [
          -0.5096901758623837,
          -0.5096901758623837
         ],
         "y": [
          -1.1448157535479608,
          -1.1448157535479608
         ],
         "z": [
          1.6087418475834632,
          1.7122887954318688
         ]
        },
        {
         "line": {
          "color": "crimson",
          "width": 2
         },
         "mode": "lines",
         "showlegend": false,
         "type": "scatter3d",
         "x": [
          -0.5096901758623837,
          -0.49163557069389885
         ],
         "y": [
          -1.1448157535479608,
          -1.1448157535479608
         ],
         "z": [
          1.7122887954318688,
          1.6087418475834632
         ]
        },
        {
         "line": {
          "color": "crimson",
          "width": 2
         },
         "mode": "lines",
         "showlegend": false,
         "type": "scatter3d",
         "x": [
          -0.5277447810308686,
          -0.5096901758623837
         ],
         "y": [
          0.5581521280921202,
          0.5581521280921202
         ],
         "z": [
          2.6442113260675253,
          2.6442113260675253
         ]
        },
        {
         "line": {
          "color": "crimson",
          "width": 2
         },
         "mode": "lines",
         "showlegend": false,
         "type": "scatter3d",
         "x": [
          -0.5277447810308686,
          -0.5096901758623837
         ],
         "y": [
          0.5581521280921202,
          0.5581521280921202
         ],
         "z": [
          4.300962491642023,
          4.300962491642023
         ]
        },
        {
         "line": {
          "color": "crimson",
          "width": 2
         },
         "mode": "lines",
         "showlegend": false,
         "type": "scatter3d",
         "x": [
          -0.5096901758623837,
          -0.5096901758623837
         ],
         "y": [
          1.1197691954415088,
          1.1016525158495931
         ],
         "z": [
          -5.63954450180497,
          -5.63954450180497
         ]
        },
        {
         "line": {
          "color": "crimson",
          "width": 2
         },
         "mode": "lines",
         "showlegend": false,
         "type": "scatter3d",
         "x": [
          -0.5096901758623837,
          -0.5096901758623837
         ],
         "y": [
          1.1016525158495931,
          1.1197691954415088
         ],
         "z": [
          2.3335704825223065,
          2.3335704825223065
         ]
        },
        {
         "line": {
          "color": "crimson",
          "width": 2
         },
         "mode": "lines",
         "showlegend": false,
         "type": "scatter3d",
         "x": [
          -0.5096901758623837,
          -0.5096901758623837
         ],
         "y": [
          1.1197691954415088,
          1.1378858750334244
         ],
         "z": [
          -1.6012135357171289,
          -1.6012135357171289
         ]
        },
        {
         "line": {
          "color": "crimson",
          "width": 2
         },
         "mode": "lines",
         "showlegend": false,
         "type": "scatter3d",
         "x": [
          -0.5096901758623837,
          -0.5096901758623837
         ],
         "y": [
          1.1378858750334244,
          1.1197691954415088
         ],
         "z": [
          0.055537629857369986,
          0.055537629857369986
         ]
        },
        {
         "line": {
          "color": "crimson",
          "width": 2
         },
         "mode": "lines",
         "showlegend": false,
         "type": "scatter3d",
         "x": [
          -0.49163557069389885,
          -0.5096901758623837
         ],
         "y": [
          -0.5650820066066566,
          -0.5650820066066566
         ],
         "z": [
          3.6796808045515856,
          3.6796808045515856
         ]
        },
        {
         "line": {
          "color": "crimson",
          "width": 2
         },
         "mode": "lines",
         "showlegend": false,
         "type": "scatter3d",
         "x": [
          -0.5096901758623837,
          -0.49163557069389885
         ],
         "y": [
          -0.5650820066066566,
          -0.5650820066066566
         ],
         "z": [
          5.336431970126085,
          5.336431970126085
         ]
        },
        {
         "line": {
          "color": "crimson",
          "width": 2
         },
         "mode": "lines",
         "showlegend": false,
         "type": "scatter3d",
         "x": [
          -0.47358096552541395,
          -0.49163557069389885
         ],
         "y": [
          -0.6194320453824038,
          -0.6194320453824038
         ],
         "z": [
          -0.3586501615362545,
          -0.3586501615362545
         ]
        },
        {
         "line": {
          "color": "crimson",
          "width": 2
         },
         "mode": "lines",
         "showlegend": false,
         "type": "scatter3d",
         "x": [
          -0.49163557069389885,
          -0.47358096552541395
         ],
         "y": [
          -0.5831986861985723,
          -0.5831986861985723
         ],
         "z": [
          -4.293434179775689,
          -4.293434179775689
         ]
        },
        {
         "line": {
          "color": "crimson",
          "width": 2
         },
         "mode": "lines",
         "showlegend": false,
         "type": "scatter3d",
         "x": [
          -0.47358096552541395,
          -0.49163557069389885
         ],
         "y": [
          -0.5831986861985723,
          -0.5831986861985723
         ],
         "z": [
          -2.6366830142011906,
          -2.6366830142011906
         ]
        },
        {
         "line": {
          "color": "crimson",
          "width": 2
         },
         "mode": "lines",
         "showlegend": false,
         "type": "scatter3d",
         "x": [
          -0.47358096552541395,
          -0.49163557069389885
         ],
         "y": [
          0.5762688076840361,
          0.5762688076840361
         ],
         "z": [
          -5.328903658259751,
          -5.328903658259751
         ]
        },
        {
         "line": {
          "color": "crimson",
          "width": 2
         },
         "mode": "lines",
         "showlegend": false,
         "type": "scatter3d",
         "x": [
          -0.47358096552541395,
          -0.49163557069389885
         ],
         "y": [
          0.5762688076840361,
          0.5762688076840361
         ],
         "z": [
          -3.6721524926852522,
          -3.6721524926852522
         ]
        },
        {
         "line": {
          "color": "crimson",
          "width": 2
         },
         "mode": "lines",
         "showlegend": false,
         "type": "scatter3d",
         "x": [
          -0.47358096552541395,
          -0.49163557069389885
         ],
         "y": [
          -1.1448157535479608,
          -1.1448157535479608
         ],
         "z": [
          1.6087418475834632,
          1.7122887954318688
         ]
        },
        {
         "line": {
          "color": "crimson",
          "width": 2
         },
         "mode": "lines",
         "showlegend": false,
         "type": "scatter3d",
         "x": [
          -0.47358096552541395,
          -0.45552636035692906
         ],
         "y": [
          -0.601315365790488,
          -0.601315365790488
         ],
         "z": [
          3.783227752399993,
          3.783227752399993
         ]
        },
        {
         "line": {
          "color": "crimson",
          "width": 2
         },
         "mode": "lines",
         "showlegend": false,
         "type": "scatter3d",
         "x": [
          -0.47358096552541395,
          -0.45552636035692906
         ],
         "y": [
          -0.601315365790488,
          -0.601315365790488
         ],
         "z": [
          5.439978917974491,
          5.439978917974491
         ]
        },
        {
         "line": {
          "color": "crimson",
          "width": 2
         },
         "mode": "lines",
         "showlegend": false,
         "type": "scatter3d",
         "x": [
          -0.47358096552541395,
          -0.45552636035692906
         ],
         "y": [
          -1.1448157535479608,
          -1.1448157535479608
         ],
         "z": [
          1.7122887954318688,
          1.6087418475834632
         ]
        },
        {
         "line": {
          "color": "crimson",
          "width": 2
         },
         "mode": "lines",
         "showlegend": false,
         "type": "scatter3d",
         "x": [
          -0.43747175518844417,
          -0.43747175518844417
         ],
         "y": [
          1.15600255462534,
          1.15600255462534
         ],
         "z": [
          3.9903216480968045,
          4.093868595945212
         ]
        },
        {
         "line": {
          "color": "crimson",
          "width": 2
         },
         "mode": "lines",
         "showlegend": false,
         "type": "scatter3d",
         "x": [
          -0.43747175518844417,
          -0.41941715001995916
         ],
         "y": [
          1.15600255462534,
          1.15600255462534
         ],
         "z": [
          4.093868595945212,
          3.9903216480968045
         ]
        },
        {
         "line": {
          "color": "crimson",
          "width": 2
         },
         "mode": "lines",
         "showlegend": false,
         "type": "scatter3d",
         "x": [
          -0.43747175518844417,
          -0.45552636035692906
         ],
         "y": [
          -1.1448157535479608,
          -1.1448157535479608
         ],
         "z": [
          1.6087418475834632,
          1.7122887954318688
         ]
        },
        {
         "line": {
          "color": "crimson",
          "width": 2
         },
         "mode": "lines",
         "showlegend": false,
         "type": "scatter3d",
         "x": [
          -0.41941715001995916,
          -0.43747175518844417
         ],
         "y": [
          0.6306188464597833,
          0.6306188464597833
         ],
         "z": [
          -1.3941196400203166,
          -1.3941196400203166
         ]
        },
        {
         "line": {
          "color": "crimson",
          "width": 2
         },
         "mode": "lines",
         "showlegend": false,
         "type": "scatter3d",
         "x": [
          -0.41941715001995916,
          -0.43747175518844417
         ],
         "y": [
          0.6306188464597833,
          0.6306188464597833
         ],
         "z": [
          0.26263152555418223,
          0.26263152555418223
         ]
        },
        {
         "line": {
          "color": "crimson",
          "width": 2
         },
         "mode": "lines",
         "showlegend": false,
         "type": "scatter3d",
         "x": [
          -0.41941715001995916,
          -0.43747175518844417
         ],
         "y": [
          0.6306188464597833,
          0.6306188464597833
         ],
         "z": [
          2.540664378219118,
          2.540664378219118
         ]
        },
        {
         "line": {
          "color": "crimson",
          "width": 2
         },
         "mode": "lines",
         "showlegend": false,
         "type": "scatter3d",
         "x": [
          -0.40136254485147427,
          -0.40136254485147427
         ],
         "y": [
          1.1378858750334244,
          1.15600255462534
         ],
         "z": [
          -1.7047604835655346,
          -1.7047604835655346
         ]
        },
        {
         "line": {
          "color": "crimson",
          "width": 2
         },
         "mode": "lines",
         "showlegend": false,
         "type": "scatter3d",
         "x": [
          -0.40136254485147427,
          -0.41941715001995916
         ],
         "y": [
          1.15600255462534,
          1.15600255462534
         ],
         "z": [
          3.9903216480968045,
          4.093868595945212
         ]
        },
        {
         "line": {
          "color": "crimson",
          "width": 2
         },
         "mode": "lines",
         "showlegend": false,
         "type": "scatter3d",
         "x": [
          -0.3833079396829894,
          -0.40136254485147427
         ],
         "y": [
          -1.1448157535479608,
          -1.1448157535479608
         ],
         "z": [
          1.7122887954318688,
          1.8158357432802745
         ]
        },
        {
         "line": {
          "color": "crimson",
          "width": 2
         },
         "mode": "lines",
         "showlegend": false,
         "type": "scatter3d",
         "x": [
          -0.40136254485147427,
          -0.3833079396829894
         ],
         "y": [
          -0.981765637220719,
          -0.981765637220719
         ],
         "z": [
          1.8158357432802745,
          1.7122887954318688
         ]
        },
        {
         "line": {
          "color": "crimson",
          "width": 2
         },
         "mode": "lines",
         "showlegend": false,
         "type": "scatter3d",
         "x": [
          -0.3652533345145045,
          -0.3833079396829894
         ],
         "y": [
          0.6487355260516992,
          0.6487355260516992
         ],
         "z": [
          -5.535997553956563,
          -5.535997553956563
         ]
        },
        {
         "line": {
          "color": "crimson",
          "width": 2
         },
         "mode": "lines",
         "showlegend": false,
         "type": "scatter3d",
         "x": [
          -0.3652533345145045,
          -0.3833079396829894
         ],
         "y": [
          0.6487355260516992,
          0.6487355260516992
         ],
         "z": [
          -3.8792463883820645,
          -3.8792463883820645
         ]
        },
        {
         "line": {
          "color": "crimson",
          "width": 2
         },
         "mode": "lines",
         "showlegend": false,
         "type": "scatter3d",
         "x": [
          -0.3652533345145045,
          -0.3833079396829894
         ],
         "y": [
          0.6668522056436148,
          0.6668522056436148
         ],
         "z": [
          -1.4976665878687223,
          -1.4976665878687223
         ]
        },
        {
         "line": {
          "color": "crimson",
          "width": 2
         },
         "mode": "lines",
         "showlegend": false,
         "type": "scatter3d",
         "x": [
          -0.3652533345145045,
          -0.3833079396829894
         ],
         "y": [
          0.6668522056436148,
          0.6668522056436148
         ],
         "z": [
          0.15908457770577655,
          0.15908457770577655
         ]
        },
        {
         "line": {
          "color": "crimson",
          "width": 2
         },
         "mode": "lines",
         "showlegend": false,
         "type": "scatter3d",
         "x": [
          -0.3833079396829894,
          -0.40136254485147427
         ],
         "y": [
          1.15600255462534,
          1.15600255462534
         ],
         "z": [
          3.9903216480968045,
          4.093868595945212
         ]
        },
        {
         "line": {
          "color": "crimson",
          "width": 2
         },
         "mode": "lines",
         "showlegend": false,
         "type": "scatter3d",
         "x": [
          -0.3652533345145045,
          -0.3833079396829894
         ],
         "y": [
          -1.1448157535479608,
          -1.1448157535479608
         ],
         "z": [
          1.7122887954318688,
          1.8158357432802745
         ]
        },
        {
         "line": {
          "color": "crimson",
          "width": 2
         },
         "mode": "lines",
         "showlegend": false,
         "type": "scatter3d",
         "x": [
          -0.3833079396829894,
          -0.3652533345145045
         ],
         "y": [
          -1.1448157535479608,
          -1.1448157535479608
         ],
         "z": [
          5.75061976151971,
          5.647072813671304
         ]
        },
        {
         "line": {
          "color": "crimson",
          "width": 2
         },
         "mode": "lines",
         "showlegend": false,
         "type": "scatter3d",
         "x": [
          -0.3833079396829894,
          -0.3652533345145045
         ],
         "y": [
          -0.981765637220719,
          -0.981765637220719
         ],
         "z": [
          1.8158357432802745,
          1.7122887954318688
         ]
        },
        {
         "line": {
          "color": "crimson",
          "width": 2
         },
         "mode": "lines",
         "showlegend": false,
         "type": "scatter3d",
         "x": [
          -0.3652533345145045,
          -0.3833079396829894
         ],
         "y": [
          1.15600255462534,
          1.15600255462534
         ],
         "z": [
          3.9903216480968045,
          4.093868595945212
         ]
        },
        {
         "line": {
          "color": "crimson",
          "width": 2
         },
         "mode": "lines",
         "showlegend": false,
         "type": "scatter3d",
         "x": [
          -0.3471987293460196,
          -0.3652533345145045
         ],
         "y": [
          -1.1448157535479608,
          -1.1448157535479608
         ],
         "z": [
          1.7122887954318688,
          1.8158357432802745
         ]
        },
        {
         "line": {
          "color": "crimson",
          "width": 2
         },
         "mode": "lines",
         "showlegend": false,
         "type": "scatter3d",
         "x": [
          -0.3652533345145045,
          -0.3471987293460196
         ],
         "y": [
          -1.1448157535479608,
          -1.1448157535479608
         ],
         "z": [
          5.75061976151971,
          5.647072813671304
         ]
        },
        {
         "line": {
          "color": "crimson",
          "width": 2
         },
         "mode": "lines",
         "showlegend": false,
         "type": "scatter3d",
         "x": [
          -0.3471987293460196,
          -0.3652533345145045
         ],
         "y": [
          -0.981765637220719,
          -0.981765637220719
         ],
         "z": [
          1.7122887954318688,
          1.8158357432802745
         ]
        },
        {
         "line": {
          "color": "crimson",
          "width": 2
         },
         "mode": "lines",
         "showlegend": false,
         "type": "scatter3d",
         "x": [
          -0.3652533345145045,
          -0.3471987293460196
         ],
         "y": [
          1.15600255462534,
          1.15600255462534
         ],
         "z": [
          4.093868595945212,
          3.9903216480968045
         ]
        },
        {
         "line": {
          "color": "crimson",
          "width": 2
         },
         "mode": "lines",
         "showlegend": false,
         "type": "scatter3d",
         "x": [
          -0.3291441241775347,
          -0.3471987293460196
         ],
         "y": [
          -1.1448157535479608,
          -1.1448157535479608
         ],
         "z": [
          1.7122887954318688,
          1.8158357432802745
         ]
        },
        {
         "line": {
          "color": "crimson",
          "width": 2
         },
         "mode": "lines",
         "showlegend": false,
         "type": "scatter3d",
         "x": [
          -0.3471987293460196,
          -0.3291441241775347
         ],
         "y": [
          1.15600255462534,
          1.15600255462534
         ],
         "z": [
          4.093868595945212,
          3.9903216480968045
         ]
        },
        {
         "line": {
          "color": "crimson",
          "width": 2
         },
         "mode": "lines",
         "showlegend": false,
         "type": "scatter3d",
         "x": [
          -0.3291441241775347,
          -0.3110895190090498
         ],
         "y": [
          -1.1448157535479608,
          -1.1448157535479608
         ],
         "z": [
          1.8158357432802745,
          1.7122887954318688
         ]
        },
        {
         "line": {
          "color": "crimson",
          "width": 2
         },
         "mode": "lines",
         "showlegend": false,
         "type": "scatter3d",
         "x": [
          -0.2930349138405649,
          -0.3110895190090498
         ],
         "y": [
          0.7212022444193622,
          0.7212022444193622
         ],
         "z": [
          4.197415543793618,
          4.197415543793618
         ]
        },
        {
         "line": {
          "color": "crimson",
          "width": 2
         },
         "mode": "lines",
         "showlegend": false,
         "type": "scatter3d",
         "x": [
          -0.3110895190090498,
          -0.3110895190090498
         ],
         "y": [
          1.1197691954415088,
          1.1016525158495931
         ],
         "z": [
          0.15908457770577655,
          0.055537629857369986
         ]
        },
        {
         "line": {
          "color": "crimson",
          "width": 2
         },
         "mode": "lines",
         "showlegend": false,
         "type": "scatter3d",
         "x": [
          -0.3110895190090498,
          -0.3110895190090498
         ],
         "y": [
          1.1378858750334244,
          1.1197691954415088
         ],
         "z": [
          0.15908457770577655,
          0.055537629857369986
         ]
        },
        {
         "line": {
          "color": "crimson",
          "width": 2
         },
         "mode": "lines",
         "showlegend": false,
         "type": "scatter3d",
         "x": [
          -0.3291441241775347,
          -0.3110895190090498
         ],
         "y": [
          1.15600255462534,
          1.15600255462534
         ],
         "z": [
          4.093868595945212,
          3.9903216480968045
         ]
        },
        {
         "line": {
          "color": "crimson",
          "width": 2
         },
         "mode": "lines",
         "showlegend": false,
         "type": "scatter3d",
         "x": [
          -0.2930349138405649,
          -0.3110895190090498
         ],
         "y": [
          -1.1448157535479608,
          -1.1448157535479608
         ],
         "z": [
          1.7122887954318688,
          1.8158357432802745
         ]
        },
        {
         "line": {
          "color": "crimson",
          "width": 2
         },
         "mode": "lines",
         "showlegend": false,
         "type": "scatter3d",
         "x": [
          -0.2930349138405649,
          -0.3110895190090498
         ],
         "y": [
          -1.1448157535479608,
          -1.1448157535479608
         ],
         "z": [
          5.75061976151971,
          5.854166709368116
         ]
        },
        {
         "line": {
          "color": "crimson",
          "width": 2
         },
         "mode": "lines",
         "showlegend": false,
         "type": "scatter3d",
         "x": [
          -0.2930349138405649,
          -0.27498030867208
         ],
         "y": [
          -0.6918987637500669,
          -0.6918987637500669
         ],
         "z": [
          3.783227752399993,
          3.783227752399993
         ]
        },
        {
         "line": {
          "color": "crimson",
          "width": 2
         },
         "mode": "lines",
         "showlegend": false,
         "type": "scatter3d",
         "x": [
          -0.2930349138405649,
          -0.27498030867208
         ],
         "y": [
          -0.6918987637500669,
          -0.6918987637500669
         ],
         "z": [
          5.439978917974491,
          5.439978917974491
         ]
        },
        {
         "line": {
          "color": "crimson",
          "width": 2
         },
         "mode": "lines",
         "showlegend": false,
         "type": "scatter3d",
         "x": [
          -0.2930349138405649,
          -0.27498030867208
         ],
         "y": [
          0.7212022444193622,
          0.7212022444193622
         ],
         "z": [
          -1.4976665878687223,
          -1.4976665878687223
         ]
        },
        {
         "line": {
          "color": "crimson",
          "width": 2
         },
         "mode": "lines",
         "showlegend": false,
         "type": "scatter3d",
         "x": [
          -0.2930349138405649,
          -0.27498030867208
         ],
         "y": [
          0.7212022444193622,
          0.7212022444193622
         ],
         "z": [
          0.15908457770577655,
          0.15908457770577655
         ]
        },
        {
         "line": {
          "color": "crimson",
          "width": 2
         },
         "mode": "lines",
         "showlegend": false,
         "type": "scatter3d",
         "x": [
          -0.3110895190090498,
          -0.2930349138405649
         ],
         "y": [
          1.15600255462534,
          1.15600255462534
         ],
         "z": [
          4.093868595945212,
          3.9903216480968045
         ]
        },
        {
         "line": {
          "color": "crimson",
          "width": 2
         },
         "mode": "lines",
         "showlegend": false,
         "type": "scatter3d",
         "x": [
          -0.2930349138405649,
          -0.27498030867208
         ],
         "y": [
          -1.1448157535479608,
          -1.1448157535479608
         ],
         "z": [
          -2.11894827495916,
          -2.2224952228075656
         ]
        },
        {
         "line": {
          "color": "crimson",
          "width": 2
         },
         "mode": "lines",
         "showlegend": false,
         "type": "scatter3d",
         "x": [
          -0.27498030867208,
          -0.2930349138405649
         ],
         "y": [
          -1.1448157535479608,
          -1.1448157535479608
         ],
         "z": [
          5.75061976151971,
          5.854166709368116
         ]
        },
        {
         "line": {
          "color": "crimson",
          "width": 2
         },
         "mode": "lines",
         "showlegend": false,
         "type": "scatter3d",
         "x": [
          -0.27498030867208,
          -0.2569257035035951
         ],
         "y": [
          1.15600255462534,
          1.15600255462534
         ],
         "z": [
          3.9903216480968045,
          4.093868595945212
         ]
        },
        {
         "line": {
          "color": "crimson",
          "width": 2
         },
         "mode": "lines",
         "showlegend": false,
         "type": "scatter3d",
         "x": [
          -0.2569257035035951,
          -0.27498030867208
         ],
         "y": [
          -1.1448157535479608,
          -1.1448157535479608
         ],
         "z": [
          -2.2224952228075656,
          -2.11894827495916
         ]
        },
        {
         "line": {
          "color": "crimson",
          "width": 2
         },
         "mode": "lines",
         "showlegend": false,
         "type": "scatter3d",
         "x": [
          -0.2569257035035951,
          -0.23887109833511022
         ],
         "y": [
          1.15600255462534,
          1.15600255462534
         ],
         "z": [
          3.9903216480968045,
          4.093868595945212
         ]
        },
        {
         "line": {
          "color": "crimson",
          "width": 2
         },
         "mode": "lines",
         "showlegend": false,
         "type": "scatter3d",
         "x": [
          -0.2569257035035951,
          -0.23887109833511022
         ],
         "y": [
          -1.1448157535479608,
          -1.1448157535479608
         ],
         "z": [
          -2.11894827495916,
          -2.2224952228075656
         ]
        },
        {
         "line": {
          "color": "crimson",
          "width": 2
         },
         "mode": "lines",
         "showlegend": false,
         "type": "scatter3d",
         "x": [
          -0.2569257035035951,
          -0.23887109833511022
         ],
         "y": [
          -1.1448157535479608,
          -1.1448157535479608
         ],
         "z": [
          1.919382691128682,
          1.8158357432802745
         ]
        },
        {
         "line": {
          "color": "crimson",
          "width": 2
         },
         "mode": "lines",
         "showlegend": false,
         "type": "scatter3d",
         "x": [
          -0.23887109833511022,
          -0.22081649316662533
         ],
         "y": [
          -0.7462488025258142,
          -0.7462488025258142
         ],
         "z": [
          3.9903216480968045,
          3.9903216480968045
         ]
        },
        {
         "line": {
          "color": "crimson",
          "width": 2
         },
         "mode": "lines",
         "showlegend": false,
         "type": "scatter3d",
         "x": [
          -0.22081649316662533,
          -0.23887109833511022
         ],
         "y": [
          -0.7462488025258142,
          -0.7462488025258142
         ],
         "z": [
          5.647072813671304,
          5.647072813671304
         ]
        },
        {
         "line": {
          "color": "crimson",
          "width": 2
         },
         "mode": "lines",
         "showlegend": false,
         "type": "scatter3d",
         "x": [
          -0.22081649316662533,
          -0.23887109833511022
         ],
         "y": [
          1.15600255462534,
          1.15600255462534
         ],
         "z": [
          4.093868595945212,
          3.9903216480968045
         ]
        },
        {
         "line": {
          "color": "crimson",
          "width": 2
         },
         "mode": "lines",
         "showlegend": false,
         "type": "scatter3d",
         "x": [
          -0.22081649316662533,
          -0.23887109833511022
         ],
         "y": [
          -1.1448157535479608,
          -1.1448157535479608
         ],
         "z": [
          -2.2224952228075656,
          -2.11894827495916
         ]
        },
        {
         "line": {
          "color": "crimson",
          "width": 2
         },
         "mode": "lines",
         "showlegend": false,
         "type": "scatter3d",
         "x": [
          -0.22081649316662533,
          -0.23887109833511022
         ],
         "y": [
          -1.1448157535479608,
          -1.1448157535479608
         ],
         "z": [
          1.8158357432802745,
          1.919382691128682
         ]
        },
        {
         "line": {
          "color": "crimson",
          "width": 2
         },
         "mode": "lines",
         "showlegend": false,
         "type": "scatter3d",
         "x": [
          -0.22081649316662533,
          -0.20276188799814043
         ],
         "y": [
          0.7755522831951094,
          0.7755522831951094
         ],
         "z": [
          0.15908457770577655,
          0.15908457770577655
         ]
        },
        {
         "line": {
          "color": "crimson",
          "width": 2
         },
         "mode": "lines",
         "showlegend": false,
         "type": "scatter3d",
         "x": [
          -0.20276188799814043,
          -0.22081649316662533
         ],
         "y": [
          1.15600255462534,
          1.15600255462534
         ],
         "z": [
          4.093868595945212,
          3.9903216480968045
         ]
        },
        {
         "line": {
          "color": "crimson",
          "width": 2
         },
         "mode": "lines",
         "showlegend": false,
         "type": "scatter3d",
         "x": [
          -0.22081649316662533,
          -0.20276188799814043
         ],
         "y": [
          -1.1448157535479608,
          -1.1448157535479608
         ],
         "z": [
          -2.11894827495916,
          -2.2224952228075656
         ]
        },
        {
         "line": {
          "color": "crimson",
          "width": 2
         },
         "mode": "lines",
         "showlegend": false,
         "type": "scatter3d",
         "x": [
          -0.22081649316662533,
          -0.20276188799814043
         ],
         "y": [
          -1.1448157535479608,
          -1.1448157535479608
         ],
         "z": [
          1.919382691128682,
          1.8158357432802745
         ]
        },
        {
         "line": {
          "color": "crimson",
          "width": 2
         },
         "mode": "lines",
         "showlegend": false,
         "type": "scatter3d",
         "x": [
          -0.20276188799814043,
          -0.18470728282965554
         ],
         "y": [
          -0.7643654821177299,
          -0.7643654821177299
         ],
         "z": [
          -4.086340284078877,
          -4.086340284078877
         ]
        },
        {
         "line": {
          "color": "crimson",
          "width": 2
         },
         "mode": "lines",
         "showlegend": false,
         "type": "scatter3d",
         "x": [
          -0.20276188799814043,
          -0.18470728282965554
         ],
         "y": [
          0.7393189240112779,
          0.7393189240112779
         ],
         "z": [
          -5.535997553956563,
          -5.535997553956563
         ]
        },
        {
         "line": {
          "color": "crimson",
          "width": 2
         },
         "mode": "lines",
         "showlegend": false,
         "type": "scatter3d",
         "x": [
          -0.20276188799814043,
          -0.18470728282965554
         ],
         "y": [
          0.7393189240112779,
          0.7393189240112779
         ],
         "z": [
          -3.8792463883820645,
          -3.8792463883820645
         ]
        },
        {
         "line": {
          "color": "crimson",
          "width": 2
         },
         "mode": "lines",
         "showlegend": false,
         "type": "scatter3d",
         "x": [
          -0.20276188799814043,
          -0.18470728282965554
         ],
         "y": [
          1.15600255462534,
          1.15600255462534
         ],
         "z": [
          3.9903216480968045,
          4.093868595945212
         ]
        },
        {
         "line": {
          "color": "crimson",
          "width": 2
         },
         "mode": "lines",
         "showlegend": false,
         "type": "scatter3d",
         "x": [
          -0.16665267766117065,
          -0.18470728282965554
         ],
         "y": [
          0.7574356036031935,
          0.7574356036031935
         ],
         "z": [
          -1.7047604835655346,
          -1.7047604835655346
         ]
        },
        {
         "line": {
          "color": "crimson",
          "width": 2
         },
         "mode": "lines",
         "showlegend": false,
         "type": "scatter3d",
         "x": [
          -0.16665267766117065,
          -0.18470728282965554
         ],
         "y": [
          0.7574356036031935,
          0.7574356036031935
         ],
         "z": [
          -0.048009317991035694,
          -0.048009317991035694
         ]
        },
        {
         "line": {
          "color": "crimson",
          "width": 2
         },
         "mode": "lines",
         "showlegend": false,
         "type": "scatter3d",
         "x": [
          -0.16665267766117065,
          -0.18470728282965554
         ],
         "y": [
          1.15600255462534,
          1.15600255462534
         ],
         "z": [
          4.093868595945212,
          3.9903216480968045
         ]
        },
        {
         "line": {
          "color": "crimson",
          "width": 2
         },
         "mode": "lines",
         "showlegend": false,
         "type": "scatter3d",
         "x": [
          -0.18470728282965554,
          -0.16665267766117065
         ],
         "y": [
          -1.1448157535479608,
          -1.1448157535479608
         ],
         "z": [
          5.957713657216523,
          5.854166709368116
         ]
        },
        {
         "line": {
          "color": "crimson",
          "width": 2
         },
         "mode": "lines",
         "showlegend": false,
         "type": "scatter3d",
         "x": [
          -0.14859807249268564,
          -0.16665267766117065
         ],
         "y": [
          0.7755522831951094,
          0.7755522831951094
         ],
         "z": [
          4.093868595945212,
          4.093868595945212
         ]
        },
        {
         "line": {
          "color": "crimson",
          "width": 2
         },
         "mode": "lines",
         "showlegend": false,
         "type": "scatter3d",
         "x": [
          -0.14859807249268564,
          -0.16665267766117065
         ],
         "y": [
          1.15600255462534,
          1.15600255462534
         ],
         "z": [
          4.093868595945212,
          3.9903216480968045
         ]
        },
        {
         "line": {
          "color": "crimson",
          "width": 2
         },
         "mode": "lines",
         "showlegend": false,
         "type": "scatter3d",
         "x": [
          -0.16665267766117065,
          -0.14859807249268564
         ],
         "y": [
          -1.1448157535479608,
          -1.1448157535479608
         ],
         "z": [
          -2.0154013271107534,
          -2.11894827495916
         ]
        },
        {
         "line": {
          "color": "crimson",
          "width": 2
         },
         "mode": "lines",
         "showlegend": false,
         "type": "scatter3d",
         "x": [
          -0.16665267766117065,
          -0.14859807249268564
         ],
         "y": [
          -1.1448157535479608,
          -1.1448157535479608
         ],
         "z": [
          2.0229296389770877,
          1.919382691128682
         ]
        },
        {
         "line": {
          "color": "crimson",
          "width": 2
         },
         "mode": "lines",
         "showlegend": false,
         "type": "scatter3d",
         "x": [
          -0.16665267766117065,
          -0.14859807249268564
         ],
         "y": [
          -1.1448157535479608,
          -1.1448157535479608
         ],
         "z": [
          5.957713657216523,
          5.854166709368116
         ]
        },
        {
         "line": {
          "color": "crimson",
          "width": 2
         },
         "mode": "lines",
         "showlegend": false,
         "type": "scatter3d",
         "x": [
          -0.13054346732420075,
          -0.14859807249268564
         ],
         "y": [
          1.15600255462534,
          1.15600255462534
         ],
         "z": [
          4.093868595945212,
          3.9903216480968045
         ]
        },
        {
         "line": {
          "color": "crimson",
          "width": 2
         },
         "mode": "lines",
         "showlegend": false,
         "type": "scatter3d",
         "x": [
          -0.14859807249268564,
          -0.13054346732420075
         ],
         "y": [
          -1.1448157535479608,
          -1.1448157535479608
         ],
         "z": [
          -2.0154013271107534,
          -2.11894827495916
         ]
        },
        {
         "line": {
          "color": "crimson",
          "width": 2
         },
         "mode": "lines",
         "showlegend": false,
         "type": "scatter3d",
         "x": [
          -0.13054346732420075,
          -0.14859807249268564
         ],
         "y": [
          -1.1448157535479608,
          -1.1448157535479608
         ],
         "z": [
          1.919382691128682,
          2.0229296389770877
         ]
        },
        {
         "line": {
          "color": "crimson",
          "width": 2
         },
         "mode": "lines",
         "showlegend": false,
         "type": "scatter3d",
         "x": [
          -0.13054346732420075,
          -0.14859807249268564
         ],
         "y": [
          -1.1448157535479608,
          -1.1448157535479608
         ],
         "z": [
          5.854166709368116,
          5.957713657216523
         ]
        },
        {
         "line": {
          "color": "crimson",
          "width": 2
         },
         "mode": "lines",
         "showlegend": false,
         "type": "scatter3d",
         "x": [
          -0.11248886215571585,
          -0.13054346732420075
         ],
         "y": [
          -0.7643654821177299,
          -0.7643654821177299
         ],
         "z": [
          -0.048009317991035694,
          -0.048009317991035694
         ]
        },
        {
         "line": {
          "color": "crimson",
          "width": 2
         },
         "mode": "lines",
         "showlegend": false,
         "type": "scatter3d",
         "x": [
          -0.13054346732420075,
          -0.11248886215571585
         ],
         "y": [
          -1.1448157535479608,
          -1.1448157535479608
         ],
         "z": [
          -2.0154013271107534,
          -2.11894827495916
         ]
        },
        {
         "line": {
          "color": "crimson",
          "width": 2
         },
         "mode": "lines",
         "showlegend": false,
         "type": "scatter3d",
         "x": [
          -0.13054346732420075,
          -0.11248886215571585
         ],
         "y": [
          -1.1448157535479608,
          -1.1448157535479608
         ],
         "z": [
          2.0229296389770877,
          1.919382691128682
         ]
        },
        {
         "line": {
          "color": "crimson",
          "width": 2
         },
         "mode": "lines",
         "showlegend": false,
         "type": "scatter3d",
         "x": [
          -0.13054346732420075,
          -0.11248886215571585
         ],
         "y": [
          -1.1448157535479608,
          -1.1448157535479608
         ],
         "z": [
          5.957713657216523,
          5.854166709368116
         ]
        },
        {
         "line": {
          "color": "crimson",
          "width": 2
         },
         "mode": "lines",
         "showlegend": false,
         "type": "scatter3d",
         "x": [
          -0.11248886215571585,
          -0.09443425698723096
         ],
         "y": [
          -1.1448157535479608,
          -1.1448157535479608
         ],
         "z": [
          -2.0154013271107534,
          -2.11894827495916
         ]
        },
        {
         "line": {
          "color": "crimson",
          "width": 2
         },
         "mode": "lines",
         "showlegend": false,
         "type": "scatter3d",
         "x": [
          -0.09443425698723096,
          -0.11248886215571585
         ],
         "y": [
          -1.1448157535479608,
          -1.1448157535479608
         ],
         "z": [
          1.919382691128682,
          2.0229296389770877
         ]
        },
        {
         "line": {
          "color": "crimson",
          "width": 2
         },
         "mode": "lines",
         "showlegend": false,
         "type": "scatter3d",
         "x": [
          -0.09443425698723096,
          -0.11248886215571585
         ],
         "y": [
          -1.1448157535479608,
          -1.1448157535479608
         ],
         "z": [
          5.854166709368116,
          5.957713657216523
         ]
        },
        {
         "line": {
          "color": "crimson",
          "width": 2
         },
         "mode": "lines",
         "showlegend": false,
         "type": "scatter3d",
         "x": [
          -0.09443425698723096,
          -0.07637965181874606
         ],
         "y": [
          0.793668962787025,
          0.793668962787025
         ],
         "z": [
          0.055537629857369986,
          0.055537629857369986
         ]
        },
        {
         "line": {
          "color": "crimson",
          "width": 2
         },
         "mode": "lines",
         "showlegend": false,
         "type": "scatter3d",
         "x": [
          -0.09443425698723096,
          -0.07637965181874606
         ],
         "y": [
          -1.1448157535479608,
          -1.1448157535479608
         ],
         "z": [
          -2.0154013271107534,
          -2.11894827495916
         ]
        },
        {
         "line": {
          "color": "crimson",
          "width": 2
         },
         "mode": "lines",
         "showlegend": false,
         "type": "scatter3d",
         "x": [
          -0.09443425698723096,
          -0.07637965181874606
         ],
         "y": [
          -1.1448157535479608,
          -1.1448157535479608
         ],
         "z": [
          2.0229296389770877,
          1.919382691128682
         ]
        },
        {
         "line": {
          "color": "crimson",
          "width": 2
         },
         "mode": "lines",
         "showlegend": false,
         "type": "scatter3d",
         "x": [
          -0.07637965181874606,
          -0.09443425698723096
         ],
         "y": [
          -1.1448157535479608,
          -1.1448157535479608
         ],
         "z": [
          5.854166709368116,
          5.957713657216523
         ]
        },
        {
         "line": {
          "color": "crimson",
          "width": 2
         },
         "mode": "lines",
         "showlegend": false,
         "type": "scatter3d",
         "x": [
          -0.05832504665026117,
          -0.07637965181874606
         ],
         "y": [
          -0.7824821617096457,
          -0.7824821617096457
         ],
         "z": [
          -3.9827933362304706,
          -3.9827933362304706
         ]
        },
        {
         "line": {
          "color": "crimson",
          "width": 2
         },
         "mode": "lines",
         "showlegend": false,
         "type": "scatter3d",
         "x": [
          -0.05832504665026117,
          -0.07637965181874606
         ],
         "y": [
          -0.7824821617096457,
          -0.7824821617096457
         ],
         "z": [
          -2.326042170655972,
          -2.326042170655972
         ]
        },
        {
         "line": {
          "color": "crimson",
          "width": 2
         },
         "mode": "lines",
         "showlegend": false,
         "type": "scatter3d",
         "x": [
          -0.07637965181874606,
          -0.05832504665026117
         ],
         "y": [
          -1.1448157535479608,
          -1.1448157535479608
         ],
         "z": [
          -2.0154013271107534,
          -2.11894827495916
         ]
        },
        {
         "line": {
          "color": "crimson",
          "width": 2
         },
         "mode": "lines",
         "showlegend": false,
         "type": "scatter3d",
         "x": [
          -0.07637965181874606,
          -0.05832504665026117
         ],
         "y": [
          -1.1448157535479608,
          -1.1448157535479608
         ],
         "z": [
          2.0229296389770877,
          1.919382691128682
         ]
        },
        {
         "line": {
          "color": "crimson",
          "width": 2
         },
         "mode": "lines",
         "showlegend": false,
         "type": "scatter3d",
         "x": [
          -0.040270441481776276,
          -0.05832504665026117
         ],
         "y": [
          0.793668962787025,
          0.793668962787025
         ],
         "z": [
          3.9903216480968045,
          3.9903216480968045
         ]
        },
        {
         "line": {
          "color": "crimson",
          "width": 2
         },
         "mode": "lines",
         "showlegend": false,
         "type": "scatter3d",
         "x": [
          -0.05832504665026117,
          -0.040270441481776276
         ],
         "y": [
          1.15600255462534,
          1.15600255462534
         ],
         "z": [
          -0.048009317991035694,
          0.055537629857369986
         ]
        },
        {
         "line": {
          "color": "crimson",
          "width": 2
         },
         "mode": "lines",
         "showlegend": false,
         "type": "scatter3d",
         "x": [
          -0.07637965181874606,
          -0.05832504665026117
         ],
         "y": [
          1.15600255462534,
          1.15600255462534
         ],
         "z": [
          3.9903216480968045,
          3.8867747002483988
         ]
        },
        {
         "line": {
          "color": "crimson",
          "width": 2
         },
         "mode": "lines",
         "showlegend": false,
         "type": "scatter3d",
         "x": [
          -0.040270441481776276,
          -0.05832504665026117
         ],
         "y": [
          -1.1448157535479608,
          -1.1448157535479608
         ],
         "z": [
          -2.11894827495916,
          -2.0154013271107534
         ]
        },
        {
         "line": {
          "color": "crimson",
          "width": 2
         },
         "mode": "lines",
         "showlegend": false,
         "type": "scatter3d",
         "x": [
          -0.040270441481776276,
          -0.05832504665026117
         ],
         "y": [
          -1.1448157535479608,
          -1.1448157535479608
         ],
         "z": [
          1.919382691128682,
          2.0229296389770877
         ]
        },
        {
         "line": {
          "color": "crimson",
          "width": 2
         },
         "mode": "lines",
         "showlegend": false,
         "type": "scatter3d",
         "x": [
          -0.02221583631329138,
          -0.02221583631329138
         ],
         "y": [
          -0.8005988413015614,
          -0.7824821617096457
         ],
         "z": [
          5.957713657216523,
          5.957713657216523
         ]
        },
        {
         "line": {
          "color": "crimson",
          "width": 2
         },
         "mode": "lines",
         "showlegend": false,
         "type": "scatter3d",
         "x": [
          -0.040270441481776276,
          -0.040270441481776276
         ],
         "y": [
          -0.7824821617096457,
          -0.8005988413015614
         ],
         "z": [
          5.336431970126085,
          5.23288502227768
         ]
        },
        {
         "line": {
          "color": "crimson",
          "width": 2
         },
         "mode": "lines",
         "showlegend": false,
         "type": "scatter3d",
         "x": [
          -0.040270441481776276,
          -0.040270441481776276
         ],
         "y": [
          -0.8005988413015614,
          -0.7824821617096457
         ],
         "z": [
          5.336431970126085,
          5.439978917974491
         ]
        },
        {
         "line": {
          "color": "crimson",
          "width": 2
         },
         "mode": "lines",
         "showlegend": false,
         "type": "scatter3d",
         "x": [
          -0.040270441481776276,
          -0.040270441481776276
         ],
         "y": [
          -0.8005988413015614,
          -0.7824821617096457
         ],
         "z": [
          5.439978917974491,
          5.5435258658228985
         ]
        },
        {
         "line": {
          "color": "crimson",
          "width": 2
         },
         "mode": "lines",
         "showlegend": false,
         "type": "scatter3d",
         "x": [
          -0.040270441481776276,
          -0.040270441481776276
         ],
         "y": [
          -0.7824821617096457,
          -0.8005988413015614
         ],
         "z": [
          5.647072813671304,
          5.5435258658228985
         ]
        },
        {
         "line": {
          "color": "crimson",
          "width": 2
         },
         "mode": "lines",
         "showlegend": false,
         "type": "scatter3d",
         "x": [
          -0.02221583631329138,
          -0.040270441481776276
         ],
         "y": [
          1.15600255462534,
          1.15600255462534
         ],
         "z": [
          0.055537629857369986,
          -0.048009317991035694
         ]
        },
        {
         "line": {
          "color": "crimson",
          "width": 2
         },
         "mode": "lines",
         "showlegend": false,
         "type": "scatter3d",
         "x": [
          -0.040270441481776276,
          -0.02221583631329138
         ],
         "y": [
          -1.1448157535479608,
          -1.1448157535479608
         ],
         "z": [
          -2.0154013271107534,
          -2.11894827495916
         ]
        },
        {
         "line": {
          "color": "crimson",
          "width": 2
         },
         "mode": "lines",
         "showlegend": false,
         "type": "scatter3d",
         "x": [
          -0.02221583631329138,
          -0.004161231144806488
         ],
         "y": [
          -0.8005988413015614,
          -0.8005988413015614
         ],
         "z": [
          3.9903216480968045,
          3.9903216480968045
         ]
        },
        {
         "line": {
          "color": "crimson",
          "width": 2
         },
         "mode": "lines",
         "showlegend": false,
         "type": "scatter3d",
         "x": [
          -0.02221583631329138,
          -0.02221583631329138
         ],
         "y": [
          -0.7824821617096457,
          -0.8005988413015614
         ],
         "z": [
          4.715150283035648,
          4.818697230884055
         ]
        },
        {
         "line": {
          "color": "crimson",
          "width": 2
         },
         "mode": "lines",
         "showlegend": false,
         "type": "scatter3d",
         "x": [
          -0.02221583631329138,
          -0.02221583631329138
         ],
         "y": [
          -0.8005988413015614,
          -0.7824821617096457
         ],
         "z": [
          4.922244178732461,
          4.818697230884055
         ]
        },
        {
         "line": {
          "color": "crimson",
          "width": 2
         },
         "mode": "lines",
         "showlegend": false,
         "type": "scatter3d",
         "x": [
          -0.02221583631329138,
          -0.02221583631329138
         ],
         "y": [
          -0.8005988413015614,
          -0.7824821617096457
         ],
         "z": [
          5.025791126580867,
          5.129338074429272
         ]
        },
        {
         "line": {
          "color": "crimson",
          "width": 2
         },
         "mode": "lines",
         "showlegend": false,
         "type": "scatter3d",
         "x": [
          -0.02221583631329138,
          -0.02221583631329138
         ],
         "y": [
          -0.8005988413015614,
          -0.7824821617096457
         ],
         "z": [
          5.129338074429272,
          5.23288502227768
         ]
        },
        {
         "line": {
          "color": "crimson",
          "width": 2
         },
         "mode": "lines",
         "showlegend": false,
         "type": "scatter3d",
         "x": [
          -0.02221583631329138,
          -0.004161231144806488
         ],
         "y": [
          1.15600255462534,
          1.15600255462534
         ],
         "z": [
          -0.048009317991035694,
          0.055537629857369986
         ]
        },
        {
         "line": {
          "color": "crimson",
          "width": 2
         },
         "mode": "lines",
         "showlegend": false,
         "type": "scatter3d",
         "x": [
          -0.004161231144806488,
          -0.02221583631329138
         ],
         "y": [
          1.15600255462534,
          1.15600255462534
         ],
         "z": [
          3.9903216480968045,
          3.8867747002483988
         ]
        },
        {
         "line": {
          "color": "crimson",
          "width": 2
         },
         "mode": "lines",
         "showlegend": false,
         "type": "scatter3d",
         "x": [
          -0.004161231144806488,
          -0.02221583631329138
         ],
         "y": [
          -1.1448157535479608,
          -1.1448157535479608
         ],
         "z": [
          -2.11894827495916,
          -2.0154013271107534
         ]
        },
        {
         "line": {
          "color": "crimson",
          "width": 2
         },
         "mode": "lines",
         "showlegend": false,
         "type": "scatter3d",
         "x": [
          0.013893374023678406,
          -0.004161231144806488
         ],
         "y": [
          -1.1448157535479608,
          -1.1448157535479608
         ],
         "z": [
          2.0229296389770877,
          1.919382691128682
         ]
        },
        {
         "line": {
          "color": "crimson",
          "width": 2
         },
         "mode": "lines",
         "showlegend": false,
         "type": "scatter3d",
         "x": [
          -0.004161231144806488,
          -0.004161231144806488
         ],
         "y": [
          -0.9092989188530559,
          -0.9274155984449717
         ],
         "z": [
          2.0229296389770877,
          1.919382691128682
         ]
        },
        {
         "line": {
          "color": "crimson",
          "width": 2
         },
         "mode": "lines",
         "showlegend": false,
         "type": "scatter3d",
         "x": [
          -0.004161231144806488,
          -0.004161231144806488
         ],
         "y": [
          -0.8005988413015614,
          -0.8187155208934771
         ],
         "z": [
          -2.2224952228075656,
          -2.326042170655972
         ]
        },
        {
         "line": {
          "color": "crimson",
          "width": 2
         },
         "mode": "lines",
         "showlegend": false,
         "type": "scatter3d",
         "x": [
          -0.004161231144806488,
          -0.004161231144806488
         ],
         "y": [
          -0.8005988413015614,
          -0.7824821617096457
         ],
         "z": [
          4.404509439490429,
          4.300962491642023
         ]
        },
        {
         "line": {
          "color": "crimson",
          "width": 2
         },
         "mode": "lines",
         "showlegend": false,
         "type": "scatter3d",
         "x": [
          -0.004161231144806488,
          -0.004161231144806488
         ],
         "y": [
          -0.8005988413015614,
          -0.7824821617096457
         ],
         "z": [
          4.508056387338836,
          4.404509439490429
         ]
        },
        {
         "line": {
          "color": "crimson",
          "width": 2
         },
         "mode": "lines",
         "showlegend": false,
         "type": "scatter3d",
         "x": [
          -0.004161231144806488,
          -0.004161231144806488
         ],
         "y": [
          -0.7824821617096457,
          -0.8005988413015614
         ],
         "z": [
          4.508056387338836,
          4.611603335187242
         ]
        },
        {
         "line": {
          "color": "crimson",
          "width": 2
         },
         "mode": "lines",
         "showlegend": false,
         "type": "scatter3d",
         "x": [
          -0.004161231144806488,
          -0.004161231144806488
         ],
         "y": [
          -0.8005988413015614,
          -0.7824821617096457
         ],
         "z": [
          4.715150283035648,
          4.611603335187242
         ]
        },
        {
         "line": {
          "color": "crimson",
          "width": 2
         },
         "mode": "lines",
         "showlegend": false,
         "type": "scatter3d",
         "x": [
          -0.004161231144806488,
          0.013893374023678406
         ],
         "y": [
          0.8117856423789409,
          0.8117856423789409
         ],
         "z": [
          -3.9827933362304706,
          -3.9827933362304706
         ]
        },
        {
         "line": {
          "color": "crimson",
          "width": 2
         },
         "mode": "lines",
         "showlegend": false,
         "type": "scatter3d",
         "x": [
          -0.004161231144806488,
          0.013893374023678406
         ],
         "y": [
          1.15600255462534,
          1.15600255462534
         ],
         "z": [
          -4.086340284078877,
          -3.9827933362304706
         ]
        },
        {
         "line": {
          "color": "crimson",
          "width": 2
         },
         "mode": "lines",
         "showlegend": false,
         "type": "scatter3d",
         "x": [
          -0.004161231144806488,
          0.013893374023678406
         ],
         "y": [
          1.15600255462534,
          1.15600255462534
         ],
         "z": [
          -0.048009317991035694,
          0.055537629857369986
         ]
        },
        {
         "line": {
          "color": "crimson",
          "width": 2
         },
         "mode": "lines",
         "showlegend": false,
         "type": "scatter3d",
         "x": [
          -0.004161231144806488,
          0.013893374023678406
         ],
         "y": [
          1.15600255462534,
          1.15600255462534
         ],
         "z": [
          3.8867747002483988,
          3.9903216480968045
         ]
        },
        {
         "line": {
          "color": "crimson",
          "width": 2
         },
         "mode": "lines",
         "showlegend": false,
         "type": "scatter3d",
         "x": [
          0.013893374023678406,
          0.013893374023678406
         ],
         "y": [
          -0.8005988413015614,
          -0.8187155208934771
         ],
         "z": [
          -2.6366830142011906,
          -2.7402299620495967
         ]
        },
        {
         "line": {
          "color": "crimson",
          "width": 2
         },
         "mode": "lines",
         "showlegend": false,
         "type": "scatter3d",
         "x": [
          0.013893374023678406,
          0.013893374023678406
         ],
         "y": [
          -0.8187155208934771,
          -0.8005988413015614
         ],
         "z": [
          -2.6366830142011906,
          -2.5331360663527844
         ]
        },
        {
         "line": {
          "color": "crimson",
          "width": 2
         },
         "mode": "lines",
         "showlegend": false,
         "type": "scatter3d",
         "x": [
          0.013893374023678406,
          0.013893374023678406
         ],
         "y": [
          -0.8187155208934771,
          -0.8005988413015614
         ],
         "z": [
          -2.5331360663527844,
          -2.429589118504378
         ]
        },
        {
         "line": {
          "color": "crimson",
          "width": 2
         },
         "mode": "lines",
         "showlegend": false,
         "type": "scatter3d",
         "x": [
          0.013893374023678406,
          0.013893374023678406
         ],
         "y": [
          -0.8187155208934771,
          -0.8005988413015614
         ],
         "z": [
          -2.429589118504378,
          -2.326042170655972
         ]
        },
        {
         "line": {
          "color": "crimson",
          "width": 2
         },
         "mode": "lines",
         "showlegend": false,
         "type": "scatter3d",
         "x": [
          0.0319479791921633,
          0.013893374023678406
         ],
         "y": [
          -0.8005988413015614,
          -0.8005988413015614
         ],
         "z": [
          0.055537629857369986,
          0.055537629857369986
         ]
        },
        {
         "line": {
          "color": "crimson",
          "width": 2
         },
         "mode": "lines",
         "showlegend": false,
         "type": "scatter3d",
         "x": [
          0.0319479791921633,
          0.013893374023678406
         ],
         "y": [
          1.15600255462534,
          1.15600255462534
         ],
         "z": [
          -3.9827933362304706,
          -4.086340284078877
         ]
        },
        {
         "line": {
          "color": "crimson",
          "width": 2
         },
         "mode": "lines",
         "showlegend": false,
         "type": "scatter3d",
         "x": [
          0.013893374023678406,
          0.0319479791921633
         ],
         "y": [
          1.15600255462534,
          1.15600255462534
         ],
         "z": [
          -0.048009317991035694,
          0.055537629857369986
         ]
        },
        {
         "line": {
          "color": "crimson",
          "width": 2
         },
         "mode": "lines",
         "showlegend": false,
         "type": "scatter3d",
         "x": [
          0.013893374023678406,
          0.0319479791921633
         ],
         "y": [
          1.15600255462534,
          1.15600255462534
         ],
         "z": [
          3.8867747002483988,
          3.9903216480968045
         ]
        },
        {
         "line": {
          "color": "crimson",
          "width": 2
         },
         "mode": "lines",
         "showlegend": false,
         "type": "scatter3d",
         "x": [
          0.0319479791921633,
          0.013893374023678406
         ],
         "y": [
          -1.1448157535479608,
          -1.1448157535479608
         ],
         "z": [
          5.957713657216523,
          6.061260605064929
         ]
        },
        {
         "line": {
          "color": "crimson",
          "width": 2
         },
         "mode": "lines",
         "showlegend": false,
         "type": "scatter3d",
         "x": [
          0.0319479791921633,
          0.0319479791921633
         ],
         "y": [
          -0.8187155208934771,
          -0.8005988413015614
         ],
         "z": [
          -3.2579647012916273,
          -3.361511649140034
         ]
        },
        {
         "line": {
          "color": "crimson",
          "width": 2
         },
         "mode": "lines",
         "showlegend": false,
         "type": "scatter3d",
         "x": [
          0.0319479791921633,
          0.0319479791921633
         ],
         "y": [
          -0.8187155208934771,
          -0.8005988413015614
         ],
         "z": [
          -3.154417753443221,
          -3.2579647012916273
         ]
        },
        {
         "line": {
          "color": "crimson",
          "width": 2
         },
         "mode": "lines",
         "showlegend": false,
         "type": "scatter3d",
         "x": [
          0.0319479791921633,
          0.0319479791921633
         ],
         "y": [
          -0.8005988413015614,
          -0.8187155208934771
         ],
         "z": [
          -2.843776909898003,
          -2.947323857746409
         ]
        },
        {
         "line": {
          "color": "crimson",
          "width": 2
         },
         "mode": "lines",
         "showlegend": false,
         "type": "scatter3d",
         "x": [
          0.0319479791921633,
          0.0319479791921633
         ],
         "y": [
          -0.8005988413015614,
          -0.8187155208934771
         ],
         "z": [
          -2.7402299620495967,
          -2.843776909898003
         ]
        },
        {
         "line": {
          "color": "crimson",
          "width": 2
         },
         "mode": "lines",
         "showlegend": false,
         "type": "scatter3d",
         "x": [
          0.050002584360648195,
          0.0319479791921633
         ],
         "y": [
          1.15600255462534,
          1.15600255462534
         ],
         "z": [
          3.9903216480968045,
          3.8867747002483988
         ]
        },
        {
         "line": {
          "color": "crimson",
          "width": 2
         },
         "mode": "lines",
         "showlegend": false,
         "type": "scatter3d",
         "x": [
          0.050002584360648195,
          0.0319479791921633
         ],
         "y": [
          -1.1448157535479608,
          -1.1448157535479608
         ],
         "z": [
          -2.0154013271107534,
          -1.9118543792623468
         ]
        },
        {
         "line": {
          "color": "crimson",
          "width": 2
         },
         "mode": "lines",
         "showlegend": false,
         "type": "scatter3d",
         "x": [
          0.050002584360648195,
          0.0319479791921633
         ],
         "y": [
          -1.1448157535479608,
          -1.1448157535479608
         ],
         "z": [
          5.957713657216523,
          6.061260605064929
         ]
        },
        {
         "line": {
          "color": "crimson",
          "width": 2
         },
         "mode": "lines",
         "showlegend": false,
         "type": "scatter3d",
         "x": [
          0.050002584360648195,
          0.050002584360648195
         ],
         "y": [
          -0.8187155208934771,
          -0.8005988413015614
         ],
         "z": [
          -3.7756994405336584,
          -3.8792463883820645
         ]
        },
        {
         "line": {
          "color": "crimson",
          "width": 2
         },
         "mode": "lines",
         "showlegend": false,
         "type": "scatter3d",
         "x": [
          0.06805718952913309,
          0.06805718952913309
         ],
         "y": [
          -0.7824821617096457,
          -0.7643654821177299
         ],
         "z": [
          6.061260605064929,
          6.061260605064929
         ]
        },
        {
         "line": {
          "color": "crimson",
          "width": 2
         },
         "mode": "lines",
         "showlegend": false,
         "type": "scatter3d",
         "x": [
          0.050002584360648195,
          0.06805718952913309
         ],
         "y": [
          1.15600255462534,
          1.15600255462534
         ],
         "z": [
          3.8867747002483988,
          3.9903216480968045
         ]
        },
        {
         "line": {
          "color": "crimson",
          "width": 2
         },
         "mode": "lines",
         "showlegend": false,
         "type": "scatter3d",
         "x": [
          0.050002584360648195,
          0.06805718952913309
         ],
         "y": [
          -1.1448157535479608,
          -1.1448157535479608
         ],
         "z": [
          -1.9118543792623468,
          -2.0154013271107534
         ]
        },
        {
         "line": {
          "color": "crimson",
          "width": 2
         },
         "mode": "lines",
         "showlegend": false,
         "type": "scatter3d",
         "x": [
          0.050002584360648195,
          0.06805718952913309
         ],
         "y": [
          -1.1448157535479608,
          -1.1448157535479608
         ],
         "z": [
          6.061260605064929,
          5.957713657216523
         ]
        },
        {
         "line": {
          "color": "crimson",
          "width": 2
         },
         "mode": "lines",
         "showlegend": false,
         "type": "scatter3d",
         "x": [
          0.08611179469761798,
          0.06805718952913309
         ],
         "y": [
          -0.8187155208934771,
          -0.8187155208934771
         ],
         "z": [
          -3.9827933362304706,
          -3.9827933362304706
         ]
        },
        {
         "line": {
          "color": "crimson",
          "width": 2
         },
         "mode": "lines",
         "showlegend": false,
         "type": "scatter3d",
         "x": [
          0.08611179469761798,
          0.08611179469761798
         ],
         "y": [
          0.7755522831951094,
          0.7755522831951094
         ],
         "z": [
          -0.3586501615362545,
          -0.25510321368784794
         ]
        },
        {
         "line": {
          "color": "crimson",
          "width": 2
         },
         "mode": "lines",
         "showlegend": false,
         "type": "scatter3d",
         "x": [
          0.06805718952913309,
          0.08611179469761798
         ],
         "y": [
          1.15600255462534,
          1.15600255462534
         ],
         "z": [
          -0.15155626583944226,
          -0.048009317991035694
         ]
        },
        {
         "line": {
          "color": "crimson",
          "width": 2
         },
         "mode": "lines",
         "showlegend": false,
         "type": "scatter3d",
         "x": [
          0.06805718952913309,
          0.08611179469761798
         ],
         "y": [
          1.15600255462534,
          1.15600255462534
         ],
         "z": [
          3.8867747002483988,
          3.9903216480968045
         ]
        },
        {
         "line": {
          "color": "crimson",
          "width": 2
         },
         "mode": "lines",
         "showlegend": false,
         "type": "scatter3d",
         "x": [
          0.06805718952913309,
          0.08611179469761798
         ],
         "y": [
          -1.1448157535479608,
          -1.1448157535479608
         ],
         "z": [
          -1.9118543792623468,
          -2.0154013271107534
         ]
        },
        {
         "line": {
          "color": "crimson",
          "width": 2
         },
         "mode": "lines",
         "showlegend": false,
         "type": "scatter3d",
         "x": [
          0.06805718952913309,
          0.08611179469761798
         ],
         "y": [
          -1.1448157535479608,
          -1.1448157535479608
         ],
         "z": [
          2.1264765868254933,
          2.0229296389770877
         ]
        },
        {
         "line": {
          "color": "crimson",
          "width": 2
         },
         "mode": "lines",
         "showlegend": false,
         "type": "scatter3d",
         "x": [
          0.06805718952913309,
          0.08611179469761798
         ],
         "y": [
          -1.1448157535479608,
          -1.1448157535479608
         ],
         "z": [
          6.061260605064929,
          5.957713657216523
         ]
        },
        {
         "line": {
          "color": "crimson",
          "width": 2
         },
         "mode": "lines",
         "showlegend": false,
         "type": "scatter3d",
         "x": [
          0.10416639986610288,
          0.10416639986610288
         ],
         "y": [
          0.7755522831951094,
          0.7755522831951094
         ],
         "z": [
          -4.3969811276240955,
          -4.293434179775689
         ]
        },
        {
         "line": {
          "color": "crimson",
          "width": 2
         },
         "mode": "lines",
         "showlegend": false,
         "type": "scatter3d",
         "x": [
          0.10416639986610288,
          0.08611179469761798
         ],
         "y": [
          0.8117856423789409,
          0.8117856423789409
         ],
         "z": [
          3.8867747002483988,
          3.8867747002483988
         ]
        },
        {
         "line": {
          "color": "crimson",
          "width": 2
         },
         "mode": "lines",
         "showlegend": false,
         "type": "scatter3d",
         "x": [
          0.10416639986610288,
          0.08611179469761798
         ],
         "y": [
          1.15600255462534,
          1.15600255462534
         ],
         "z": [
          -0.048009317991035694,
          -0.15155626583944226
         ]
        },
        {
         "line": {
          "color": "crimson",
          "width": 2
         },
         "mode": "lines",
         "showlegend": false,
         "type": "scatter3d",
         "x": [
          0.10416639986610288,
          0.08611179469761798
         ],
         "y": [
          1.15600255462534,
          1.15600255462534
         ],
         "z": [
          3.9903216480968045,
          3.8867747002483988
         ]
        },
        {
         "line": {
          "color": "crimson",
          "width": 2
         },
         "mode": "lines",
         "showlegend": false,
         "type": "scatter3d",
         "x": [
          0.08611179469761798,
          0.10416639986610288
         ],
         "y": [
          -1.1448157535479608,
          -1.1448157535479608
         ],
         "z": [
          -1.9118543792623468,
          -2.0154013271107534
         ]
        },
        {
         "line": {
          "color": "crimson",
          "width": 2
         },
         "mode": "lines",
         "showlegend": false,
         "type": "scatter3d",
         "x": [
          0.08611179469761798,
          0.10416639986610288
         ],
         "y": [
          -1.1448157535479608,
          -1.1448157535479608
         ],
         "z": [
          2.1264765868254933,
          2.0229296389770877
         ]
        },
        {
         "line": {
          "color": "crimson",
          "width": 2
         },
         "mode": "lines",
         "showlegend": false,
         "type": "scatter3d",
         "x": [
          0.10416639986610288,
          0.08611179469761798
         ],
         "y": [
          -1.1448157535479608,
          -1.1448157535479608
         ],
         "z": [
          5.957713657216523,
          6.061260605064929
         ]
        },
        {
         "line": {
          "color": "crimson",
          "width": 2
         },
         "mode": "lines",
         "showlegend": false,
         "type": "scatter3d",
         "x": [
          0.12222100503458777,
          0.10416639986610288
         ],
         "y": [
          1.15600255462534,
          1.15600255462534
         ],
         "z": [
          -0.048009317991035694,
          -0.15155626583944226
         ]
        },
        {
         "line": {
          "color": "crimson",
          "width": 2
         },
         "mode": "lines",
         "showlegend": false,
         "type": "scatter3d",
         "x": [
          0.10416639986610288,
          0.12222100503458777
         ],
         "y": [
          -1.1448157535479608,
          -1.1448157535479608
         ],
         "z": [
          -1.9118543792623468,
          -2.0154013271107534
         ]
        },
        {
         "line": {
          "color": "crimson",
          "width": 2
         },
         "mode": "lines",
         "showlegend": false,
         "type": "scatter3d",
         "x": [
          0.10416639986610288,
          0.12222100503458777
         ],
         "y": [
          -1.1448157535479608,
          -1.1448157535479608
         ],
         "z": [
          2.1264765868254933,
          2.0229296389770877
         ]
        },
        {
         "line": {
          "color": "crimson",
          "width": 2
         },
         "mode": "lines",
         "showlegend": false,
         "type": "scatter3d",
         "x": [
          0.14027561020307266,
          0.14027561020307266
         ],
         "y": [
          -0.8005988413015614,
          -0.7824821617096457
         ],
         "z": [
          0.3661784734025888,
          0.3661784734025888
         ]
        },
        {
         "line": {
          "color": "crimson",
          "width": 2
         },
         "mode": "lines",
         "showlegend": false,
         "type": "scatter3d",
         "x": [
          0.14027561020307266,
          0.14027561020307266
         ],
         "y": [
          -0.8005988413015614,
          -0.7824821617096457
         ],
         "z": [
          2.0229296389770877,
          2.0229296389770877
         ]
        },
        {
         "line": {
          "color": "crimson",
          "width": 2
         },
         "mode": "lines",
         "showlegend": false,
         "type": "scatter3d",
         "x": [
          0.12222100503458777,
          0.14027561020307266
         ],
         "y": [
          1.15600255462534,
          1.15600255462534
         ],
         "z": [
          -0.15155626583944226,
          -0.048009317991035694
         ]
        },
        {
         "line": {
          "color": "crimson",
          "width": 2
         },
         "mode": "lines",
         "showlegend": false,
         "type": "scatter3d",
         "x": [
          0.12222100503458777,
          0.14027561020307266
         ],
         "y": [
          -1.1448157535479608,
          -1.1448157535479608
         ],
         "z": [
          -1.9118543792623468,
          -2.0154013271107534
         ]
        },
        {
         "line": {
          "color": "crimson",
          "width": 2
         },
         "mode": "lines",
         "showlegend": false,
         "type": "scatter3d",
         "x": [
          0.12222100503458777,
          0.14027561020307266
         ],
         "y": [
          -1.1448157535479608,
          -1.1448157535479608
         ],
         "z": [
          2.1264765868254933,
          2.0229296389770877
         ]
        },
        {
         "line": {
          "color": "crimson",
          "width": 2
         },
         "mode": "lines",
         "showlegend": false,
         "type": "scatter3d",
         "x": [
          0.15833021537155756,
          0.14027561020307266
         ],
         "y": [
          1.15600255462534,
          1.15600255462534
         ],
         "z": [
          -4.086340284078877,
          -4.189887231927283
         ]
        },
        {
         "line": {
          "color": "crimson",
          "width": 2
         },
         "mode": "lines",
         "showlegend": false,
         "type": "scatter3d",
         "x": [
          0.15833021537155756,
          0.14027561020307266
         ],
         "y": [
          1.15600255462534,
          1.15600255462534
         ],
         "z": [
          -0.048009317991035694,
          -0.15155626583944226
         ]
        },
        {
         "line": {
          "color": "crimson",
          "width": 2
         },
         "mode": "lines",
         "showlegend": false,
         "type": "scatter3d",
         "x": [
          0.15833021537155756,
          0.14027561020307266
         ],
         "y": [
          1.15600255462534,
          1.15600255462534
         ],
         "z": [
          3.8867747002483988,
          3.783227752399993
         ]
        },
        {
         "line": {
          "color": "crimson",
          "width": 2
         },
         "mode": "lines",
         "showlegend": false,
         "type": "scatter3d",
         "x": [
          0.14027561020307266,
          0.15833021537155756
         ],
         "y": [
          -1.1448157535479608,
          -1.1448157535479608
         ],
         "z": [
          2.1264765868254933,
          2.0229296389770877
         ]
        },
        {
         "line": {
          "color": "crimson",
          "width": 2
         },
         "mode": "lines",
         "showlegend": false,
         "type": "scatter3d",
         "x": [
          0.17638482054004245,
          0.15833021537155756
         ],
         "y": [
          1.15600255462534,
          1.15600255462534
         ],
         "z": [
          -4.086340284078877,
          -4.189887231927283
         ]
        },
        {
         "line": {
          "color": "crimson",
          "width": 2
         },
         "mode": "lines",
         "showlegend": false,
         "type": "scatter3d",
         "x": [
          0.15833021537155756,
          0.17638482054004245
         ],
         "y": [
          1.15600255462534,
          1.15600255462534
         ],
         "z": [
          -0.15155626583944226,
          -0.048009317991035694
         ]
        },
        {
         "line": {
          "color": "crimson",
          "width": 2
         },
         "mode": "lines",
         "showlegend": false,
         "type": "scatter3d",
         "x": [
          0.17638482054004245,
          0.15833021537155756
         ],
         "y": [
          1.15600255462534,
          1.15600255462534
         ],
         "z": [
          3.8867747002483988,
          3.783227752399993
         ]
        },
        {
         "line": {
          "color": "crimson",
          "width": 2
         },
         "mode": "lines",
         "showlegend": false,
         "type": "scatter3d",
         "x": [
          0.17638482054004245,
          0.15833021537155756
         ],
         "y": [
          -1.1448157535479608,
          -1.1448157535479608
         ],
         "z": [
          2.0229296389770877,
          2.1264765868254933
         ]
        },
        {
         "line": {
          "color": "crimson",
          "width": 2
         },
         "mode": "lines",
         "showlegend": false,
         "type": "scatter3d",
         "x": [
          0.19443942570852735,
          0.19443942570852735
         ],
         "y": [
          -0.7462488025258142,
          -0.7643654821177299
         ],
         "z": [
          -3.568605544836846,
          -3.568605544836846
         ]
        },
        {
         "line": {
          "color": "crimson",
          "width": 2
         },
         "mode": "lines",
         "showlegend": false,
         "type": "scatter3d",
         "x": [
          0.19443942570852735,
          0.19443942570852735
         ],
         "y": [
          -0.7462488025258142,
          -0.7643654821177299
         ],
         "z": [
          -1.9118543792623468,
          -1.9118543792623468
         ]
        },
        {
         "line": {
          "color": "crimson",
          "width": 2
         },
         "mode": "lines",
         "showlegend": false,
         "type": "scatter3d",
         "x": [
          0.19443942570852735,
          0.17638482054004245
         ],
         "y": [
          1.15600255462534,
          1.15600255462534
         ],
         "z": [
          -4.086340284078877,
          -4.189887231927283
         ]
        },
        {
         "line": {
          "color": "crimson",
          "width": 2
         },
         "mode": "lines",
         "showlegend": false,
         "type": "scatter3d",
         "x": [
          0.19443942570852735,
          0.17638482054004245
         ],
         "y": [
          1.15600255462534,
          1.15600255462534
         ],
         "z": [
          -0.048009317991035694,
          -0.15155626583944226
         ]
        },
        {
         "line": {
          "color": "crimson",
          "width": 2
         },
         "mode": "lines",
         "showlegend": false,
         "type": "scatter3d",
         "x": [
          0.17638482054004245,
          0.19443942570852735
         ],
         "y": [
          1.15600255462534,
          1.15600255462534
         ],
         "z": [
          3.783227752399993,
          3.8867747002483988
         ]
        },
        {
         "line": {
          "color": "crimson",
          "width": 2
         },
         "mode": "lines",
         "showlegend": false,
         "type": "scatter3d",
         "x": [
          0.17638482054004245,
          0.19443942570852735
         ],
         "y": [
          -1.1448157535479608,
          -1.1448157535479608
         ],
         "z": [
          2.1264765868254933,
          2.0229296389770877
         ]
        },
        {
         "line": {
          "color": "crimson",
          "width": 2
         },
         "mode": "lines",
         "showlegend": false,
         "type": "scatter3d",
         "x": [
          0.21249403087701224,
          0.19443942570852735
         ],
         "y": [
          1.15600255462534,
          1.15600255462534
         ],
         "z": [
          -4.086340284078877,
          -4.189887231927283
         ]
        },
        {
         "line": {
          "color": "crimson",
          "width": 2
         },
         "mode": "lines",
         "showlegend": false,
         "type": "scatter3d",
         "x": [
          0.21249403087701224,
          0.19443942570852735
         ],
         "y": [
          1.15600255462534,
          1.15600255462534
         ],
         "z": [
          3.8867747002483988,
          3.783227752399993
         ]
        },
        {
         "line": {
          "color": "crimson",
          "width": 2
         },
         "mode": "lines",
         "showlegend": false,
         "type": "scatter3d",
         "x": [
          0.23054863604549714,
          0.21249403087701224
         ],
         "y": [
          1.15600255462534,
          1.15600255462534
         ],
         "z": [
          -4.086340284078877,
          -4.189887231927283
         ]
        },
        {
         "line": {
          "color": "crimson",
          "width": 2
         },
         "mode": "lines",
         "showlegend": false,
         "type": "scatter3d",
         "x": [
          0.23054863604549714,
          0.21249403087701224
         ],
         "y": [
          1.15600255462534,
          1.15600255462534
         ],
         "z": [
          3.8867747002483988,
          3.783227752399993
         ]
        },
        {
         "line": {
          "color": "crimson",
          "width": 2
         },
         "mode": "lines",
         "showlegend": false,
         "type": "scatter3d",
         "x": [
          0.23054863604549714,
          0.24860324121398203
         ],
         "y": [
          -1.1448157535479608,
          -1.1448157535479608
         ],
         "z": [
          2.0229296389770877,
          2.1264765868254933
         ]
        },
        {
         "line": {
          "color": "crimson",
          "width": 2
         },
         "mode": "lines",
         "showlegend": false,
         "type": "scatter3d",
         "x": [
          0.23054863604549714,
          0.24860324121398203
         ],
         "y": [
          1.15600255462534,
          1.15600255462534
         ],
         "z": [
          -4.189887231927283,
          -4.086340284078877
         ]
        },
        {
         "line": {
          "color": "crimson",
          "width": 2
         },
         "mode": "lines",
         "showlegend": false,
         "type": "scatter3d",
         "x": [
          0.23054863604549714,
          0.24860324121398203
         ],
         "y": [
          1.15600255462534,
          1.15600255462534
         ],
         "z": [
          3.783227752399993,
          3.8867747002483988
         ]
        },
        {
         "line": {
          "color": "crimson",
          "width": 2
         },
         "mode": "lines",
         "showlegend": false,
         "type": "scatter3d",
         "x": [
          0.2666578463824669,
          0.24860324121398203
         ],
         "y": [
          -1.1448157535479608,
          -1.1448157535479608
         ],
         "z": [
          2.1264765868254933,
          2.0229296389770877
         ]
        },
        {
         "line": {
          "color": "crimson",
          "width": 2
         },
         "mode": "lines",
         "showlegend": false,
         "type": "scatter3d",
         "x": [
          0.2666578463824669,
          0.2666578463824669
         ],
         "y": [
          -0.7281321229338984,
          -0.7462488025258142
         ],
         "z": [
          2.1264765868254933,
          2.1264765868254933
         ]
        },
        {
         "line": {
          "color": "crimson",
          "width": 2
         },
         "mode": "lines",
         "showlegend": false,
         "type": "scatter3d",
         "x": [
          0.2666578463824669,
          0.2666578463824669
         ],
         "y": [
          -0.7281321229338984,
          -0.7100154433419826
         ],
         "z": [
          4.508056387338836,
          4.508056387338836
         ]
        },
        {
         "line": {
          "color": "crimson",
          "width": 2
         },
         "mode": "lines",
         "showlegend": false,
         "type": "scatter3d",
         "x": [
          0.2666578463824669,
          0.2666578463824669
         ],
         "y": [
          -0.7281321229338984,
          -0.7100154433419826
         ],
         "z": [
          6.164807552913334,
          6.164807552913334
         ]
        },
        {
         "line": {
          "color": "crimson",
          "width": 2
         },
         "mode": "lines",
         "showlegend": false,
         "type": "scatter3d",
         "x": [
          0.24860324121398203,
          0.2666578463824669
         ],
         "y": [
          1.15600255462534,
          1.15600255462534
         ],
         "z": [
          -4.189887231927283,
          -4.086340284078877
         ]
        },
        {
         "line": {
          "color": "crimson",
          "width": 2
         },
         "mode": "lines",
         "showlegend": false,
         "type": "scatter3d",
         "x": [
          0.2666578463824669,
          0.24860324121398203
         ],
         "y": [
          1.15600255462534,
          1.15600255462534
         ],
         "z": [
          3.8867747002483988,
          3.783227752399993
         ]
        },
        {
         "line": {
          "color": "crimson",
          "width": 2
         },
         "mode": "lines",
         "showlegend": false,
         "type": "scatter3d",
         "x": [
          0.2666578463824669,
          0.2847124515509518
         ],
         "y": [
          -1.1448157535479608,
          -1.1448157535479608
         ],
         "z": [
          2.0229296389770877,
          2.1264765868254933
         ]
        },
        {
         "line": {
          "color": "crimson",
          "width": 2
         },
         "mode": "lines",
         "showlegend": false,
         "type": "scatter3d",
         "x": [
          0.2847124515509518,
          0.2847124515509518
         ],
         "y": [
          0.7212022444193622,
          0.7212022444193622
         ],
         "z": [
          -0.4621971093846611,
          -0.3586501615362545
         ]
        },
        {
         "line": {
          "color": "crimson",
          "width": 2
         },
         "mode": "lines",
         "showlegend": false,
         "type": "scatter3d",
         "x": [
          0.2666578463824669,
          0.2847124515509518
         ],
         "y": [
          1.15600255462534,
          1.15600255462534
         ],
         "z": [
          -0.25510321368784794,
          -0.15155626583944226
         ]
        },
        {
         "line": {
          "color": "crimson",
          "width": 2
         },
         "mode": "lines",
         "showlegend": false,
         "type": "scatter3d",
         "x": [
          0.30276705671943693,
          0.2847124515509518
         ],
         "y": [
          -1.1448157535479608,
          -1.1448157535479608
         ],
         "z": [
          2.1264765868254933,
          2.0229296389770877
         ]
        },
        {
         "line": {
          "color": "crimson",
          "width": 2
         },
         "mode": "lines",
         "showlegend": false,
         "type": "scatter3d",
         "x": [
          0.30276705671943693,
          0.30276705671943693
         ],
         "y": [
          -0.7100154433419826,
          -0.6918987637500669
         ],
         "z": [
          0.46972542125099537,
          0.46972542125099537
         ]
        },
        {
         "line": {
          "color": "crimson",
          "width": 2
         },
         "mode": "lines",
         "showlegend": false,
         "type": "scatter3d",
         "x": [
          0.30276705671943693,
          0.30276705671943693
         ],
         "y": [
          -0.7100154433419826,
          -0.6918987637500669
         ],
         "z": [
          2.1264765868254933,
          2.1264765868254933
         ]
        },
        {
         "line": {
          "color": "crimson",
          "width": 2
         },
         "mode": "lines",
         "showlegend": false,
         "type": "scatter3d",
         "x": [
          0.30276705671943693,
          0.30276705671943693
         ],
         "y": [
          0.7030855648274463,
          0.7030855648274463
         ],
         "z": [
          3.4725869088547743,
          3.57613385670318
         ]
        },
        {
         "line": {
          "color": "crimson",
          "width": 2
         },
         "mode": "lines",
         "showlegend": false,
         "type": "scatter3d",
         "x": [
          0.2847124515509518,
          0.2847124515509518
         ],
         "y": [
          0.7574356036031935,
          0.7755522831951094
         ],
         "z": [
          -4.293434179775689,
          -4.3969811276240955
         ]
        },
        {
         "line": {
          "color": "crimson",
          "width": 2
         },
         "mode": "lines",
         "showlegend": false,
         "type": "scatter3d",
         "x": [
          0.30276705671943693,
          0.2847124515509518
         ],
         "y": [
          1.15600255462534,
          1.15600255462534
         ],
         "z": [
          -0.15155626583944226,
          -0.25510321368784794
         ]
        },
        {
         "line": {
          "color": "crimson",
          "width": 2
         },
         "mode": "lines",
         "showlegend": false,
         "type": "scatter3d",
         "x": [
          0.3208216618879218,
          0.30276705671943693
         ],
         "y": [
          -1.1448157535479608,
          -1.1448157535479608
         ],
         "z": [
          2.1264765868254933,
          2.0229296389770877
         ]
        },
        {
         "line": {
          "color": "crimson",
          "width": 2
         },
         "mode": "lines",
         "showlegend": false,
         "type": "scatter3d",
         "x": [
          0.3208216618879218,
          0.30276705671943693
         ],
         "y": [
          1.15600255462534,
          1.15600255462534
         ],
         "z": [
          -0.15155626583944226,
          -0.25510321368784794
         ]
        },
        {
         "line": {
          "color": "crimson",
          "width": 2
         },
         "mode": "lines",
         "showlegend": false,
         "type": "scatter3d",
         "x": [
          0.3388762670564067,
          0.3208216618879218
         ],
         "y": [
          -1.1448157535479608,
          -1.1448157535479608
         ],
         "z": [
          2.1264765868254933,
          2.0229296389770877
         ]
        },
        {
         "line": {
          "color": "crimson",
          "width": 2
         },
         "mode": "lines",
         "showlegend": false,
         "type": "scatter3d",
         "x": [
          0.3388762670564067,
          0.3388762670564067
         ],
         "y": [
          -0.7100154433419826,
          -0.6918987637500669
         ],
         "z": [
          -1.8083074314139411,
          -1.8083074314139411
         ]
        },
        {
         "line": {
          "color": "crimson",
          "width": 2
         },
         "mode": "lines",
         "showlegend": false,
         "type": "scatter3d",
         "x": [
          0.3388762670564067,
          0.3388762670564067
         ],
         "y": [
          0.6487355260516992,
          0.6487355260516992
         ],
         "z": [
          -0.4621971093846611,
          -0.3586501615362545
         ]
        },
        {
         "line": {
          "color": "crimson",
          "width": 2
         },
         "mode": "lines",
         "showlegend": false,
         "type": "scatter3d",
         "x": [
          0.3388762670564067,
          0.3208216618879218
         ],
         "y": [
          1.15600255462534,
          1.15600255462534
         ],
         "z": [
          -0.15155626583944226,
          -0.25510321368784794
         ]
        },
        {
         "line": {
          "color": "crimson",
          "width": 2
         },
         "mode": "lines",
         "showlegend": false,
         "type": "scatter3d",
         "x": [
          0.3569308722248916,
          0.3388762670564067
         ],
         "y": [
          -1.1448157535479608,
          -1.1448157535479608
         ],
         "z": [
          2.1264765868254933,
          2.0229296389770877
         ]
        },
        {
         "line": {
          "color": "crimson",
          "width": 2
         },
         "mode": "lines",
         "showlegend": false,
         "type": "scatter3d",
         "x": [
          0.3569308722248916,
          0.3388762670564067
         ],
         "y": [
          1.15600255462534,
          1.15600255462534
         ],
         "z": [
          -0.15155626583944226,
          -0.25510321368784794
         ]
        },
        {
         "line": {
          "color": "crimson",
          "width": 2
         },
         "mode": "lines",
         "showlegend": false,
         "type": "scatter3d",
         "x": [
          0.3569308722248916,
          0.3749854773933765
         ],
         "y": [
          -1.1448157535479608,
          -1.1448157535479608
         ],
         "z": [
          2.0229296389770877,
          2.1264765868254933
         ]
        },
        {
         "line": {
          "color": "crimson",
          "width": 2
         },
         "mode": "lines",
         "showlegend": false,
         "type": "scatter3d",
         "x": [
          0.3749854773933765,
          0.3749854773933765
         ],
         "y": [
          -0.6556654045662353,
          -0.6375487249743196
         ],
         "z": [
          -3.46505859698844,
          -3.46505859698844
         ]
        },
        {
         "line": {
          "color": "crimson",
          "width": 2
         },
         "mode": "lines",
         "showlegend": false,
         "type": "scatter3d",
         "x": [
          0.3749854773933765,
          0.3749854773933765
         ],
         "y": [
          -0.6556654045662353,
          -0.6375487249743196
         ],
         "z": [
          -1.8083074314139411,
          -1.8083074314139411
         ]
        },
        {
         "line": {
          "color": "crimson",
          "width": 2
         },
         "mode": "lines",
         "showlegend": false,
         "type": "scatter3d",
         "x": [
          0.3569308722248916,
          0.3749854773933765
         ],
         "y": [
          1.15600255462534,
          1.15600255462534
         ],
         "z": [
          -0.25510321368784794,
          -0.15155626583944226
         ]
        },
        {
         "line": {
          "color": "crimson",
          "width": 2
         },
         "mode": "lines",
         "showlegend": false,
         "type": "scatter3d",
         "x": [
          0.3930400825618614,
          0.3749854773933765
         ],
         "y": [
          -1.1448157535479608,
          -1.1448157535479608
         ],
         "z": [
          2.1264765868254933,
          2.0229296389770877
         ]
        },
        {
         "line": {
          "color": "crimson",
          "width": 2
         },
         "mode": "lines",
         "showlegend": false,
         "type": "scatter3d",
         "x": [
          0.3930400825618614,
          0.3930400825618614
         ],
         "y": [
          -0.6375487249743196,
          -0.6556654045662353
         ],
         "z": [
          4.508056387338836,
          4.508056387338836
         ]
        },
        {
         "line": {
          "color": "crimson",
          "width": 2
         },
         "mode": "lines",
         "showlegend": false,
         "type": "scatter3d",
         "x": [
          0.3930400825618614,
          0.3930400825618614
         ],
         "y": [
          -0.6375487249743196,
          -0.6556654045662353
         ],
         "z": [
          6.164807552913334,
          6.164807552913334
         ]
        },
        {
         "line": {
          "color": "crimson",
          "width": 2
         },
         "mode": "lines",
         "showlegend": false,
         "type": "scatter3d",
         "x": [
          0.4110946877303463,
          0.3749854773933765
         ],
         "y": [
          1.15600255462534,
          1.15600255462534
         ],
         "z": [
          -0.25510321368784794,
          -0.25510321368784794
         ]
        },
        {
         "line": {
          "color": "crimson",
          "width": 2
         },
         "mode": "lines",
         "showlegend": false,
         "type": "scatter3d",
         "x": [
          0.4110946877303463,
          0.3930400825618614
         ],
         "y": [
          1.15600255462534,
          1.15600255462534
         ],
         "z": [
          -0.25510321368784794,
          -0.25510321368784794
         ]
        },
        {
         "line": {
          "color": "crimson",
          "width": 2
         },
         "mode": "lines",
         "showlegend": false,
         "type": "scatter3d",
         "x": [
          0.4110946877303463,
          0.3930400825618614
         ],
         "y": [
          1.15600255462534,
          1.15600255462534
         ],
         "z": [
          -0.25510321368784794,
          -0.3586501615362545
         ]
        },
        {
         "line": {
          "color": "crimson",
          "width": 2
         },
         "mode": "lines",
         "showlegend": false,
         "type": "scatter3d",
         "x": [
          0.4110946877303463,
          0.4110946877303463
         ],
         "y": [
          0.6668522056436148,
          0.6668522056436148
         ],
         "z": [
          -4.500528075472502,
          -4.3969811276240955
         ]
        },
        {
         "line": {
          "color": "crimson",
          "width": 2
         },
         "mode": "lines",
         "showlegend": false,
         "type": "scatter3d",
         "x": [
          0.4291492928988312,
          0.4291492928988312
         ],
         "y": [
          -0.6194320453824038,
          -0.601315365790488
         ],
         "z": [
          0.573272369099401,
          0.573272369099401
         ]
        },
        {
         "line": {
          "color": "crimson",
          "width": 2
         },
         "mode": "lines",
         "showlegend": false,
         "type": "scatter3d",
         "x": [
          0.4291492928988312,
          0.4291492928988312
         ],
         "y": [
          -0.601315365790488,
          -0.6194320453824038
         ],
         "z": [
          2.230023534673901,
          2.230023534673901
         ]
        },
        {
         "line": {
          "color": "crimson",
          "width": 2
         },
         "mode": "lines",
         "showlegend": false,
         "type": "scatter3d",
         "x": [
          0.4291492928988312,
          0.4291492928988312
         ],
         "y": [
          -0.601315365790488,
          -0.6194320453824038
         ],
         "z": [
          4.611603335187242,
          4.611603335187242
         ]
        },
        {
         "line": {
          "color": "crimson",
          "width": 2
         },
         "mode": "lines",
         "showlegend": false,
         "type": "scatter3d",
         "x": [
          0.4291492928988312,
          0.4291492928988312
         ],
         "y": [
          -0.601315365790488,
          -0.6194320453824038
         ],
         "z": [
          6.268354500761742,
          6.268354500761742
         ]
        },
        {
         "line": {
          "color": "crimson",
          "width": 2
         },
         "mode": "lines",
         "showlegend": false,
         "type": "scatter3d",
         "x": [
          0.4110946877303463,
          0.3930400825618614
         ],
         "y": [
          1.15600255462534,
          1.15600255462534
         ],
         "z": [
          -1.9118543792623468,
          -1.8083074314139411
         ]
        },
        {
         "line": {
          "color": "crimson",
          "width": 2
         },
         "mode": "lines",
         "showlegend": false,
         "type": "scatter3d",
         "x": [
          0.3930400825618614,
          0.4110946877303463
         ],
         "y": [
          1.15600255462534,
          1.15600255462534
         ],
         "z": [
          -1.7047604835655346,
          -1.8083074314139411
         ]
        },
        {
         "line": {
          "color": "crimson",
          "width": 2
         },
         "mode": "lines",
         "showlegend": false,
         "type": "scatter3d",
         "x": [
          0.3930400825618614,
          0.4110946877303463
         ],
         "y": [
          1.15600255462534,
          1.15600255462534
         ],
         "z": [
          -1.6012135357171289,
          -1.7047604835655346
         ]
        },
        {
         "line": {
          "color": "crimson",
          "width": 2
         },
         "mode": "lines",
         "showlegend": false,
         "type": "scatter3d",
         "x": [
          0.3930400825618614,
          0.4110946877303463
         ],
         "y": [
          1.15600255462534,
          1.15600255462534
         ],
         "z": [
          -1.4976665878687223,
          -1.6012135357171289
         ]
        },
        {
         "line": {
          "color": "crimson",
          "width": 2
         },
         "mode": "lines",
         "showlegend": false,
         "type": "scatter3d",
         "x": [
          0.3930400825618614,
          0.4110946877303463
         ],
         "y": [
          1.15600255462534,
          1.15600255462534
         ],
         "z": [
          -1.3941196400203166,
          -1.4976665878687223
         ]
        },
        {
         "line": {
          "color": "crimson",
          "width": 2
         },
         "mode": "lines",
         "showlegend": false,
         "type": "scatter3d",
         "x": [
          0.4110946877303463,
          0.3930400825618614
         ],
         "y": [
          1.15600255462534,
          1.15600255462534
         ],
         "z": [
          -1.3941196400203166,
          -1.29057269217191
         ]
        },
        {
         "line": {
          "color": "crimson",
          "width": 2
         },
         "mode": "lines",
         "showlegend": false,
         "type": "scatter3d",
         "x": [
          0.3930400825618614,
          0.4110946877303463
         ],
         "y": [
          1.15600255462534,
          1.15600255462534
         ],
         "z": [
          -1.1870257443235035,
          -1.29057269217191
         ]
        },
        {
         "line": {
          "color": "crimson",
          "width": 2
         },
         "mode": "lines",
         "showlegend": false,
         "type": "scatter3d",
         "x": [
          0.3930400825618614,
          0.4110946877303463
         ],
         "y": [
          1.15600255462534,
          1.15600255462534
         ],
         "z": [
          -0.9799318486266912,
          -0.8763849007782856
         ]
        },
        {
         "line": {
          "color": "crimson",
          "width": 2
         },
         "mode": "lines",
         "showlegend": false,
         "type": "scatter3d",
         "x": [
          0.4110946877303463,
          0.3930400825618614
         ],
         "y": [
          1.15600255462534,
          1.15600255462534
         ],
         "z": [
          -0.772837952929879,
          -0.8763849007782856
         ]
        },
        {
         "line": {
          "color": "crimson",
          "width": 2
         },
         "mode": "lines",
         "showlegend": false,
         "type": "scatter3d",
         "x": [
          0.4110946877303463,
          0.3930400825618614
         ],
         "y": [
          1.15600255462534,
          1.15600255462534
         ],
         "z": [
          -0.6692910050814733,
          -0.772837952929879
         ]
        },
        {
         "line": {
          "color": "crimson",
          "width": 2
         },
         "mode": "lines",
         "showlegend": false,
         "type": "scatter3d",
         "x": [
          0.4110946877303463,
          0.3930400825618614
         ],
         "y": [
          1.15600255462534,
          1.15600255462534
         ],
         "z": [
          -0.5657440572330668,
          -0.6692910050814733
         ]
        },
        {
         "line": {
          "color": "crimson",
          "width": 2
         },
         "mode": "lines",
         "showlegend": false,
         "type": "scatter3d",
         "x": [
          0.3930400825618614,
          0.4110946877303463
         ],
         "y": [
          1.15600255462534,
          1.15600255462534
         ],
         "z": [
          -0.5657440572330668,
          -0.4621971093846611
         ]
        },
        {
         "line": {
          "color": "crimson",
          "width": 2
         },
         "mode": "lines",
         "showlegend": false,
         "type": "scatter3d",
         "x": [
          0.3930400825618614,
          0.4110946877303463
         ],
         "y": [
          1.15600255462534,
          1.15600255462534
         ],
         "z": [
          -0.4621971093846611,
          -0.3586501615362545
         ]
        },
        {
         "line": {
          "color": "crimson",
          "width": 2
         },
         "mode": "lines",
         "showlegend": false,
         "type": "scatter3d",
         "x": [
          0.4291492928988312,
          0.4472038980673161
         ],
         "y": [
          -1.126699073956045,
          -1.126699073956045
         ],
         "z": [
          0.3661784734025888,
          0.3661784734025888
         ]
        },
        {
         "line": {
          "color": "crimson",
          "width": 2
         },
         "mode": "lines",
         "showlegend": false,
         "type": "scatter3d",
         "x": [
          0.4291492928988312,
          0.4472038980673161
         ],
         "y": [
          -1.126699073956045,
          -1.126699073956045
         ],
         "z": [
          2.0229296389770877,
          2.0229296389770877
         ]
        },
        {
         "line": {
          "color": "crimson",
          "width": 2
         },
         "mode": "lines",
         "showlegend": false,
         "type": "scatter3d",
         "x": [
          0.4472038980673161,
          0.4472038980673161
         ],
         "y": [
          0.6125021668678676,
          0.6125021668678676
         ],
         "z": [
          3.3690399610063686,
          3.4725869088547743
         ]
        },
        {
         "line": {
          "color": "crimson",
          "width": 2
         },
         "mode": "lines",
         "showlegend": false,
         "type": "scatter3d",
         "x": [
          0.4472038980673161,
          0.4472038980673161
         ],
         "y": [
          0.6306188464597833,
          0.6306188464597833
         ],
         "z": [
          -4.500528075472502,
          -4.604075023320908
         ]
        },
        {
         "line": {
          "color": "crimson",
          "width": 2
         },
         "mode": "lines",
         "showlegend": false,
         "type": "scatter3d",
         "x": [
          0.4472038980673161,
          0.465258503235801
         ],
         "y": [
          -1.126699073956045,
          -1.126699073956045
         ],
         "z": [
          -1.9118543792623468,
          -1.9118543792623468
         ]
        },
        {
         "line": {
          "color": "crimson",
          "width": 2
         },
         "mode": "lines",
         "showlegend": false,
         "type": "scatter3d",
         "x": [
          0.465258503235801,
          0.4472038980673161
         ],
         "y": [
          -1.1448157535479608,
          -1.1448157535479608
         ],
         "z": [
          4.300962491642023,
          4.300962491642023
         ]
        },
        {
         "line": {
          "color": "crimson",
          "width": 2
         },
         "mode": "lines",
         "showlegend": false,
         "type": "scatter3d",
         "x": [
          0.465258503235801,
          0.4472038980673161
         ],
         "y": [
          -1.1448157535479608,
          -1.1448157535479608
         ],
         "z": [
          4.300962491642023,
          4.404509439490429
         ]
        },
        {
         "line": {
          "color": "crimson",
          "width": 2
         },
         "mode": "lines",
         "showlegend": false,
         "type": "scatter3d",
         "x": [
          0.465258503235801,
          0.465258503235801
         ],
         "y": [
          -0.5831986861985723,
          -0.601315365790488
         ],
         "z": [
          2.3335704825223065,
          2.3335704825223065
         ]
        },
        {
         "line": {
          "color": "crimson",
          "width": 2
         },
         "mode": "lines",
         "showlegend": false,
         "type": "scatter3d",
         "x": [
          0.4472038980673161,
          0.465258503235801
         ],
         "y": [
          -1.1448157535479608,
          -1.1448157535479608
         ],
         "z": [
          4.508056387338836,
          4.404509439490429
         ]
        },
        {
         "line": {
          "color": "crimson",
          "width": 2
         },
         "mode": "lines",
         "showlegend": false,
         "type": "scatter3d",
         "x": [
          0.4472038980673161,
          0.465258503235801
         ],
         "y": [
          -1.1448157535479608,
          -1.1448157535479608
         ],
         "z": [
          4.611603335187242,
          4.508056387338836
         ]
        },
        {
         "line": {
          "color": "crimson",
          "width": 2
         },
         "mode": "lines",
         "showlegend": false,
         "type": "scatter3d",
         "x": [
          0.4472038980673161,
          0.465258503235801
         ],
         "y": [
          -1.1448157535479608,
          -1.1448157535479608
         ],
         "z": [
          4.715150283035648,
          4.611603335187242
         ]
        },
        {
         "line": {
          "color": "crimson",
          "width": 2
         },
         "mode": "lines",
         "showlegend": false,
         "type": "scatter3d",
         "x": [
          0.465258503235801,
          0.4472038980673161
         ],
         "y": [
          -1.1448157535479608,
          -1.1448157535479608
         ],
         "z": [
          4.715150283035648,
          4.818697230884055
         ]
        },
        {
         "line": {
          "color": "crimson",
          "width": 2
         },
         "mode": "lines",
         "showlegend": false,
         "type": "scatter3d",
         "x": [
          0.4472038980673161,
          0.465258503235801
         ],
         "y": [
          -1.1448157535479608,
          -1.1448157535479608
         ],
         "z": [
          4.922244178732461,
          4.818697230884055
         ]
        },
        {
         "line": {
          "color": "crimson",
          "width": 2
         },
         "mode": "lines",
         "showlegend": false,
         "type": "scatter3d",
         "x": [
          0.4472038980673161,
          0.465258503235801
         ],
         "y": [
          -1.1448157535479608,
          -1.1448157535479608
         ],
         "z": [
          5.025791126580867,
          4.922244178732461
         ]
        },
        {
         "line": {
          "color": "crimson",
          "width": 2
         },
         "mode": "lines",
         "showlegend": false,
         "type": "scatter3d",
         "x": [
          0.465258503235801,
          0.4472038980673161
         ],
         "y": [
          -1.1448157535479608,
          -1.1448157535479608
         ],
         "z": [
          5.336431970126085,
          5.23288502227768
         ]
        },
        {
         "line": {
          "color": "crimson",
          "width": 2
         },
         "mode": "lines",
         "showlegend": false,
         "type": "scatter3d",
         "x": [
          0.465258503235801,
          0.4472038980673161
         ],
         "y": [
          -1.1448157535479608,
          -1.1448157535479608
         ],
         "z": [
          5.439978917974491,
          5.336431970126085
         ]
        },
        {
         "line": {
          "color": "crimson",
          "width": 2
         },
         "mode": "lines",
         "showlegend": false,
         "type": "scatter3d",
         "x": [
          0.465258503235801,
          0.4472038980673161
         ],
         "y": [
          -1.1448157535479608,
          -1.1448157535479608
         ],
         "z": [
          5.5435258658228985,
          5.439978917974491
         ]
        },
        {
         "line": {
          "color": "crimson",
          "width": 2
         },
         "mode": "lines",
         "showlegend": false,
         "type": "scatter3d",
         "x": [
          0.4472038980673161,
          0.465258503235801
         ],
         "y": [
          -1.1448157535479608,
          -1.1448157535479608
         ],
         "z": [
          5.5435258658228985,
          5.647072813671304
         ]
        },
        {
         "line": {
          "color": "crimson",
          "width": 2
         },
         "mode": "lines",
         "showlegend": false,
         "type": "scatter3d",
         "x": [
          0.4472038980673161,
          0.465258503235801
         ],
         "y": [
          -1.1448157535479608,
          -1.1448157535479608
         ],
         "z": [
          5.647072813671304,
          5.75061976151971
         ]
        },
        {
         "line": {
          "color": "crimson",
          "width": 2
         },
         "mode": "lines",
         "showlegend": false,
         "type": "scatter3d",
         "x": [
          0.4472038980673161,
          0.465258503235801
         ],
         "y": [
          -1.1448157535479608,
          -1.1448157535479608
         ],
         "z": [
          5.75061976151971,
          5.854166709368116
         ]
        },
        {
         "line": {
          "color": "crimson",
          "width": 2
         },
         "mode": "lines",
         "showlegend": false,
         "type": "scatter3d",
         "x": [
          0.465258503235801,
          0.4472038980673161
         ],
         "y": [
          -1.1448157535479608,
          -1.1448157535479608
         ],
         "z": [
          5.957713657216523,
          5.854166709368116
         ]
        },
        {
         "line": {
          "color": "crimson",
          "width": 2
         },
         "mode": "lines",
         "showlegend": false,
         "type": "scatter3d",
         "x": [
          0.465258503235801,
          0.4833131084042859
         ],
         "y": [
          -1.1085823943641293,
          -1.1085823943641293
         ],
         "z": [
          -3.6721524926852522,
          -3.6721524926852522
         ]
        },
        {
         "line": {
          "color": "crimson",
          "width": 2
         },
         "mode": "lines",
         "showlegend": false,
         "type": "scatter3d",
         "x": [
          0.4833131084042859,
          0.4833131084042859
         ],
         "y": [
          -0.5650820066066566,
          -0.5831986861985723
         ],
         "z": [
          -3.361511649140034,
          -3.361511649140034
         ]
        },
        {
         "line": {
          "color": "crimson",
          "width": 2
         },
         "mode": "lines",
         "showlegend": false,
         "type": "scatter3d",
         "x": [
          0.4833131084042859,
          0.4833131084042859
         ],
         "y": [
          -0.5831986861985723,
          -0.5650820066066566
         ],
         "z": [
          -1.7047604835655346,
          -1.7047604835655346
         ]
        },
        {
         "line": {
          "color": "crimson",
          "width": 2
         },
         "mode": "lines",
         "showlegend": false,
         "type": "scatter3d",
         "x": [
          0.4833131084042859,
          0.4833131084042859
         ],
         "y": [
          0.5762688076840361,
          0.5762688076840361
         ],
         "z": [
          -0.5657440572330668,
          -0.6692910050814733
         ]
        },
        {
         "line": {
          "color": "crimson",
          "width": 2
         },
         "mode": "lines",
         "showlegend": false,
         "type": "scatter3d",
         "x": [
          0.4833131084042859,
          0.465258503235801
         ],
         "y": [
          1.1378858750334244,
          1.1378858750334244
         ],
         "z": [
          2.0229296389770877,
          2.0229296389770877
         ]
        },
        {
         "line": {
          "color": "crimson",
          "width": 2
         },
         "mode": "lines",
         "showlegend": false,
         "type": "scatter3d",
         "x": [
          0.465258503235801,
          0.4833131084042859
         ],
         "y": [
          1.1378858750334244,
          1.1378858750334244
         ],
         "z": [
          3.6796808045515856,
          3.6796808045515856
         ]
        },
        {
         "line": {
          "color": "crimson",
          "width": 2
         },
         "mode": "lines",
         "showlegend": false,
         "type": "scatter3d",
         "x": [
          0.5013677135727708,
          0.5013677135727708
         ],
         "y": [
          0.5943854872759518,
          0.5943854872759518
         ],
         "z": [
          -4.604075023320908,
          -4.500528075472502
         ]
        },
        {
         "line": {
          "color": "crimson",
          "width": 2
         },
         "mode": "lines",
         "showlegend": false,
         "type": "scatter3d",
         "x": [
          0.5194223187412557,
          0.5194223187412557
         ],
         "y": [
          -0.5469653270147409,
          -0.5650820066066566
         ],
         "z": [
          4.611603335187242,
          4.611603335187242
         ]
        },
        {
         "line": {
          "color": "crimson",
          "width": 2
         },
         "mode": "lines",
         "showlegend": false,
         "type": "scatter3d",
         "x": [
          0.5194223187412557,
          0.5194223187412557
         ],
         "y": [
          0.5762688076840361,
          0.5762688076840361
         ],
         "z": [
          3.4725869088547743,
          3.3690399610063686
         ]
        },
        {
         "line": {
          "color": "crimson",
          "width": 2
         },
         "mode": "lines",
         "showlegend": false,
         "type": "scatter3d",
         "x": [
          0.5194223187412557,
          0.5013677135727708
         ],
         "y": [
          1.1197691954415088,
          1.1197691954415088
         ],
         "z": [
          -0.3586501615362545,
          -0.3586501615362545
         ]
        },
        {
         "line": {
          "color": "crimson",
          "width": 2
         },
         "mode": "lines",
         "showlegend": false,
         "type": "scatter3d",
         "x": [
          0.5374769239097406,
          0.5374769239097406
         ],
         "y": [
          -0.5288486474228251,
          -0.5469653270147409
         ],
         "z": [
          6.3719014486101475,
          6.3719014486101475
         ]
        },
        {
         "line": {
          "color": "crimson",
          "width": 2
         },
         "mode": "lines",
         "showlegend": false,
         "type": "scatter3d",
         "x": [
          0.5374769239097406,
          0.5374769239097406
         ],
         "y": [
          0.5400354485002046,
          0.5400354485002046
         ],
         "z": [
          3.3690399610063686,
          3.265493013157961
         ]
        },
        {
         "line": {
          "color": "crimson",
          "width": 2
         },
         "mode": "lines",
         "showlegend": false,
         "type": "scatter3d",
         "x": [
          0.5194223187412557,
          0.5374769239097406
         ],
         "y": [
          1.1016525158495931,
          1.1016525158495931
         ],
         "z": [
          3.6796808045515856,
          3.6796808045515856
         ]
        },
        {
         "line": {
          "color": "crimson",
          "width": 2
         },
         "mode": "lines",
         "showlegend": false,
         "type": "scatter3d",
         "x": [
          0.5555315290782255,
          0.5735861342467103
         ],
         "y": [
          -1.0723490351802978,
          -1.0723490351802978
         ],
         "z": [
          0.3661784734025888,
          0.3661784734025888
         ]
        },
        {
         "line": {
          "color": "crimson",
          "width": 2
         },
         "mode": "lines",
         "showlegend": false,
         "type": "scatter3d",
         "x": [
          0.5735861342467103,
          0.5735861342467103
         ],
         "y": [
          -0.5469653270147409,
          -0.5288486474228251
         ],
         "z": [
          0.6768193169478076,
          0.6768193169478076
         ]
        },
        {
         "line": {
          "color": "crimson",
          "width": 2
         },
         "mode": "lines",
         "showlegend": false,
         "type": "scatter3d",
         "x": [
          0.5735861342467103,
          0.5735861342467103
         ],
         "y": [
          -0.5469653270147409,
          -0.5288486474228251
         ],
         "z": [
          2.3335704825223065,
          2.3335704825223065
         ]
        },
        {
         "line": {
          "color": "crimson",
          "width": 2
         },
         "mode": "lines",
         "showlegend": false,
         "type": "scatter3d",
         "x": [
          0.5735861342467103,
          0.5735861342467103
         ],
         "y": [
          -0.5107319678309094,
          -0.5288486474228251
         ],
         "z": [
          -3.2579647012916273,
          -3.2579647012916273
         ]
        },
        {
         "line": {
          "color": "crimson",
          "width": 2
         },
         "mode": "lines",
         "showlegend": false,
         "type": "scatter3d",
         "x": [
          0.5735861342467103,
          0.5735861342467103
         ],
         "y": [
          -0.5107319678309094,
          -0.5288486474228251
         ],
         "z": [
          -1.6012135357171289,
          -1.6012135357171289
         ]
        },
        {
         "line": {
          "color": "crimson",
          "width": 2
         },
         "mode": "lines",
         "showlegend": false,
         "type": "scatter3d",
         "x": [
          0.5555315290782255,
          0.5735861342467103
         ],
         "y": [
          1.1016525158495931,
          1.1016525158495931
         ],
         "z": [
          -2.11894827495916,
          -2.11894827495916
         ]
        },
        {
         "line": {
          "color": "crimson",
          "width": 2
         },
         "mode": "lines",
         "showlegend": false,
         "type": "scatter3d",
         "x": [
          0.5555315290782255,
          0.5735861342467103
         ],
         "y": [
          1.1016525158495931,
          1.1016525158495931
         ],
         "z": [
          -0.4621971093846611,
          -0.4621971093846611
         ]
        },
        {
         "line": {
          "color": "crimson",
          "width": 2
         },
         "mode": "lines",
         "showlegend": false,
         "type": "scatter3d",
         "x": [
          0.5735861342467103,
          0.5916407394151952
         ],
         "y": [
          1.0654191566657614,
          1.0654191566657614
         ],
         "z": [
          1.919382691128682,
          1.919382691128682
         ]
        },
        {
         "line": {
          "color": "crimson",
          "width": 2
         },
         "mode": "lines",
         "showlegend": false,
         "type": "scatter3d",
         "x": [
          0.5735861342467103,
          0.5916407394151952
         ],
         "y": [
          1.0654191566657614,
          1.0654191566657614
         ],
         "z": [
          3.57613385670318,
          3.57613385670318
         ]
        },
        {
         "line": {
          "color": "crimson",
          "width": 2
         },
         "mode": "lines",
         "showlegend": false,
         "type": "scatter3d",
         "x": [
          0.6096953445836801,
          0.6096953445836801
         ],
         "y": [
          0.44945205054062565,
          0.44945205054062565
         ],
         "z": [
          3.265493013157961,
          3.3690399610063686
         ]
        },
        {
         "line": {
          "color": "crimson",
          "width": 2
         },
         "mode": "lines",
         "showlegend": false,
         "type": "scatter3d",
         "x": [
          0.6096953445836801,
          0.627749949752165
         ],
         "y": [
          1.083535836257677,
          1.083535836257677
         ],
         "z": [
          -6.157279241047,
          -6.157279241047
         ]
        },
        {
         "line": {
          "color": "crimson",
          "width": 2
         },
         "mode": "lines",
         "showlegend": false,
         "type": "scatter3d",
         "x": [
          0.6096953445836801,
          0.627749949752165
         ],
         "y": [
          1.083535836257677,
          1.083535836257677
         ],
         "z": [
          -4.500528075472502,
          -4.500528075472502
         ]
        },
        {
         "line": {
          "color": "crimson",
          "width": 2
         },
         "mode": "lines",
         "showlegend": false,
         "type": "scatter3d",
         "x": [
          0.6458045549206499,
          0.627749949752165
         ],
         "y": [
          -1.0723490351802978,
          -1.0723490351802978
         ],
         "z": [
          4.508056387338836,
          4.508056387338836
         ]
        },
        {
         "line": {
          "color": "crimson",
          "width": 2
         },
         "mode": "lines",
         "showlegend": false,
         "type": "scatter3d",
         "x": [
          0.6458045549206499,
          0.627749949752165
         ],
         "y": [
          -1.0723490351802978,
          -1.0723490351802978
         ],
         "z": [
          6.164807552913334,
          6.164807552913334
         ]
        },
        {
         "line": {
          "color": "crimson",
          "width": 2
         },
         "mode": "lines",
         "showlegend": false,
         "type": "scatter3d",
         "x": [
          0.6458045549206499,
          0.6458045549206499
         ],
         "y": [
          -0.42014856987133054,
          -0.40203189027941477
         ],
         "z": [
          -3.2579647012916273,
          -3.2579647012916273
         ]
        },
        {
         "line": {
          "color": "crimson",
          "width": 2
         },
         "mode": "lines",
         "showlegend": false,
         "type": "scatter3d",
         "x": [
          0.6458045549206499,
          0.6458045549206499
         ],
         "y": [
          -0.42014856987133054,
          -0.40203189027941477
         ],
         "z": [
          -1.6012135357171289,
          -1.6012135357171289
         ]
        },
        {
         "line": {
          "color": "crimson",
          "width": 2
         },
         "mode": "lines",
         "showlegend": false,
         "type": "scatter3d",
         "x": [
          0.6458045549206499,
          0.6458045549206499
         ],
         "y": [
          -0.383915210687499,
          -0.40203189027941477
         ],
         "z": [
          4.818697230884055,
          4.818697230884055
         ]
        },
        {
         "line": {
          "color": "crimson",
          "width": 2
         },
         "mode": "lines",
         "showlegend": false,
         "type": "scatter3d",
         "x": [
          0.6458045549206499,
          0.6458045549206499
         ],
         "y": [
          -0.383915210687499,
          -0.40203189027941477
         ],
         "z": [
          6.475448396458553,
          6.475448396458553
         ]
        },
        {
         "line": {
          "color": "crimson",
          "width": 2
         },
         "mode": "lines",
         "showlegend": false,
         "type": "scatter3d",
         "x": [
          0.6638591600891348,
          0.6638591600891348
         ],
         "y": [
          -0.383915210687499,
          -0.36579853109558325
         ],
         "z": [
          0.7803662647962133,
          0.7803662647962133
         ]
        },
        {
         "line": {
          "color": "crimson",
          "width": 2
         },
         "mode": "lines",
         "showlegend": false,
         "type": "scatter3d",
         "x": [
          0.6638591600891348,
          0.6638591600891348
         ],
         "y": [
          0.3407519729891313,
          0.3407519729891313
         ],
         "z": [
          3.1619460653095555,
          3.265493013157961
         ]
        },
        {
         "line": {
          "color": "crimson",
          "width": 2
         },
         "mode": "lines",
         "showlegend": false,
         "type": "scatter3d",
         "x": [
          0.6638591600891348,
          0.6638591600891348
         ],
         "y": [
          0.41321869135679434,
          0.41321869135679434
         ],
         "z": [
          -4.7076219711693135,
          -4.604075023320908
         ]
        },
        {
         "line": {
          "color": "crimson",
          "width": 2
         },
         "mode": "lines",
         "showlegend": false,
         "type": "scatter3d",
         "x": [
          0.6638591600891348,
          0.6458045549206499
         ],
         "y": [
          1.02918579748193,
          1.02918579748193
         ],
         "z": [
          1.8158357432802745,
          1.8158357432802745
         ]
        },
        {
         "line": {
          "color": "crimson",
          "width": 2
         },
         "mode": "lines",
         "showlegend": false,
         "type": "scatter3d",
         "x": [
          0.6458045549206499,
          0.6638591600891348
         ],
         "y": [
          1.02918579748193,
          1.02918579748193
         ],
         "z": [
          3.4725869088547743,
          3.4725869088547743
         ]
        },
        {
         "line": {
          "color": "crimson",
          "width": 2
         },
         "mode": "lines",
         "showlegend": false,
         "type": "scatter3d",
         "x": [
          0.6458045549206499,
          0.6638591600891348
         ],
         "y": [
          1.0654191566657614,
          1.0654191566657614
         ],
         "z": [
          -2.11894827495916,
          -2.11894827495916
         ]
        },
        {
         "line": {
          "color": "crimson",
          "width": 2
         },
         "mode": "lines",
         "showlegend": false,
         "type": "scatter3d",
         "x": [
          0.6458045549206499,
          0.6638591600891348
         ],
         "y": [
          1.0654191566657614,
          1.0654191566657614
         ],
         "z": [
          -0.4621971093846611,
          -0.4621971093846611
         ]
        },
        {
         "line": {
          "color": "crimson",
          "width": 2
         },
         "mode": "lines",
         "showlegend": false,
         "type": "scatter3d",
         "x": [
          0.6819137652576197,
          0.6638591600891348
         ],
         "y": [
          -1.0361156759964663,
          -1.0361156759964663
         ],
         "z": [
          0.46972542125099537,
          0.46972542125099537
         ]
        },
        {
         "line": {
          "color": "crimson",
          "width": 2
         },
         "mode": "lines",
         "showlegend": false,
         "type": "scatter3d",
         "x": [
          0.6638591600891348,
          0.6819137652576197
         ],
         "y": [
          -1.0361156759964663,
          -1.0361156759964663
         ],
         "z": [
          2.1264765868254933,
          2.1264765868254933
         ]
        },
        {
         "line": {
          "color": "crimson",
          "width": 2
         },
         "mode": "lines",
         "showlegend": false,
         "type": "scatter3d",
         "x": [
          0.6819137652576197,
          0.6819137652576197
         ],
         "y": [
          -0.36579853109558325,
          -0.3476818515036675
         ],
         "z": [
          2.540664378219118,
          2.540664378219118
         ]
        },
        {
         "line": {
          "color": "crimson",
          "width": 2
         },
         "mode": "lines",
         "showlegend": false,
         "type": "scatter3d",
         "x": [
          0.6819137652576197,
          0.6819137652576197
         ],
         "y": [
          -0.36579853109558325,
          -0.3476818515036675
         ],
         "z": [
          4.818697230884055,
          4.818697230884055
         ]
        },
        {
         "line": {
          "color": "crimson",
          "width": 2
         },
         "mode": "lines",
         "showlegend": false,
         "type": "scatter3d",
         "x": [
          0.6819137652576197,
          0.6819137652576197
         ],
         "y": [
          -0.3476818515036675,
          -0.36579853109558325
         ],
         "z": [
          6.475448396458553,
          6.475448396458553
         ]
        },
        {
         "line": {
          "color": "crimson",
          "width": 2
         },
         "mode": "lines",
         "showlegend": false,
         "type": "scatter3d",
         "x": [
          0.6819137652576197,
          0.6819137652576197
         ],
         "y": [
          0.35886865258104694,
          0.35886865258104694
         ],
         "z": [
          -0.772837952929879,
          -0.6692910050814733
         ]
        },
        {
         "line": {
          "color": "crimson",
          "width": 2
         },
         "mode": "lines",
         "showlegend": false,
         "type": "scatter3d",
         "x": [
          0.6638591600891348,
          0.6819137652576197
         ],
         "y": [
          1.0473024770738457,
          1.0473024770738457
         ],
         "z": [
          -6.157279241047,
          -6.157279241047
         ]
        },
        {
         "line": {
          "color": "crimson",
          "width": 2
         },
         "mode": "lines",
         "showlegend": false,
         "type": "scatter3d",
         "x": [
          0.6638591600891348,
          0.6819137652576197
         ],
         "y": [
          1.0473024770738457,
          1.0473024770738457
         ],
         "z": [
          -4.500528075472502,
          -4.500528075472502
         ]
        },
        {
         "line": {
          "color": "crimson",
          "width": 2
         },
         "mode": "lines",
         "showlegend": false,
         "type": "scatter3d",
         "x": [
          0.6999683704261046,
          0.6819137652576197
         ],
         "y": [
          -1.054232355588382,
          -1.054232355588382
         ],
         "z": [
          -3.46505859698844,
          -3.46505859698844
         ]
        },
        {
         "line": {
          "color": "crimson",
          "width": 2
         },
         "mode": "lines",
         "showlegend": false,
         "type": "scatter3d",
         "x": [
          0.6819137652576197,
          0.6999683704261046
         ],
         "y": [
          -1.054232355588382,
          -1.054232355588382
         ],
         "z": [
          -1.8083074314139411,
          -1.8083074314139411
         ]
        },
        {
         "line": {
          "color": "crimson",
          "width": 2
         },
         "mode": "lines",
         "showlegend": false,
         "type": "scatter3d",
         "x": [
          0.7180229755945895,
          0.7180229755945895
         ],
         "y": [
          -0.2570984535440888,
          -0.27521513313600454
         ],
         "z": [
          0.8839132126446199,
          0.8839132126446199
         ]
        },
        {
         "line": {
          "color": "crimson",
          "width": 2
         },
         "mode": "lines",
         "showlegend": false,
         "type": "scatter3d",
         "x": [
          0.7180229755945895,
          0.7180229755945895
         ],
         "y": [
          -0.27521513313600454,
          -0.2570984535440888
         ],
         "z": [
          2.540664378219118,
          2.540664378219118
         ]
        },
        {
         "line": {
          "color": "crimson",
          "width": 2
         },
         "mode": "lines",
         "showlegend": false,
         "type": "scatter3d",
         "x": [
          0.7180229755945895,
          0.7180229755945895
         ],
         "y": [
          0.26828525462146824,
          0.26828525462146824
         ],
         "z": [
          -4.914715866866127,
          -4.81116891901772
         ]
        },
        {
         "line": {
          "color": "crimson",
          "width": 2
         },
         "mode": "lines",
         "showlegend": false,
         "type": "scatter3d",
         "x": [
          0.7180229755945895,
          0.7180229755945895
         ],
         "y": [
          0.2864019342133839,
          0.2864019342133839
         ],
         "z": [
          -0.8763849007782856,
          -0.772837952929879
         ]
        },
        {
         "line": {
          "color": "crimson",
          "width": 2
         },
         "mode": "lines",
         "showlegend": false,
         "type": "scatter3d",
         "x": [
          0.6999683704261046,
          0.7180229755945895
         ],
         "y": [
          1.0110691178900144,
          1.0110691178900144
         ],
         "z": [
          -6.157279241047,
          -6.157279241047
         ]
        },
        {
         "line": {
          "color": "crimson",
          "width": 2
         },
         "mode": "lines",
         "showlegend": false,
         "type": "scatter3d",
         "x": [
          0.6999683704261046,
          0.7180229755945895
         ],
         "y": [
          1.0110691178900144,
          1.0110691178900144
         ],
         "z": [
          -4.500528075472502,
          -4.500528075472502
         ]
        },
        {
         "line": {
          "color": "crimson",
          "width": 2
         },
         "mode": "lines",
         "showlegend": false,
         "type": "scatter3d",
         "x": [
          0.7360775807630744,
          0.7180229755945895
         ],
         "y": [
          -0.9998823168126347,
          -0.9998823168126347
         ],
         "z": [
          -3.46505859698844,
          -3.46505859698844
         ]
        },
        {
         "line": {
          "color": "crimson",
          "width": 2
         },
         "mode": "lines",
         "showlegend": false,
         "type": "scatter3d",
         "x": [
          0.7360775807630744,
          0.7180229755945895
         ],
         "y": [
          -0.9998823168126347,
          -0.9998823168126347
         ],
         "z": [
          -1.8083074314139411,
          -1.8083074314139411
         ]
        },
        {
         "line": {
          "color": "crimson",
          "width": 2
         },
         "mode": "lines",
         "showlegend": false,
         "type": "scatter3d",
         "x": [
          0.7360775807630744,
          0.7360775807630744
         ],
         "y": [
          -0.27521513313600454,
          -0.2933318127279202
         ],
         "z": [
          4.818697230884055,
          4.818697230884055
         ]
        },
        {
         "line": {
          "color": "crimson",
          "width": 2
         },
         "mode": "lines",
         "showlegend": false,
         "type": "scatter3d",
         "x": [
          0.7360775807630744,
          0.7360775807630744
         ],
         "y": [
          0.25016857502955236,
          0.25016857502955236
         ],
         "z": [
          3.1619460653095555,
          3.05839911746115
         ]
        },
        {
         "line": {
          "color": "crimson",
          "width": 2
         },
         "mode": "lines",
         "showlegend": false,
         "type": "scatter3d",
         "x": [
          0.7360775807630744,
          0.7541321859315593
         ],
         "y": [
          -0.981765637220719,
          -0.981765637220719
         ],
         "z": [
          4.508056387338836,
          4.508056387338836
         ]
        },
        {
         "line": {
          "color": "crimson",
          "width": 2
         },
         "mode": "lines",
         "showlegend": false,
         "type": "scatter3d",
         "x": [
          0.7541321859315593,
          0.7541321859315593
         ],
         "y": [
          0.1958185362538052,
          0.1958185362538052
         ],
         "z": [
          -0.9799318486266912,
          -0.8763849007782856
         ]
        },
        {
         "line": {
          "color": "crimson",
          "width": 2
         },
         "mode": "lines",
         "showlegend": false,
         "type": "scatter3d",
         "x": [
          0.7360775807630744,
          0.7541321859315593
         ],
         "y": [
          0.9748357587061827,
          0.9748357587061827
         ],
         "z": [
          3.4725869088547743,
          3.4725869088547743
         ]
        },
        {
         "line": {
          "color": "crimson",
          "width": 2
         },
         "mode": "lines",
         "showlegend": false,
         "type": "scatter3d",
         "x": [
          0.7541321859315593,
          0.7721867911000442
         ],
         "y": [
          -0.9636489576288032,
          -0.9636489576288032
         ],
         "z": [
          0.573272369099401,
          0.573272369099401
         ]
        },
        {
         "line": {
          "color": "crimson",
          "width": 2
         },
         "mode": "lines",
         "showlegend": false,
         "type": "scatter3d",
         "x": [
          0.7721867911000442,
          0.7541321859315593
         ],
         "y": [
          -0.9636489576288032,
          -0.9636489576288032
         ],
         "z": [
          2.230023534673901,
          2.230023534673901
         ]
        },
        {
         "line": {
          "color": "crimson",
          "width": 2
         },
         "mode": "lines",
         "showlegend": false,
         "type": "scatter3d",
         "x": [
          0.7721867911000442,
          0.7721867911000442
         ],
         "y": [
          0.1777018566618893,
          0.1777018566618893
         ],
         "z": [
          -4.914715866866127,
          -4.81116891901772
         ]
        },
        {
         "line": {
          "color": "crimson",
          "width": 2
         },
         "mode": "lines",
         "showlegend": false,
         "type": "scatter3d",
         "x": [
          0.7902413962685291,
          0.7902413962685291
         ],
         "y": [
          -0.03969829844109962,
          -0.02158161884918397
         ],
         "z": [
          1.091007108341432,
          1.091007108341432
         ]
        },
        {
         "line": {
          "color": "crimson",
          "width": 2
         },
         "mode": "lines",
         "showlegend": false,
         "type": "scatter3d",
         "x": [
          0.7902413962685291,
          0.7902413962685291
         ],
         "y": [
          -0.03969829844109962,
          -0.02158161884918397
         ],
         "z": [
          2.747758273915931,
          2.747758273915931
         ]
        },
        {
         "line": {
          "color": "crimson",
          "width": 2
         },
         "mode": "lines",
         "showlegend": false,
         "type": "scatter3d",
         "x": [
          0.7902413962685291,
          0.7902413962685291
         ],
         "y": [
          0.014651740334647556,
          0.03276841992656343
         ],
         "z": [
          -2.947323857746409,
          -2.947323857746409
         ]
        },
        {
         "line": {
          "color": "crimson",
          "width": 2
         },
         "mode": "lines",
         "showlegend": false,
         "type": "scatter3d",
         "x": [
          0.7902413962685291,
          0.7902413962685291
         ],
         "y": [
          0.014651740334647556,
          0.03276841992656343
         ],
         "z": [
          -1.29057269217191,
          -1.29057269217191
         ]
        },
        {
         "line": {
          "color": "crimson",
          "width": 2
         },
         "mode": "lines",
         "showlegend": false,
         "type": "scatter3d",
         "x": [
          0.7902413962685291,
          0.7902413962685291
         ],
         "y": [
          0.06900177911039496,
          0.06900177911039496
         ],
         "z": [
          3.05839911746115,
          2.954852169612744
         ]
        },
        {
         "line": {
          "color": "crimson",
          "width": 2
         },
         "mode": "lines",
         "showlegend": false,
         "type": "scatter3d",
         "x": [
          0.7902413962685291,
          0.808296001437014
         ],
         "y": [
          -0.9455322780368874,
          -0.9455322780368874
         ],
         "z": [
          4.611603335187242,
          4.611603335187242
         ]
        },
        {
         "line": {
          "color": "crimson",
          "width": 2
         },
         "mode": "lines",
         "showlegend": false,
         "type": "scatter3d",
         "x": [
          0.808296001437014,
          0.7902413962685291
         ],
         "y": [
          -0.9274155984449717,
          -0.9274155984449717
         ],
         "z": [
          0.573272369099401,
          0.573272369099401
         ]
        },
        {
         "line": {
          "color": "crimson",
          "width": 2
         },
         "mode": "lines",
         "showlegend": false,
         "type": "scatter3d",
         "x": [
          0.808296001437014,
          0.808296001437014
         ],
         "y": [
          0.014651740334647556,
          -0.003464939257268096
         ],
         "z": [
          5.129338074429272,
          5.129338074429272
         ]
        },
        {
         "line": {
          "color": "crimson",
          "width": 2
         },
         "mode": "lines",
         "showlegend": false,
         "type": "scatter3d",
         "x": [
          0.8263506066054989,
          0.808296001437014
         ],
         "y": [
          -0.9455322780368874,
          -0.9455322780368874
         ],
         "z": [
          -3.46505859698844,
          -3.46505859698844
         ]
        },
        {
         "line": {
          "color": "crimson",
          "width": 2
         },
         "mode": "lines",
         "showlegend": false,
         "type": "scatter3d",
         "x": [
          0.8263506066054989,
          0.808296001437014
         ],
         "y": [
          -0.9455322780368874,
          -0.9455322780368874
         ],
         "z": [
          -1.8083074314139411,
          -1.8083074314139411
         ]
        },
        {
         "line": {
          "color": "crimson",
          "width": 2
         },
         "mode": "lines",
         "showlegend": false,
         "type": "scatter3d",
         "x": [
          0.8263506066054989,
          0.8263506066054989
         ],
         "y": [
          -0.13028169640067855,
          -0.13028169640067855
         ],
         "z": [
          -5.225356710411345,
          -5.121809762562939
         ]
        },
        {
         "line": {
          "color": "crimson",
          "width": 2
         },
         "mode": "lines",
         "showlegend": false,
         "type": "scatter3d",
         "x": [
          0.808296001437014,
          0.8263506066054989
         ],
         "y": [
          0.9204857199304353,
          0.9204857199304353
         ],
         "z": [
          -0.5657440572330668,
          -0.5657440572330668
         ]
        },
        {
         "line": {
          "color": "crimson",
          "width": 2
         },
         "mode": "lines",
         "showlegend": false,
         "type": "scatter3d",
         "x": [
          0.8444052117739838,
          0.8444052117739838
         ],
         "y": [
          0.1777018566618893,
          0.1958185362538052
         ],
         "z": [
          5.129338074429272,
          5.129338074429272
         ]
        },
        {
         "line": {
          "color": "crimson",
          "width": 2
         },
         "mode": "lines",
         "showlegend": false,
         "type": "scatter3d",
         "x": [
          0.8624598169424686,
          0.8444052117739838
         ],
         "y": [
          -0.9274155984449717,
          -0.9274155984449717
         ],
         "z": [
          4.715150283035648,
          4.715150283035648
         ]
        },
        {
         "line": {
          "color": "crimson",
          "width": 2
         },
         "mode": "lines",
         "showlegend": false,
         "type": "scatter3d",
         "x": [
          0.8444052117739838,
          0.8624598169424686
         ],
         "y": [
          -0.9274155984449717,
          -0.9274155984449717
         ],
         "z": [
          6.3719014486101475,
          6.3719014486101475
         ]
        },
        {
         "line": {
          "color": "crimson",
          "width": 2
         },
         "mode": "lines",
         "showlegend": false,
         "type": "scatter3d",
         "x": [
          0.8444052117739838,
          0.8624598169424686
         ],
         "y": [
          -0.8911822392611402,
          -0.8911822392611402
         ],
         "z": [
          -3.361511649140034,
          -3.361511649140034
         ]
        },
        {
         "line": {
          "color": "crimson",
          "width": 2
         },
         "mode": "lines",
         "showlegend": false,
         "type": "scatter3d",
         "x": [
          0.8624598169424686,
          0.8444052117739838
         ],
         "y": [
          -0.8911822392611402,
          -0.8911822392611402
         ],
         "z": [
          -1.7047604835655346,
          -1.7047604835655346
         ]
        },
        {
         "line": {
          "color": "crimson",
          "width": 2
         },
         "mode": "lines",
         "showlegend": false,
         "type": "scatter3d",
         "x": [
          0.8624598169424686,
          0.8444052117739838
         ],
         "y": [
          0.9023690403385196,
          0.9023690403385196
         ],
         "z": [
          -6.364373136743813,
          -6.364373136743813
         ]
        },
        {
         "line": {
          "color": "crimson",
          "width": 2
         },
         "mode": "lines",
         "showlegend": false,
         "type": "scatter3d",
         "x": [
          0.8624598169424686,
          0.8444052117739838
         ],
         "y": [
          0.9023690403385196,
          0.9023690403385196
         ],
         "z": [
          -4.7076219711693135,
          -4.7076219711693135
         ]
        },
        {
         "line": {
          "color": "crimson",
          "width": 2
         },
         "mode": "lines",
         "showlegend": false,
         "type": "scatter3d",
         "x": [
          0.8444052117739838,
          0.8624598169424686
         ],
         "y": [
          0.1958185362538052,
          0.1777018566618893
         ],
         "z": [
          6.578995344306959,
          6.578995344306959
         ]
        },
        {
         "line": {
          "color": "crimson",
          "width": 2
         },
         "mode": "lines",
         "showlegend": false,
         "type": "scatter3d",
         "x": [
          0.8985690272794384,
          0.8805144221109535
         ],
         "y": [
          -0.8549488800773086,
          -0.8549488800773086
         ],
         "z": [
          -3.361511649140034,
          -3.361511649140034
         ]
        },
        {
         "line": {
          "color": "crimson",
          "width": 2
         },
         "mode": "lines",
         "showlegend": false,
         "type": "scatter3d",
         "x": [
          0.8624598169424686,
          0.8805144221109535
         ],
         "y": [
          0.1958185362538052,
          0.1777018566618893
         ],
         "z": [
          6.578995344306959,
          6.578995344306959
         ]
        },
        {
         "line": {
          "color": "crimson",
          "width": 2
         },
         "mode": "lines",
         "showlegend": false,
         "type": "scatter3d",
         "x": [
          0.8985690272794384,
          0.8805144221109535
         ],
         "y": [
          0.8480190015627722,
          0.8480190015627722
         ],
         "z": [
          -4.604075023320908,
          -4.604075023320908
         ]
        },
        {
         "line": {
          "color": "crimson",
          "width": 2
         },
         "mode": "lines",
         "showlegend": false,
         "type": "scatter3d",
         "x": [
          0.8985690272794384,
          0.9166236324479233
         ],
         "y": [
          -0.836832200485393,
          -0.836832200485393
         ],
         "z": [
          0.6768193169478076,
          0.6768193169478076
         ]
        },
        {
         "line": {
          "color": "crimson",
          "width": 2
         },
         "mode": "lines",
         "showlegend": false,
         "type": "scatter3d",
         "x": [
          0.9166236324479233,
          0.8985690272794384
         ],
         "y": [
          -0.836832200485393,
          -0.836832200485393
         ],
         "z": [
          2.3335704825223065,
          2.3335704825223065
         ]
        },
        {
         "line": {
          "color": "crimson",
          "width": 2
         },
         "mode": "lines",
         "showlegend": false,
         "type": "scatter3d",
         "x": [
          0.8805144221109535,
          0.8985690272794384
         ],
         "y": [
          0.1958185362538052,
          0.1777018566618893
         ],
         "z": [
          6.578995344306959,
          6.578995344306959
         ]
        },
        {
         "line": {
          "color": "crimson",
          "width": 2
         },
         "mode": "lines",
         "showlegend": false,
         "type": "scatter3d",
         "x": [
          0.8985690272794384,
          0.9166236324479233
         ],
         "y": [
          0.8661356811546883,
          0.8661356811546883
         ],
         "z": [
          1.6087418475834632,
          1.6087418475834632
         ]
        },
        {
         "line": {
          "color": "crimson",
          "width": 2
         },
         "mode": "lines",
         "showlegend": false,
         "type": "scatter3d",
         "x": [
          0.9166236324479233,
          0.8985690272794384
         ],
         "y": [
          0.884252360746604,
          0.884252360746604
         ],
         "z": [
          -2.326042170655972,
          -2.326042170655972
         ]
        },
        {
         "line": {
          "color": "crimson",
          "width": 2
         },
         "mode": "lines",
         "showlegend": false,
         "type": "scatter3d",
         "x": [
          0.9166236324479233,
          0.8985690272794384
         ],
         "y": [
          0.884252360746604,
          0.884252360746604
         ],
         "z": [
          -0.6692910050814733,
          -0.6692910050814733
         ]
        },
        {
         "line": {
          "color": "crimson",
          "width": 2
         },
         "mode": "lines",
         "showlegend": false,
         "type": "scatter3d",
         "x": [
          0.9346782376164082,
          0.9166236324479233
         ],
         "y": [
          -0.8549488800773086,
          -0.8549488800773086
         ],
         "z": [
          4.715150283035648,
          4.715150283035648
         ]
        },
        {
         "line": {
          "color": "crimson",
          "width": 2
         },
         "mode": "lines",
         "showlegend": false,
         "type": "scatter3d",
         "x": [
          0.9346782376164082,
          0.9166236324479233
         ],
         "y": [
          -0.8549488800773086,
          -0.8549488800773086
         ],
         "z": [
          6.3719014486101475,
          6.3719014486101475
         ]
        },
        {
         "line": {
          "color": "crimson",
          "width": 2
         },
         "mode": "lines",
         "showlegend": false,
         "type": "scatter3d",
         "x": [
          0.9166236324479233,
          0.9346782376164082
         ],
         "y": [
          -0.836832200485393,
          -0.836832200485393
         ],
         "z": [
          -3.2579647012916273,
          -3.2579647012916273
         ]
        },
        {
         "line": {
          "color": "crimson",
          "width": 2
         },
         "mode": "lines",
         "showlegend": false,
         "type": "scatter3d",
         "x": [
          0.9346782376164082,
          0.9166236324479233
         ],
         "y": [
          -0.836832200485393,
          -0.836832200485393
         ],
         "z": [
          -1.6012135357171289,
          -1.6012135357171289
         ]
        },
        {
         "line": {
          "color": "crimson",
          "width": 2
         },
         "mode": "lines",
         "showlegend": false,
         "type": "scatter3d",
         "x": [
          0.8985690272794384,
          0.9166236324479233
         ],
         "y": [
          0.1958185362538052,
          0.1777018566618893
         ],
         "z": [
          6.578995344306959,
          6.578995344306959
         ]
        },
        {
         "line": {
          "color": "crimson",
          "width": 2
         },
         "mode": "lines",
         "showlegend": false,
         "type": "scatter3d",
         "x": [
          0.9346782376164082,
          0.9166236324479233
         ],
         "y": [
          0.8299023219708566,
          0.8299023219708566
         ],
         "z": [
          -6.364373136743813,
          -6.364373136743813
         ]
        },
        {
         "line": {
          "color": "crimson",
          "width": 2
         },
         "mode": "lines",
         "showlegend": false,
         "type": "scatter3d",
         "x": [
          0.9346782376164082,
          0.9166236324479233
         ],
         "y": [
          0.8299023219708566,
          0.8299023219708566
         ],
         "z": [
          -4.7076219711693135,
          -4.7076219711693135
         ]
        },
        {
         "line": {
          "color": "crimson",
          "width": 2
         },
         "mode": "lines",
         "showlegend": false,
         "type": "scatter3d",
         "x": [
          0.9346782376164082,
          0.9166236324479233
         ],
         "y": [
          0.1777018566618893,
          0.1958185362538052
         ],
         "z": [
          6.578995344306959,
          6.578995344306959
         ]
        },
        {
         "line": {
          "color": "crimson",
          "width": 2
         },
         "mode": "lines",
         "showlegend": false,
         "type": "scatter3d",
         "x": [
          0.9346782376164082,
          0.9527328427848931
         ],
         "y": [
          0.793668962787025,
          0.793668962787025
         ],
         "z": [
          -0.6692910050814733,
          -0.6692910050814733
         ]
        },
        {
         "line": {
          "color": "crimson",
          "width": 2
         },
         "mode": "lines",
         "showlegend": false,
         "type": "scatter3d",
         "x": [
          0.9527328427848931,
          0.9346782376164082
         ],
         "y": [
          0.1777018566618893,
          0.1958185362538052
         ],
         "z": [
          6.578995344306959,
          6.578995344306959
         ]
        },
        {
         "line": {
          "color": "crimson",
          "width": 2
         },
         "mode": "lines",
         "showlegend": false,
         "type": "scatter3d",
         "x": [
          0.9888420531218629,
          0.970787447953378
         ],
         "y": [
          -0.7643654821177299,
          -0.7643654821177299
         ],
         "z": [
          -3.2579647012916273,
          -3.2579647012916273
         ]
        },
        {
         "line": {
          "color": "crimson",
          "width": 2
         },
         "mode": "lines",
         "showlegend": false,
         "type": "scatter3d",
         "x": [
          0.970787447953378,
          0.9888420531218629
         ],
         "y": [
          -0.7643654821177299,
          -0.7643654821177299
         ],
         "z": [
          -1.6012135357171289,
          -1.6012135357171289
         ]
        },
        {
         "line": {
          "color": "crimson",
          "width": 2
         },
         "mode": "lines",
         "showlegend": false,
         "type": "scatter3d",
         "x": [
          0.970787447953378,
          0.9888420531218629
         ],
         "y": [
          -0.7462488025258142,
          -0.7462488025258142
         ],
         "z": [
          0.7803662647962133,
          0.7803662647962133
         ]
        },
        {
         "line": {
          "color": "crimson",
          "width": 2
         },
         "mode": "lines",
         "showlegend": false,
         "type": "scatter3d",
         "x": [
          0.970787447953378,
          0.9888420531218629
         ],
         "y": [
          -0.7462488025258142,
          -0.7462488025258142
         ],
         "z": [
          2.437117430370712,
          2.437117430370712
         ]
        },
        {
         "line": {
          "color": "crimson",
          "width": 2
         },
         "mode": "lines",
         "showlegend": false,
         "type": "scatter3d",
         "x": [
          0.970787447953378,
          0.9527328427848931
         ],
         "y": [
          0.1777018566618893,
          0.1958185362538052
         ],
         "z": [
          6.578995344306959,
          6.578995344306959
         ]
        },
        {
         "line": {
          "color": "crimson",
          "width": 2
         },
         "mode": "lines",
         "showlegend": false,
         "type": "scatter3d",
         "x": [
          0.970787447953378,
          0.9888420531218629
         ],
         "y": [
          0.7755522831951094,
          0.7755522831951094
         ],
         "z": [
          -2.429589118504378,
          -2.429589118504378
         ]
        },
        {
         "line": {
          "color": "crimson",
          "width": 2
         },
         "mode": "lines",
         "showlegend": false,
         "type": "scatter3d",
         "x": [
          0.970787447953378,
          0.9888420531218629
         ],
         "y": [
          0.7755522831951094,
          0.7755522831951094
         ],
         "z": [
          -0.772837952929879,
          -0.772837952929879
         ]
        },
        {
         "line": {
          "color": "crimson",
          "width": 2
         },
         "mode": "lines",
         "showlegend": false,
         "type": "scatter3d",
         "x": [
          1.0068966582903478,
          1.0249512634588327
         ],
         "y": [
          -0.7100154433419826,
          -0.7100154433419826
         ],
         "z": [
          4.715150283035648,
          4.715150283035648
         ]
        },
        {
         "line": {
          "color": "crimson",
          "width": 2
         },
         "mode": "lines",
         "showlegend": false,
         "type": "scatter3d",
         "x": [
          1.0068966582903478,
          1.0249512634588327
         ],
         "y": [
          -0.7100154433419826,
          -0.7100154433419826
         ],
         "z": [
          6.475448396458553,
          6.475448396458553
         ]
        },
        {
         "line": {
          "color": "crimson",
          "width": 2
         },
         "mode": "lines",
         "showlegend": false,
         "type": "scatter3d",
         "x": [
          1.0068966582903478,
          1.0249512634588327
         ],
         "y": [
          0.1777018566618893,
          0.1958185362538052
         ],
         "z": [
          6.578995344306959,
          6.578995344306959
         ]
        },
        {
         "line": {
          "color": "crimson",
          "width": 2
         },
         "mode": "lines",
         "showlegend": false,
         "type": "scatter3d",
         "x": [
          1.0249512634588327,
          1.0068966582903478
         ],
         "y": [
          0.7574356036031935,
          0.7574356036031935
         ],
         "z": [
          1.6087418475834632,
          1.6087418475834632
         ]
        },
        {
         "line": {
          "color": "crimson",
          "width": 2
         },
         "mode": "lines",
         "showlegend": false,
         "type": "scatter3d",
         "x": [
          1.0249512634588327,
          1.0068966582903478
         ],
         "y": [
          0.7574356036031935,
          0.7574356036031935
         ],
         "z": [
          3.265493013157961,
          3.265493013157961
         ]
        },
        {
         "line": {
          "color": "crimson",
          "width": 2
         },
         "mode": "lines",
         "showlegend": false,
         "type": "scatter3d",
         "x": [
          1.0249512634588327,
          1.0430058686273176
         ],
         "y": [
          0.1777018566618893,
          0.1958185362538052
         ],
         "z": [
          6.578995344306959,
          6.578995344306959
         ]
        },
        {
         "line": {
          "color": "crimson",
          "width": 2
         },
         "mode": "lines",
         "showlegend": false,
         "type": "scatter3d",
         "x": [
          1.0610604737958025,
          1.0430058686273176
         ],
         "y": [
          -0.6918987637500669,
          -0.6918987637500669
         ],
         "z": [
          0.8839132126446199,
          0.8839132126446199
         ]
        },
        {
         "line": {
          "color": "crimson",
          "width": 2
         },
         "mode": "lines",
         "showlegend": false,
         "type": "scatter3d",
         "x": [
          1.0610604737958025,
          1.0430058686273176
         ],
         "y": [
          -0.6918987637500669,
          -0.6918987637500669
         ],
         "z": [
          2.540664378219118,
          2.540664378219118
         ]
        },
        {
         "line": {
          "color": "crimson",
          "width": 2
         },
         "mode": "lines",
         "showlegend": false,
         "type": "scatter3d",
         "x": [
          1.0610604737958025,
          1.0430058686273176
         ],
         "y": [
          -0.6556654045662353,
          -0.6556654045662353
         ],
         "z": [
          4.818697230884055,
          4.818697230884055
         ]
        },
        {
         "line": {
          "color": "crimson",
          "width": 2
         },
         "mode": "lines",
         "showlegend": false,
         "type": "scatter3d",
         "x": [
          1.0610604737958025,
          1.0430058686273176
         ],
         "y": [
          -0.6556654045662353,
          -0.6556654045662353
         ],
         "z": [
          6.475448396458553,
          6.475448396458553
         ]
        },
        {
         "line": {
          "color": "crimson",
          "width": 2
         },
         "mode": "lines",
         "showlegend": false,
         "type": "scatter3d",
         "x": [
          1.0430058686273176,
          1.0610604737958025
         ],
         "y": [
          -0.6375487249743196,
          -0.6375487249743196
         ],
         "z": [
          -3.154417753443221,
          -3.154417753443221
         ]
        },
        {
         "line": {
          "color": "crimson",
          "width": 2
         },
         "mode": "lines",
         "showlegend": false,
         "type": "scatter3d",
         "x": [
          1.0430058686273176,
          1.0610604737958025
         ],
         "y": [
          -0.6375487249743196,
          -0.6375487249743196
         ],
         "z": [
          -1.4976665878687223,
          -1.4976665878687223
         ]
        },
        {
         "line": {
          "color": "crimson",
          "width": 2
         },
         "mode": "lines",
         "showlegend": false,
         "type": "scatter3d",
         "x": [
          1.0430058686273176,
          1.0610604737958025
         ],
         "y": [
          0.1777018566618893,
          0.1958185362538052
         ],
         "z": [
          6.578995344306959,
          6.578995344306959
         ]
        },
        {
         "line": {
          "color": "crimson",
          "width": 2
         },
         "mode": "lines",
         "showlegend": false,
         "type": "scatter3d",
         "x": [
          1.0430058686273176,
          1.0610604737958025
         ],
         "y": [
          0.6306188464597833,
          0.6306188464597833
         ],
         "z": [
          -2.5331360663527844,
          -2.5331360663527844
         ]
        },
        {
         "line": {
          "color": "crimson",
          "width": 2
         },
         "mode": "lines",
         "showlegend": false,
         "type": "scatter3d",
         "x": [
          1.0610604737958025,
          1.0430058686273176
         ],
         "y": [
          0.6306188464597833,
          0.6306188464597833
         ],
         "z": [
          -0.8763849007782856,
          -0.8763849007782856
         ]
        },
        {
         "line": {
          "color": "crimson",
          "width": 2
         },
         "mode": "lines",
         "showlegend": false,
         "type": "scatter3d",
         "x": [
          1.0610604737958025,
          1.0791150789642874
         ],
         "y": [
          0.1777018566618893,
          0.1958185362538052
         ],
         "z": [
          6.578995344306959,
          6.578995344306959
         ]
        },
        {
         "line": {
          "color": "crimson",
          "width": 2
         },
         "mode": "lines",
         "showlegend": false,
         "type": "scatter3d",
         "x": [
          1.0791150789642874,
          1.0610604737958025
         ],
         "y": [
          0.6125021668678676,
          0.6125021668678676
         ],
         "z": [
          -4.81116891901772,
          -4.81116891901772
         ]
        },
        {
         "line": {
          "color": "crimson",
          "width": 2
         },
         "mode": "lines",
         "showlegend": false,
         "type": "scatter3d",
         "x": [
          1.0791150789642874,
          1.0610604737958025
         ],
         "y": [
          0.6125021668678676,
          0.6125021668678676
         ],
         "z": [
          -6.5714670324406255,
          -6.5714670324406255
         ]
        },
        {
         "line": {
          "color": "crimson",
          "width": 2
         },
         "mode": "lines",
         "showlegend": false,
         "type": "scatter3d",
         "x": [
          1.0791150789642874,
          1.0610604737958025
         ],
         "y": [
          0.6125021668678676,
          0.5943854872759518
         ],
         "z": [
          -6.5714670324406255,
          -6.5714670324406255
         ]
        },
        {
         "line": {
          "color": "crimson",
          "width": 2
         },
         "mode": "lines",
         "showlegend": false,
         "type": "scatter3d",
         "x": [
          1.0971696841327723,
          1.0791150789642874
         ],
         "y": [
          -0.6194320453824038,
          -0.6194320453824038
         ],
         "z": [
          0.8839132126446199,
          0.8839132126446199
         ]
        },
        {
         "line": {
          "color": "crimson",
          "width": 2
         },
         "mode": "lines",
         "showlegend": false,
         "type": "scatter3d",
         "x": [
          1.0791150789642874,
          1.0971696841327723
         ],
         "y": [
          -0.6194320453824038,
          -0.6194320453824038
         ],
         "z": [
          2.540664378219118,
          2.540664378219118
         ]
        },
        {
         "line": {
          "color": "crimson",
          "width": 2
         },
         "mode": "lines",
         "showlegend": false,
         "type": "scatter3d",
         "x": [
          1.0791150789642874,
          1.0971696841327723
         ],
         "y": [
          -0.5650820066066566,
          -0.5650820066066566
         ],
         "z": [
          -1.3941196400203166,
          -1.3941196400203166
         ]
        },
        {
         "line": {
          "color": "crimson",
          "width": 2
         },
         "mode": "lines",
         "showlegend": false,
         "type": "scatter3d",
         "x": [
          1.0971696841327723,
          1.0791150789642874
         ],
         "y": [
          -0.5650820066066566,
          -0.5650820066066566
         ],
         "z": [
          4.922244178732461,
          4.922244178732461
         ]
        },
        {
         "line": {
          "color": "crimson",
          "width": 2
         },
         "mode": "lines",
         "showlegend": false,
         "type": "scatter3d",
         "x": [
          1.0971696841327723,
          1.0791150789642874
         ],
         "y": [
          -0.5650820066066566,
          -0.5650820066066566
         ],
         "z": [
          6.578995344306959,
          6.578995344306959
         ]
        },
        {
         "line": {
          "color": "crimson",
          "width": 2
         },
         "mode": "lines",
         "showlegend": false,
         "type": "scatter3d",
         "x": [
          1.0971696841327723,
          1.0791150789642874
         ],
         "y": [
          0.1958185362538052,
          0.1777018566618893
         ],
         "z": [
          6.578995344306959,
          6.578995344306959
         ]
        },
        {
         "line": {
          "color": "crimson",
          "width": 2
         },
         "mode": "lines",
         "showlegend": false,
         "type": "scatter3d",
         "x": [
          1.0610604737958025,
          1.0791150789642874
         ],
         "y": [
          0.5581521280921202,
          0.5762688076840361
         ],
         "z": [
          -6.5714670324406255,
          -6.5714670324406255
         ]
        },
        {
         "line": {
          "color": "crimson",
          "width": 2
         },
         "mode": "lines",
         "showlegend": false,
         "type": "scatter3d",
         "x": [
          1.0610604737958025,
          1.0791150789642874
         ],
         "y": [
          0.5762688076840361,
          0.5943854872759518
         ],
         "z": [
          -6.5714670324406255,
          -6.5714670324406255
         ]
        },
        {
         "line": {
          "color": "crimson",
          "width": 2
         },
         "mode": "lines",
         "showlegend": false,
         "type": "scatter3d",
         "x": [
          1.0791150789642874,
          1.0971696841327723
         ],
         "y": [
          0.5762688076840361,
          0.5762688076840361
         ],
         "z": [
          -2.5331360663527844,
          -2.5331360663527844
         ]
        },
        {
         "line": {
          "color": "crimson",
          "width": 2
         },
         "mode": "lines",
         "showlegend": false,
         "type": "scatter3d",
         "x": [
          1.0791150789642874,
          1.0971696841327723
         ],
         "y": [
          0.5762688076840361,
          0.5762688076840361
         ],
         "z": [
          -0.8763849007782856,
          -0.8763849007782856
         ]
        },
        {
         "line": {
          "color": "crimson",
          "width": 2
         },
         "mode": "lines",
         "showlegend": false,
         "type": "scatter3d",
         "x": [
          1.0791150789642874,
          1.0971696841327723
         ],
         "y": [
          0.6125021668678676,
          0.6125021668678676
         ],
         "z": [
          1.5051948997350575,
          1.5051948997350575
         ]
        },
        {
         "line": {
          "color": "crimson",
          "width": 2
         },
         "mode": "lines",
         "showlegend": false,
         "type": "scatter3d",
         "x": [
          1.0971696841327723,
          1.0791150789642874
         ],
         "y": [
          0.6125021668678676,
          0.6125021668678676
         ],
         "z": [
          3.1619460653095555,
          3.1619460653095555
         ]
        },
        {
         "line": {
          "color": "crimson",
          "width": 2
         },
         "mode": "lines",
         "showlegend": false,
         "type": "scatter3d",
         "x": [
          1.1152242893012572,
          1.0971696841327723
         ],
         "y": [
          0.1958185362538052,
          0.1777018566618893
         ],
         "z": [
          6.578995344306959,
          6.578995344306959
         ]
        },
        {
         "line": {
          "color": "crimson",
          "width": 2
         },
         "mode": "lines",
         "showlegend": false,
         "type": "scatter3d",
         "x": [
          1.1152242893012572,
          1.0971696841327723
         ],
         "y": [
          0.5219187689082887,
          0.5219187689082887
         ],
         "z": [
          -4.914715866866127,
          -4.914715866866127
         ]
        },
        {
         "line": {
          "color": "crimson",
          "width": 2
         },
         "mode": "lines",
         "showlegend": false,
         "type": "scatter3d",
         "x": [
          1.1152242893012572,
          1.0971696841327723
         ],
         "y": [
          0.5219187689082887,
          0.5219187689082887
         ],
         "z": [
          -6.5714670324406255,
          -6.5714670324406255
         ]
        },
        {
         "line": {
          "color": "crimson",
          "width": 2
         },
         "mode": "lines",
         "showlegend": false,
         "type": "scatter3d",
         "x": [
          1.1152242893012572,
          1.0971696841327723
         ],
         "y": [
          0.5219187689082887,
          0.503802089316373
         ],
         "z": [
          -6.5714670324406255,
          -6.5714670324406255
         ]
        },
        {
         "line": {
          "color": "crimson",
          "width": 2
         },
         "mode": "lines",
         "showlegend": false,
         "type": "scatter3d",
         "x": [
          1.0971696841327723,
          1.1152242893012572
         ],
         "y": [
          -0.5107319678309094,
          -0.5288486474228251
         ],
         "z": [
          6.578995344306959,
          6.578995344306959
         ]
        },
        {
         "line": {
          "color": "crimson",
          "width": 2
         },
         "mode": "lines",
         "showlegend": false,
         "type": "scatter3d",
         "x": [
          1.1152242893012572,
          1.0971696841327723
         ],
         "y": [
          -0.5107319678309094,
          -0.4926152882389936
         ],
         "z": [
          6.578995344306959,
          6.578995344306959
         ]
        },
        {
         "line": {
          "color": "crimson",
          "width": 2
         },
         "mode": "lines",
         "showlegend": false,
         "type": "scatter3d",
         "x": [
          1.1152242893012572,
          1.151333499638227
         ],
         "y": [
          0.1777018566618893,
          0.1777018566618893
         ],
         "z": [
          6.578995344306959,
          6.578995344306959
         ]
        },
        {
         "line": {
          "color": "crimson",
          "width": 2
         },
         "mode": "lines",
         "showlegend": false,
         "type": "scatter3d",
         "x": [
          1.151333499638227,
          1.133278894469742
         ],
         "y": [
          0.1777018566618893,
          0.1777018566618893
         ],
         "z": [
          6.578995344306959,
          6.578995344306959
         ]
        },
        {
         "line": {
          "color": "crimson",
          "width": 2
         },
         "mode": "lines",
         "showlegend": false,
         "type": "scatter3d",
         "x": [
          1.151333499638227,
          1.133278894469742
         ],
         "y": [
          0.1777018566618893,
          0.15958517706997366
         ],
         "z": [
          6.578995344306959,
          6.578995344306959
         ]
        },
        {
         "line": {
          "color": "crimson",
          "width": 2
         },
         "mode": "lines",
         "showlegend": false,
         "type": "scatter3d",
         "x": [
          1.133278894469742,
          1.1152242893012572
         ],
         "y": [
          0.25016857502955236,
          0.25016857502955236
         ],
         "z": [
          -0.8763849007782856,
          -0.9799318486266912
         ]
        },
        {
         "line": {
          "color": "crimson",
          "width": 2
         },
         "mode": "lines",
         "showlegend": false,
         "type": "scatter3d",
         "x": [
          1.133278894469742,
          1.1152242893012572
         ],
         "y": [
          0.26828525462146824,
          0.26828525462146824
         ],
         "z": [
          -0.8763849007782856,
          -0.9799318486266912
         ]
        },
        {
         "line": {
          "color": "crimson",
          "width": 2
         },
         "mode": "lines",
         "showlegend": false,
         "type": "scatter3d",
         "x": [
          1.0971696841327723,
          1.1152242893012572
         ],
         "y": [
          0.4675687301325415,
          0.4856854097244572
         ],
         "z": [
          -6.5714670324406255,
          -6.5714670324406255
         ]
        },
        {
         "line": {
          "color": "crimson",
          "width": 2
         },
         "mode": "lines",
         "showlegend": false,
         "type": "scatter3d",
         "x": [
          1.1152242893012572,
          1.0971696841327723
         ],
         "y": [
          0.503802089316373,
          0.4856854097244572
         ],
         "z": [
          -6.5714670324406255,
          -6.5714670324406255
         ]
        },
        {
         "line": {
          "color": "crimson",
          "width": 2
         },
         "mode": "lines",
         "showlegend": false,
         "type": "scatter3d",
         "x": [
          1.133278894469742,
          1.151333499638227
         ],
         "y": [
          -0.42014856987133054,
          -0.42014856987133054
         ],
         "z": [
          -3.050870805594815,
          -3.050870805594815
         ]
        },
        {
         "line": {
          "color": "crimson",
          "width": 2
         },
         "mode": "lines",
         "showlegend": false,
         "type": "scatter3d",
         "x": [
          1.151333499638227,
          1.133278894469742
         ],
         "y": [
          -0.42014856987133054,
          -0.42014856987133054
         ],
         "z": [
          -1.3941196400203166,
          -1.3941196400203166
         ]
        },
        {
         "line": {
          "color": "crimson",
          "width": 2
         },
         "mode": "lines",
         "showlegend": false,
         "type": "scatter3d",
         "x": [
          1.133278894469742,
          1.151333499638227
         ],
         "y": [
          0.1777018566618893,
          0.1777018566618893
         ],
         "z": [
          5.129338074429272,
          5.129338074429272
         ]
        },
        {
         "line": {
          "color": "crimson",
          "width": 2
         },
         "mode": "lines",
         "showlegend": false,
         "type": "scatter3d",
         "x": [
          1.151333499638227,
          1.133278894469742
         ],
         "y": [
          0.44945205054062565,
          0.44945205054062565
         ],
         "z": [
          -2.6366830142011906,
          -2.6366830142011906
         ]
        },
        {
         "line": {
          "color": "crimson",
          "width": 2
         },
         "mode": "lines",
         "showlegend": false,
         "type": "scatter3d",
         "x": [
          1.133278894469742,
          1.151333499638227
         ],
         "y": [
          0.44945205054062565,
          0.44945205054062565
         ],
         "z": [
          -0.9799318486266912,
          -0.9799318486266912
         ]
        },
        {
         "line": {
          "color": "crimson",
          "width": 2
         },
         "mode": "lines",
         "showlegend": false,
         "type": "scatter3d",
         "x": [
          1.151333499638227,
          1.151333499638227
         ],
         "y": [
          -0.383915210687499,
          -0.383915210687499
         ],
         "z": [
          -1.29057269217191,
          -1.1870257443235035
         ]
        },
        {
         "line": {
          "color": "crimson",
          "width": 2
         },
         "mode": "lines",
         "showlegend": false,
         "type": "scatter3d",
         "x": [
          1.151333499638227,
          1.151333499638227
         ],
         "y": [
          -0.383915210687499,
          -0.36579853109558325
         ],
         "z": [
          -1.1870257443235035,
          -1.29057269217191
         ]
        },
        {
         "line": {
          "color": "crimson",
          "width": 2
         },
         "mode": "lines",
         "showlegend": false,
         "type": "scatter3d",
         "x": [
          1.151333499638227,
          1.133278894469742
         ],
         "y": [
          -0.42014856987133054,
          -0.40203189027941477
         ],
         "z": [
          6.578995344306959,
          6.578995344306959
         ]
        },
        {
         "line": {
          "color": "crimson",
          "width": 2
         },
         "mode": "lines",
         "showlegend": false,
         "type": "scatter3d",
         "x": [
          1.133278894469742,
          1.151333499638227
         ],
         "y": [
          -0.383915210687499,
          -0.40203189027941477
         ],
         "z": [
          6.578995344306959,
          6.578995344306959
         ]
        },
        {
         "line": {
          "color": "crimson",
          "width": 2
         },
         "mode": "lines",
         "showlegend": false,
         "type": "scatter3d",
         "x": [
          1.151333499638227,
          1.133278894469742
         ],
         "y": [
          -0.383915210687499,
          -0.36579853109558325
         ],
         "z": [
          6.578995344306959,
          6.578995344306959
         ]
        },
        {
         "line": {
          "color": "crimson",
          "width": 2
         },
         "mode": "lines",
         "showlegend": false,
         "type": "scatter3d",
         "x": [
          1.151333499638227,
          1.151333499638227
         ],
         "y": [
          -0.36579853109558325,
          -0.3476818515036675
         ],
         "z": [
          -1.1870257443235035,
          -1.29057269217191
         ]
        },
        {
         "line": {
          "color": "crimson",
          "width": 2
         },
         "mode": "lines",
         "showlegend": false,
         "type": "scatter3d",
         "x": [
          1.133278894469742,
          1.151333499638227
         ],
         "y": [
          -0.3476818515036675,
          -0.36579853109558325
         ],
         "z": [
          6.578995344306959,
          6.578995344306959
         ]
        },
        {
         "line": {
          "color": "crimson",
          "width": 2
         },
         "mode": "lines",
         "showlegend": false,
         "type": "scatter3d",
         "x": [
          1.151333499638227,
          1.151333499638227
         ],
         "y": [
          -0.3476818515036675,
          -0.3295651719117517
         ],
         "z": [
          -1.1870257443235035,
          -1.29057269217191
         ]
        },
        {
         "line": {
          "color": "crimson",
          "width": 2
         },
         "mode": "lines",
         "showlegend": false,
         "type": "scatter3d",
         "x": [
          1.133278894469742,
          1.151333499638227
         ],
         "y": [
          -0.3295651719117517,
          -0.3476818515036675
         ],
         "z": [
          6.578995344306959,
          6.578995344306959
         ]
        },
        {
         "line": {
          "color": "crimson",
          "width": 2
         },
         "mode": "lines",
         "showlegend": false,
         "type": "scatter3d",
         "x": [
          1.151333499638227,
          1.151333499638227
         ],
         "y": [
          -0.31144849231983596,
          -0.3295651719117517
         ],
         "z": [
          -1.29057269217191,
          -1.1870257443235035
         ]
        },
        {
         "line": {
          "color": "crimson",
          "width": 2
         },
         "mode": "lines",
         "showlegend": false,
         "type": "scatter3d",
         "x": [
          1.151333499638227,
          1.151333499638227
         ],
         "y": [
          -0.3295651719117517,
          -0.31144849231983596
         ],
         "z": [
          2.8513052217643367,
          2.747758273915931
         ]
        },
        {
         "line": {
          "color": "crimson",
          "width": 2
         },
         "mode": "lines",
         "showlegend": false,
         "type": "scatter3d",
         "x": [
          1.151333499638227,
          1.151333499638227
         ],
         "y": [
          -0.31144849231983596,
          -0.2933318127279202
         ],
         "z": [
          -1.1870257443235035,
          -1.29057269217191
         ]
        },
        {
         "line": {
          "color": "crimson",
          "width": 2
         },
         "mode": "lines",
         "showlegend": false,
         "type": "scatter3d",
         "x": [
          1.151333499638227,
          1.151333499638227
         ],
         "y": [
          -0.31144849231983596,
          -0.2933318127279202
         ],
         "z": [
          2.8513052217643367,
          2.747758273915931
         ]
        },
        {
         "line": {
          "color": "crimson",
          "width": 2
         },
         "mode": "lines",
         "showlegend": false,
         "type": "scatter3d",
         "x": [
          1.151333499638227,
          1.151333499638227
         ],
         "y": [
          -0.2933318127279202,
          -0.27521513313600454
         ],
         "z": [
          -1.1870257443235035,
          -1.29057269217191
         ]
        },
        {
         "line": {
          "color": "crimson",
          "width": 2
         },
         "mode": "lines",
         "showlegend": false,
         "type": "scatter3d",
         "x": [
          1.151333499638227,
          1.151333499638227
         ],
         "y": [
          -0.27521513313600454,
          -0.2933318127279202
         ],
         "z": [
          2.747758273915931,
          2.8513052217643367
         ]
        },
        {
         "line": {
          "color": "crimson",
          "width": 2
         },
         "mode": "lines",
         "showlegend": false,
         "type": "scatter3d",
         "x": [
          1.151333499638227,
          1.151333499638227
         ],
         "y": [
          -0.27521513313600454,
          -0.2570984535440888
         ],
         "z": [
          2.8513052217643367,
          2.747758273915931
         ]
        },
        {
         "line": {
          "color": "crimson",
          "width": 2
         },
         "mode": "lines",
         "showlegend": false,
         "type": "scatter3d",
         "x": [
          1.151333499638227,
          1.151333499638227
         ],
         "y": [
          -0.2570984535440888,
          -0.23898177395217302
         ],
         "z": [
          2.8513052217643367,
          2.747758273915931
         ]
        },
        {
         "line": {
          "color": "crimson",
          "width": 2
         },
         "mode": "lines",
         "showlegend": false,
         "type": "scatter3d",
         "x": [
          1.151333499638227,
          1.151333499638227
         ],
         "y": [
          -0.22086509436025725,
          -0.23898177395217302
         ],
         "z": [
          -1.1870257443235035,
          -1.0834787964750978
         ]
        },
        {
         "line": {
          "color": "crimson",
          "width": 2
         },
         "mode": "lines",
         "showlegend": false,
         "type": "scatter3d",
         "x": [
          1.151333499638227,
          1.151333499638227
         ],
         "y": [
          -0.23898177395217302,
          -0.22086509436025725
         ],
         "z": [
          2.8513052217643367,
          2.747758273915931
         ]
        },
        {
         "line": {
          "color": "crimson",
          "width": 2
         },
         "mode": "lines",
         "showlegend": false,
         "type": "scatter3d",
         "x": [
          1.151333499638227,
          1.151333499638227
         ],
         "y": [
          -0.2027484147683415,
          -0.22086509436025725
         ],
         "z": [
          -1.1870257443235035,
          -1.0834787964750978
         ]
        },
        {
         "line": {
          "color": "crimson",
          "width": 2
         },
         "mode": "lines",
         "showlegend": false,
         "type": "scatter3d",
         "x": [
          1.151333499638227,
          1.151333499638227
         ],
         "y": [
          -0.22086509436025725,
          -0.2027484147683415
         ],
         "z": [
          2.8513052217643367,
          2.747758273915931
         ]
        },
        {
         "line": {
          "color": "crimson",
          "width": 2
         },
         "mode": "lines",
         "showlegend": false,
         "type": "scatter3d",
         "x": [
          1.151333499638227,
          1.151333499638227
         ],
         "y": [
          -0.2027484147683415,
          -0.18463173517642573
         ],
         "z": [
          -1.0834787964750978,
          -1.1870257443235035
         ]
        },
        {
         "line": {
          "color": "crimson",
          "width": 2
         },
         "mode": "lines",
         "showlegend": false,
         "type": "scatter3d",
         "x": [
          1.151333499638227,
          1.151333499638227
         ],
         "y": [
          -0.16651505558450996,
          -0.18463173517642573
         ],
         "z": [
          -1.1870257443235035,
          -1.0834787964750978
         ]
        },
        {
         "line": {
          "color": "crimson",
          "width": 2
         },
         "mode": "lines",
         "showlegend": false,
         "type": "scatter3d",
         "x": [
          1.151333499638227,
          1.151333499638227
         ],
         "y": [
          -0.13028169640067855,
          -0.13028169640067855
         ],
         "z": [
          -5.018262814714532,
          -5.121809762562939
         ]
        },
        {
         "line": {
          "color": "crimson",
          "width": 2
         },
         "mode": "lines",
         "showlegend": false,
         "type": "scatter3d",
         "x": [
          1.151333499638227,
          1.151333499638227
         ],
         "y": [
          -0.13028169640067855,
          -0.11216501680876267
         ],
         "z": [
          -5.018262814714532,
          -5.121809762562939
         ]
        },
        {
         "line": {
          "color": "crimson",
          "width": 2
         },
         "mode": "lines",
         "showlegend": false,
         "type": "scatter3d",
         "x": [
          1.151333499638227,
          1.151333499638227
         ],
         "y": [
          -0.16651505558450996,
          -0.1483983759925942
         ],
         "z": [
          -1.0834787964750978,
          -1.1870257443235035
         ]
        },
        {
         "line": {
          "color": "crimson",
          "width": 2
         },
         "mode": "lines",
         "showlegend": false,
         "type": "scatter3d",
         "x": [
          1.151333499638227,
          1.151333499638227
         ],
         "y": [
          -0.16651505558450996,
          -0.1483983759925942
         ],
         "z": [
          2.954852169612744,
          2.8513052217643367
         ]
        },
        {
         "line": {
          "color": "crimson",
          "width": 2
         },
         "mode": "lines",
         "showlegend": false,
         "type": "scatter3d",
         "x": [
          1.151333499638227,
          1.151333499638227
         ],
         "y": [
          -0.13028169640067855,
          -0.1483983759925942
         ],
         "z": [
          -1.1870257443235035,
          -1.0834787964750978
         ]
        },
        {
         "line": {
          "color": "crimson",
          "width": 2
         },
         "mode": "lines",
         "showlegend": false,
         "type": "scatter3d",
         "x": [
          1.151333499638227,
          1.151333499638227
         ],
         "y": [
          -0.13028169640067855,
          -0.1483983759925942
         ],
         "z": [
          2.8513052217643367,
          2.954852169612744
         ]
        },
        {
         "line": {
          "color": "crimson",
          "width": 2
         },
         "mode": "lines",
         "showlegend": false,
         "type": "scatter3d",
         "x": [
          1.151333499638227,
          1.151333499638227
         ],
         "y": [
          -0.11216501680876267,
          -0.13028169640067855
         ],
         "z": [
          2.8513052217643367,
          2.954852169612744
         ]
        },
        {
         "line": {
          "color": "crimson",
          "width": 2
         },
         "mode": "lines",
         "showlegend": false,
         "type": "scatter3d",
         "x": [
          1.151333499638227,
          1.151333499638227
         ],
         "y": [
          -0.11216501680876267,
          -0.09404833721684702
         ],
         "z": [
          -5.018262814714532,
          -5.121809762562939
         ]
        },
        {
         "line": {
          "color": "crimson",
          "width": 2
         },
         "mode": "lines",
         "showlegend": false,
         "type": "scatter3d",
         "x": [
          1.151333499638227,
          1.151333499638227
         ],
         "y": [
          -0.11216501680876267,
          -0.09404833721684702
         ],
         "z": [
          2.954852169612744,
          2.8513052217643367
         ]
        },
        {
         "line": {
          "color": "crimson",
          "width": 2
         },
         "mode": "lines",
         "showlegend": false,
         "type": "scatter3d",
         "x": [
          1.151333499638227,
          1.151333499638227
         ],
         "y": [
          -0.09404833721684702,
          -0.07593165762493115
         ],
         "z": [
          -5.018262814714532,
          -5.121809762562939
         ]
        },
        {
         "line": {
          "color": "crimson",
          "width": 2
         },
         "mode": "lines",
         "showlegend": false,
         "type": "scatter3d",
         "x": [
          1.151333499638227,
          1.151333499638227
         ],
         "y": [
          -0.07593165762493115,
          -0.09404833721684702
         ],
         "z": [
          -1.0834787964750978,
          -0.9799318486266912
         ]
        },
        {
         "line": {
          "color": "crimson",
          "width": 2
         },
         "mode": "lines",
         "showlegend": false,
         "type": "scatter3d",
         "x": [
          1.151333499638227,
          1.151333499638227
         ],
         "y": [
          -0.09404833721684702,
          -0.07593165762493115
         ],
         "z": [
          2.954852169612744,
          2.8513052217643367
         ]
        },
        {
         "line": {
          "color": "crimson",
          "width": 2
         },
         "mode": "lines",
         "showlegend": false,
         "type": "scatter3d",
         "x": [
          1.151333499638227,
          1.151333499638227
         ],
         "y": [
          -0.07593165762493115,
          -0.057814978033015496
         ],
         "z": [
          -0.9799318486266912,
          -1.0834787964750978
         ]
        },
        {
         "line": {
          "color": "crimson",
          "width": 2
         },
         "mode": "lines",
         "showlegend": false,
         "type": "scatter3d",
         "x": [
          1.151333499638227,
          1.151333499638227
         ],
         "y": [
          -0.07593165762493115,
          -0.057814978033015496
         ],
         "z": [
          2.954852169612744,
          2.8513052217643367
         ]
        },
        {
         "line": {
          "color": "crimson",
          "width": 2
         },
         "mode": "lines",
         "showlegend": false,
         "type": "scatter3d",
         "x": [
          1.151333499638227,
          1.151333499638227
         ],
         "y": [
          -0.03969829844109962,
          -0.057814978033015496
         ],
         "z": [
          -1.0834787964750978,
          -0.9799318486266912
         ]
        },
        {
         "line": {
          "color": "crimson",
          "width": 2
         },
         "mode": "lines",
         "showlegend": false,
         "type": "scatter3d",
         "x": [
          1.151333499638227,
          1.151333499638227
         ],
         "y": [
          -0.03969829844109962,
          -0.02158161884918397
         ],
         "z": [
          -4.914715866866127,
          -5.018262814714532
         ]
        },
        {
         "line": {
          "color": "crimson",
          "width": 2
         },
         "mode": "lines",
         "showlegend": false,
         "type": "scatter3d",
         "x": [
          1.151333499638227,
          1.151333499638227
         ],
         "y": [
          -0.02158161884918397,
          -0.03969829844109962
         ],
         "z": [
          -1.0834787964750978,
          -0.9799318486266912
         ]
        },
        {
         "line": {
          "color": "crimson",
          "width": 2
         },
         "mode": "lines",
         "showlegend": false,
         "type": "scatter3d",
         "x": [
          1.151333499638227,
          1.151333499638227
         ],
         "y": [
          -0.02158161884918397,
          -0.003464939257268096
         ],
         "z": [
          -4.914715866866127,
          -5.018262814714532
         ]
        },
        {
         "line": {
          "color": "crimson",
          "width": 2
         },
         "mode": "lines",
         "showlegend": false,
         "type": "scatter3d",
         "x": [
          1.151333499638227,
          1.151333499638227
         ],
         "y": [
          -0.02158161884918397,
          -0.003464939257268096
         ],
         "z": [
          -0.9799318486266912,
          -1.0834787964750978
         ]
        },
        {
         "line": {
          "color": "crimson",
          "width": 2
         },
         "mode": "lines",
         "showlegend": false,
         "type": "scatter3d",
         "x": [
          1.151333499638227,
          1.151333499638227
         ],
         "y": [
          -0.02158161884918397,
          -0.003464939257268096
         ],
         "z": [
          3.05839911746115,
          2.954852169612744
         ]
        },
        {
         "line": {
          "color": "crimson",
          "width": 2
         },
         "mode": "lines",
         "showlegend": false,
         "type": "scatter3d",
         "x": [
          1.151333499638227,
          1.151333499638227
         ],
         "y": [
          -0.003464939257268096,
          0.014651740334647556
         ],
         "z": [
          -4.914715866866127,
          -5.018262814714532
         ]
        },
        {
         "line": {
          "color": "crimson",
          "width": 2
         },
         "mode": "lines",
         "showlegend": false,
         "type": "scatter3d",
         "x": [
          1.151333499638227,
          1.151333499638227
         ],
         "y": [
          0.014651740334647556,
          -0.003464939257268096
         ],
         "z": [
          -1.0834787964750978,
          -0.9799318486266912
         ]
        },
        {
         "line": {
          "color": "crimson",
          "width": 2
         },
         "mode": "lines",
         "showlegend": false,
         "type": "scatter3d",
         "x": [
          1.151333499638227,
          1.151333499638227
         ],
         "y": [
          -0.003464939257268096,
          0.014651740334647556
         ],
         "z": [
          3.05839911746115,
          2.954852169612744
         ]
        },
        {
         "line": {
          "color": "crimson",
          "width": 2
         },
         "mode": "lines",
         "showlegend": false,
         "type": "scatter3d",
         "x": [
          1.151333499638227,
          1.151333499638227
         ],
         "y": [
          0.014651740334647556,
          0.03276841992656343
         ],
         "z": [
          -4.914715866866127,
          -5.018262814714532
         ]
        },
        {
         "line": {
          "color": "crimson",
          "width": 2
         },
         "mode": "lines",
         "showlegend": false,
         "type": "scatter3d",
         "x": [
          1.151333499638227,
          1.151333499638227
         ],
         "y": [
          0.014651740334647556,
          0.03276841992656343
         ],
         "z": [
          -0.9799318486266912,
          -1.0834787964750978
         ]
        },
        {
         "line": {
          "color": "crimson",
          "width": 2
         },
         "mode": "lines",
         "showlegend": false,
         "type": "scatter3d",
         "x": [
          1.151333499638227,
          1.151333499638227
         ],
         "y": [
          0.014651740334647556,
          0.03276841992656343
         ],
         "z": [
          3.05839911746115,
          2.954852169612744
         ]
        },
        {
         "line": {
          "color": "crimson",
          "width": 2
         },
         "mode": "lines",
         "showlegend": false,
         "type": "scatter3d",
         "x": [
          1.151333499638227,
          1.151333499638227
         ],
         "y": [
          0.03276841992656343,
          0.05088509951847908
         ],
         "z": [
          -4.914715866866127,
          -5.018262814714532
         ]
        },
        {
         "line": {
          "color": "crimson",
          "width": 2
         },
         "mode": "lines",
         "showlegend": false,
         "type": "scatter3d",
         "x": [
          1.151333499638227,
          1.151333499638227
         ],
         "y": [
          0.03276841992656343,
          0.05088509951847908
         ],
         "z": [
          -0.9799318486266912,
          -1.0834787964750978
         ]
        },
        {
         "line": {
          "color": "crimson",
          "width": 2
         },
         "mode": "lines",
         "showlegend": false,
         "type": "scatter3d",
         "x": [
          1.151333499638227,
          1.151333499638227
         ],
         "y": [
          0.03276841992656343,
          0.05088509951847908
         ],
         "z": [
          3.05839911746115,
          2.954852169612744
         ]
        },
        {
         "line": {
          "color": "crimson",
          "width": 2
         },
         "mode": "lines",
         "showlegend": false,
         "type": "scatter3d",
         "x": [
          1.151333499638227,
          1.151333499638227
         ],
         "y": [
          0.05088509951847908,
          0.06900177911039496
         ],
         "z": [
          -4.914715866866127,
          -5.018262814714532
         ]
        },
        {
         "line": {
          "color": "crimson",
          "width": 2
         },
         "mode": "lines",
         "showlegend": false,
         "type": "scatter3d",
         "x": [
          1.151333499638227,
          1.151333499638227
         ],
         "y": [
          0.06900177911039496,
          0.05088509951847908
         ],
         "z": [
          2.954852169612744,
          3.05839911746115
         ]
        },
        {
         "line": {
          "color": "crimson",
          "width": 2
         },
         "mode": "lines",
         "showlegend": false,
         "type": "scatter3d",
         "x": [
          1.151333499638227,
          1.151333499638227
         ],
         "y": [
          0.06900177911039496,
          0.08711845870231061
         ],
         "z": [
          -4.914715866866127,
          -5.018262814714532
         ]
        },
        {
         "line": {
          "color": "crimson",
          "width": 2
         },
         "mode": "lines",
         "showlegend": false,
         "type": "scatter3d",
         "x": [
          1.151333499638227,
          1.151333499638227
         ],
         "y": [
          0.06900177911039496,
          0.08711845870231061
         ],
         "z": [
          3.05839911746115,
          2.954852169612744
         ]
        },
        {
         "line": {
          "color": "crimson",
          "width": 2
         },
         "mode": "lines",
         "showlegend": false,
         "type": "scatter3d",
         "x": [
          1.151333499638227,
          1.151333499638227
         ],
         "y": [
          0.10523513829422648,
          0.08711845870231061
         ],
         "z": [
          -5.018262814714532,
          -4.914715866866127
         ]
        },
        {
         "line": {
          "color": "crimson",
          "width": 2
         },
         "mode": "lines",
         "showlegend": false,
         "type": "scatter3d",
         "x": [
          1.151333499638227,
          1.151333499638227
         ],
         "y": [
          0.10523513829422648,
          0.08711845870231061
         ],
         "z": [
          2.954852169612744,
          3.05839911746115
         ]
        },
        {
         "line": {
          "color": "crimson",
          "width": 2
         },
         "mode": "lines",
         "showlegend": false,
         "type": "scatter3d",
         "x": [
          1.151333499638227,
          1.151333499638227
         ],
         "y": [
          0.10523513829422648,
          0.12335181788614213
         ],
         "z": [
          -4.914715866866127,
          -5.018262814714532
         ]
        },
        {
         "line": {
          "color": "crimson",
          "width": 2
         },
         "mode": "lines",
         "showlegend": false,
         "type": "scatter3d",
         "x": [
          1.151333499638227,
          1.151333499638227
         ],
         "y": [
          0.12335181788614213,
          0.10523513829422648
         ],
         "z": [
          2.954852169612744,
          3.05839911746115
         ]
        },
        {
         "line": {
          "color": "crimson",
          "width": 2
         },
         "mode": "lines",
         "showlegend": false,
         "type": "scatter3d",
         "x": [
          1.151333499638227,
          1.151333499638227
         ],
         "y": [
          0.12335181788614213,
          0.141468497478058
         ],
         "z": [
          -4.914715866866127,
          -5.018262814714532
         ]
        },
        {
         "line": {
          "color": "crimson",
          "width": 2
         },
         "mode": "lines",
         "showlegend": false,
         "type": "scatter3d",
         "x": [
          1.151333499638227,
          1.151333499638227
         ],
         "y": [
          0.12335181788614213,
          0.141468497478058
         ],
         "z": [
          3.05839911746115,
          2.954852169612744
         ]
        },
        {
         "line": {
          "color": "crimson",
          "width": 2
         },
         "mode": "lines",
         "showlegend": false,
         "type": "scatter3d",
         "x": [
          1.151333499638227,
          1.151333499638227
         ],
         "y": [
          0.1958185362538052,
          0.1777018566618893
         ],
         "z": [
          -4.914715866866127,
          -5.018262814714532
         ]
        },
        {
         "line": {
          "color": "crimson",
          "width": 2
         },
         "mode": "lines",
         "showlegend": false,
         "type": "scatter3d",
         "x": [
          1.151333499638227,
          1.151333499638227
         ],
         "y": [
          0.21393521584572084,
          0.1958185362538052
         ],
         "z": [
          -4.914715866866127,
          -5.018262814714532
         ]
        },
        {
         "line": {
          "color": "crimson",
          "width": 2
         },
         "mode": "lines",
         "showlegend": false,
         "type": "scatter3d",
         "x": [
          1.151333499638227,
          1.151333499638227
         ],
         "y": [
          0.21393521584572084,
          0.2320518954376367
         ],
         "z": [
          -5.018262814714532,
          -4.914715866866127
         ]
        },
        {
         "line": {
          "color": "crimson",
          "width": 2
         },
         "mode": "lines",
         "showlegend": false,
         "type": "scatter3d",
         "x": [
          1.151333499638227,
          1.151333499638227
         ],
         "y": [
          0.25016857502955236,
          0.2320518954376367
         ],
         "z": [
          -4.914715866866127,
          -5.018262814714532
         ]
        },
        {
         "line": {
          "color": "crimson",
          "width": 2
         },
         "mode": "lines",
         "showlegend": false,
         "type": "scatter3d",
         "x": [
          1.151333499638227,
          1.151333499638227
         ],
         "y": [
          0.26828525462146824,
          0.25016857502955236
         ],
         "z": [
          -4.914715866866127,
          -5.018262814714532
         ]
        },
        {
         "line": {
          "color": "crimson",
          "width": 2
         },
         "mode": "lines",
         "showlegend": false,
         "type": "scatter3d",
         "x": [
          1.151333499638227,
          1.151333499638227
         ],
         "y": [
          0.26828525462146824,
          0.2864019342133839
         ],
         "z": [
          -5.018262814714532,
          -4.914715866866127
         ]
        },
        {
         "line": {
          "color": "crimson",
          "width": 2
         },
         "mode": "lines",
         "showlegend": false,
         "type": "scatter3d",
         "x": [
          1.151333499638227,
          1.151333499638227
         ],
         "y": [
          0.30451861380529976,
          0.2864019342133839
         ],
         "z": [
          -4.914715866866127,
          -5.018262814714532
         ]
        },
        {
         "line": {
          "color": "crimson",
          "width": 2
         },
         "mode": "lines",
         "showlegend": false,
         "type": "scatter3d",
         "x": [
          1.151333499638227,
          1.151333499638227
         ],
         "y": [
          0.30451861380529976,
          0.3226352933972154
         ],
         "z": [
          -5.018262814714532,
          -4.914715866866127
         ]
        },
        {
         "line": {
          "color": "crimson",
          "width": 2
         },
         "mode": "lines",
         "showlegend": false,
         "type": "scatter3d",
         "x": [
          1.151333499638227,
          1.151333499638227
         ],
         "y": [
          0.3226352933972154,
          0.3407519729891313
         ],
         "z": [
          -5.018262814714532,
          -4.914715866866127
         ]
        },
        {
         "line": {
          "color": "crimson",
          "width": 2
         },
         "mode": "lines",
         "showlegend": false,
         "type": "scatter3d",
         "x": [
          1.151333499638227,
          1.151333499638227
         ],
         "y": [
          0.35886865258104694,
          0.3407519729891313
         ],
         "z": [
          -4.914715866866127,
          -5.018262814714532
         ]
        },
        {
         "line": {
          "color": "crimson",
          "width": 2
         },
         "mode": "lines",
         "showlegend": false,
         "type": "scatter3d",
         "x": [
          1.151333499638227,
          1.151333499638227
         ],
         "y": [
          0.35886865258104694,
          0.3769853321729628
         ],
         "z": [
          -5.018262814714532,
          -4.914715866866127
         ]
        },
        {
         "line": {
          "color": "crimson",
          "width": 2
         },
         "mode": "lines",
         "showlegend": false,
         "type": "scatter3d",
         "x": [
          1.151333499638227,
          1.151333499638227
         ],
         "y": [
          0.35886865258104694,
          0.3769853321729628
         ],
         "z": [
          -2.7402299620495967,
          -2.7402299620495967
         ]
        }
       ],
       "layout": {
        "margin": {
         "b": 0,
         "l": 0,
         "r": 0,
         "t": 30
        },
        "scene": {
         "aspectmode": "data"
        },
        "template": {
         "data": {
          "bar": [
           {
            "error_x": {
             "color": "#2a3f5f"
            },
            "error_y": {
             "color": "#2a3f5f"
            },
            "marker": {
             "line": {
              "color": "#E5ECF6",
              "width": 0.5
             },
             "pattern": {
              "fillmode": "overlay",
              "size": 10,
              "solidity": 0.2
             }
            },
            "type": "bar"
           }
          ],
          "barpolar": [
           {
            "marker": {
             "line": {
              "color": "#E5ECF6",
              "width": 0.5
             },
             "pattern": {
              "fillmode": "overlay",
              "size": 10,
              "solidity": 0.2
             }
            },
            "type": "barpolar"
           }
          ],
          "carpet": [
           {
            "aaxis": {
             "endlinecolor": "#2a3f5f",
             "gridcolor": "white",
             "linecolor": "white",
             "minorgridcolor": "white",
             "startlinecolor": "#2a3f5f"
            },
            "baxis": {
             "endlinecolor": "#2a3f5f",
             "gridcolor": "white",
             "linecolor": "white",
             "minorgridcolor": "white",
             "startlinecolor": "#2a3f5f"
            },
            "type": "carpet"
           }
          ],
          "choropleth": [
           {
            "colorbar": {
             "outlinewidth": 0,
             "ticks": ""
            },
            "type": "choropleth"
           }
          ],
          "contour": [
           {
            "colorbar": {
             "outlinewidth": 0,
             "ticks": ""
            },
            "colorscale": [
             [
              0,
              "#0d0887"
             ],
             [
              0.1111111111111111,
              "#46039f"
             ],
             [
              0.2222222222222222,
              "#7201a8"
             ],
             [
              0.3333333333333333,
              "#9c179e"
             ],
             [
              0.4444444444444444,
              "#bd3786"
             ],
             [
              0.5555555555555556,
              "#d8576b"
             ],
             [
              0.6666666666666666,
              "#ed7953"
             ],
             [
              0.7777777777777778,
              "#fb9f3a"
             ],
             [
              0.8888888888888888,
              "#fdca26"
             ],
             [
              1,
              "#f0f921"
             ]
            ],
            "type": "contour"
           }
          ],
          "contourcarpet": [
           {
            "colorbar": {
             "outlinewidth": 0,
             "ticks": ""
            },
            "type": "contourcarpet"
           }
          ],
          "heatmap": [
           {
            "colorbar": {
             "outlinewidth": 0,
             "ticks": ""
            },
            "colorscale": [
             [
              0,
              "#0d0887"
             ],
             [
              0.1111111111111111,
              "#46039f"
             ],
             [
              0.2222222222222222,
              "#7201a8"
             ],
             [
              0.3333333333333333,
              "#9c179e"
             ],
             [
              0.4444444444444444,
              "#bd3786"
             ],
             [
              0.5555555555555556,
              "#d8576b"
             ],
             [
              0.6666666666666666,
              "#ed7953"
             ],
             [
              0.7777777777777778,
              "#fb9f3a"
             ],
             [
              0.8888888888888888,
              "#fdca26"
             ],
             [
              1,
              "#f0f921"
             ]
            ],
            "type": "heatmap"
           }
          ],
          "histogram": [
           {
            "marker": {
             "pattern": {
              "fillmode": "overlay",
              "size": 10,
              "solidity": 0.2
             }
            },
            "type": "histogram"
           }
          ],
          "histogram2d": [
           {
            "colorbar": {
             "outlinewidth": 0,
             "ticks": ""
            },
            "colorscale": [
             [
              0,
              "#0d0887"
             ],
             [
              0.1111111111111111,
              "#46039f"
             ],
             [
              0.2222222222222222,
              "#7201a8"
             ],
             [
              0.3333333333333333,
              "#9c179e"
             ],
             [
              0.4444444444444444,
              "#bd3786"
             ],
             [
              0.5555555555555556,
              "#d8576b"
             ],
             [
              0.6666666666666666,
              "#ed7953"
             ],
             [
              0.7777777777777778,
              "#fb9f3a"
             ],
             [
              0.8888888888888888,
              "#fdca26"
             ],
             [
              1,
              "#f0f921"
             ]
            ],
            "type": "histogram2d"
           }
          ],
          "histogram2dcontour": [
           {
            "colorbar": {
             "outlinewidth": 0,
             "ticks": ""
            },
            "colorscale": [
             [
              0,
              "#0d0887"
             ],
             [
              0.1111111111111111,
              "#46039f"
             ],
             [
              0.2222222222222222,
              "#7201a8"
             ],
             [
              0.3333333333333333,
              "#9c179e"
             ],
             [
              0.4444444444444444,
              "#bd3786"
             ],
             [
              0.5555555555555556,
              "#d8576b"
             ],
             [
              0.6666666666666666,
              "#ed7953"
             ],
             [
              0.7777777777777778,
              "#fb9f3a"
             ],
             [
              0.8888888888888888,
              "#fdca26"
             ],
             [
              1,
              "#f0f921"
             ]
            ],
            "type": "histogram2dcontour"
           }
          ],
          "mesh3d": [
           {
            "colorbar": {
             "outlinewidth": 0,
             "ticks": ""
            },
            "type": "mesh3d"
           }
          ],
          "parcoords": [
           {
            "line": {
             "colorbar": {
              "outlinewidth": 0,
              "ticks": ""
             }
            },
            "type": "parcoords"
           }
          ],
          "pie": [
           {
            "automargin": true,
            "type": "pie"
           }
          ],
          "scatter": [
           {
            "fillpattern": {
             "fillmode": "overlay",
             "size": 10,
             "solidity": 0.2
            },
            "type": "scatter"
           }
          ],
          "scatter3d": [
           {
            "line": {
             "colorbar": {
              "outlinewidth": 0,
              "ticks": ""
             }
            },
            "marker": {
             "colorbar": {
              "outlinewidth": 0,
              "ticks": ""
             }
            },
            "type": "scatter3d"
           }
          ],
          "scattercarpet": [
           {
            "marker": {
             "colorbar": {
              "outlinewidth": 0,
              "ticks": ""
             }
            },
            "type": "scattercarpet"
           }
          ],
          "scattergeo": [
           {
            "marker": {
             "colorbar": {
              "outlinewidth": 0,
              "ticks": ""
             }
            },
            "type": "scattergeo"
           }
          ],
          "scattergl": [
           {
            "marker": {
             "colorbar": {
              "outlinewidth": 0,
              "ticks": ""
             }
            },
            "type": "scattergl"
           }
          ],
          "scattermap": [
           {
            "marker": {
             "colorbar": {
              "outlinewidth": 0,
              "ticks": ""
             }
            },
            "type": "scattermap"
           }
          ],
          "scattermapbox": [
           {
            "marker": {
             "colorbar": {
              "outlinewidth": 0,
              "ticks": ""
             }
            },
            "type": "scattermapbox"
           }
          ],
          "scatterpolar": [
           {
            "marker": {
             "colorbar": {
              "outlinewidth": 0,
              "ticks": ""
             }
            },
            "type": "scatterpolar"
           }
          ],
          "scatterpolargl": [
           {
            "marker": {
             "colorbar": {
              "outlinewidth": 0,
              "ticks": ""
             }
            },
            "type": "scatterpolargl"
           }
          ],
          "scatterternary": [
           {
            "marker": {
             "colorbar": {
              "outlinewidth": 0,
              "ticks": ""
             }
            },
            "type": "scatterternary"
           }
          ],
          "surface": [
           {
            "colorbar": {
             "outlinewidth": 0,
             "ticks": ""
            },
            "colorscale": [
             [
              0,
              "#0d0887"
             ],
             [
              0.1111111111111111,
              "#46039f"
             ],
             [
              0.2222222222222222,
              "#7201a8"
             ],
             [
              0.3333333333333333,
              "#9c179e"
             ],
             [
              0.4444444444444444,
              "#bd3786"
             ],
             [
              0.5555555555555556,
              "#d8576b"
             ],
             [
              0.6666666666666666,
              "#ed7953"
             ],
             [
              0.7777777777777778,
              "#fb9f3a"
             ],
             [
              0.8888888888888888,
              "#fdca26"
             ],
             [
              1,
              "#f0f921"
             ]
            ],
            "type": "surface"
           }
          ],
          "table": [
           {
            "cells": {
             "fill": {
              "color": "#EBF0F8"
             },
             "line": {
              "color": "white"
             }
            },
            "header": {
             "fill": {
              "color": "#C8D4E3"
             },
             "line": {
              "color": "white"
             }
            },
            "type": "table"
           }
          ]
         },
         "layout": {
          "annotationdefaults": {
           "arrowcolor": "#2a3f5f",
           "arrowhead": 0,
           "arrowwidth": 1
          },
          "autotypenumbers": "strict",
          "coloraxis": {
           "colorbar": {
            "outlinewidth": 0,
            "ticks": ""
           }
          },
          "colorscale": {
           "diverging": [
            [
             0,
             "#8e0152"
            ],
            [
             0.1,
             "#c51b7d"
            ],
            [
             0.2,
             "#de77ae"
            ],
            [
             0.3,
             "#f1b6da"
            ],
            [
             0.4,
             "#fde0ef"
            ],
            [
             0.5,
             "#f7f7f7"
            ],
            [
             0.6,
             "#e6f5d0"
            ],
            [
             0.7,
             "#b8e186"
            ],
            [
             0.8,
             "#7fbc41"
            ],
            [
             0.9,
             "#4d9221"
            ],
            [
             1,
             "#276419"
            ]
           ],
           "sequential": [
            [
             0,
             "#0d0887"
            ],
            [
             0.1111111111111111,
             "#46039f"
            ],
            [
             0.2222222222222222,
             "#7201a8"
            ],
            [
             0.3333333333333333,
             "#9c179e"
            ],
            [
             0.4444444444444444,
             "#bd3786"
            ],
            [
             0.5555555555555556,
             "#d8576b"
            ],
            [
             0.6666666666666666,
             "#ed7953"
            ],
            [
             0.7777777777777778,
             "#fb9f3a"
            ],
            [
             0.8888888888888888,
             "#fdca26"
            ],
            [
             1,
             "#f0f921"
            ]
           ],
           "sequentialminus": [
            [
             0,
             "#0d0887"
            ],
            [
             0.1111111111111111,
             "#46039f"
            ],
            [
             0.2222222222222222,
             "#7201a8"
            ],
            [
             0.3333333333333333,
             "#9c179e"
            ],
            [
             0.4444444444444444,
             "#bd3786"
            ],
            [
             0.5555555555555556,
             "#d8576b"
            ],
            [
             0.6666666666666666,
             "#ed7953"
            ],
            [
             0.7777777777777778,
             "#fb9f3a"
            ],
            [
             0.8888888888888888,
             "#fdca26"
            ],
            [
             1,
             "#f0f921"
            ]
           ]
          },
          "colorway": [
           "#636efa",
           "#EF553B",
           "#00cc96",
           "#ab63fa",
           "#FFA15A",
           "#19d3f3",
           "#FF6692",
           "#B6E880",
           "#FF97FF",
           "#FECB52"
          ],
          "font": {
           "color": "#2a3f5f"
          },
          "geo": {
           "bgcolor": "white",
           "lakecolor": "white",
           "landcolor": "#E5ECF6",
           "showlakes": true,
           "showland": true,
           "subunitcolor": "white"
          },
          "hoverlabel": {
           "align": "left"
          },
          "hovermode": "closest",
          "mapbox": {
           "style": "light"
          },
          "paper_bgcolor": "white",
          "plot_bgcolor": "#E5ECF6",
          "polar": {
           "angularaxis": {
            "gridcolor": "white",
            "linecolor": "white",
            "ticks": ""
           },
           "bgcolor": "#E5ECF6",
           "radialaxis": {
            "gridcolor": "white",
            "linecolor": "white",
            "ticks": ""
           }
          },
          "scene": {
           "xaxis": {
            "backgroundcolor": "#E5ECF6",
            "gridcolor": "white",
            "gridwidth": 2,
            "linecolor": "white",
            "showbackground": true,
            "ticks": "",
            "zerolinecolor": "white"
           },
           "yaxis": {
            "backgroundcolor": "#E5ECF6",
            "gridcolor": "white",
            "gridwidth": 2,
            "linecolor": "white",
            "showbackground": true,
            "ticks": "",
            "zerolinecolor": "white"
           },
           "zaxis": {
            "backgroundcolor": "#E5ECF6",
            "gridcolor": "white",
            "gridwidth": 2,
            "linecolor": "white",
            "showbackground": true,
            "ticks": "",
            "zerolinecolor": "white"
           }
          },
          "shapedefaults": {
           "line": {
            "color": "#2a3f5f"
           }
          },
          "ternary": {
           "aaxis": {
            "gridcolor": "white",
            "linecolor": "white",
            "ticks": ""
           },
           "baxis": {
            "gridcolor": "white",
            "linecolor": "white",
            "ticks": ""
           },
           "bgcolor": "#E5ECF6",
           "caxis": {
            "gridcolor": "white",
            "linecolor": "white",
            "ticks": ""
           }
          },
          "title": {
           "x": 0.05
          },
          "xaxis": {
           "automargin": true,
           "gridcolor": "white",
           "linecolor": "white",
           "ticks": "",
           "title": {
            "standoff": 15
           },
           "zerolinecolor": "white",
           "zerolinewidth": 2
          },
          "yaxis": {
           "automargin": true,
           "gridcolor": "white",
           "linecolor": "white",
           "ticks": "",
           "title": {
            "standoff": 15
           },
           "zerolinecolor": "white",
           "zerolinewidth": 2
          }
         }
        },
        "title": {
         "text": "Discrete‑Morse Skeleton (3D)"
        }
       }
      }
     },
     "metadata": {},
     "output_type": "display_data"
    }
   ],
   "source": [
    "from dm_full import discrete_morse_graph, visualize_graph3d\n",
    "G = discrete_morse_graph(pts, grid_res=128, sigma=2.0, visualize=False)\n",
    "fig = visualize_graph3d(G, pts)\n",
    "fig.show()\n"
   ]
  },
  {
   "cell_type": "code",
   "execution_count": null,
   "id": "de341cd0",
   "metadata": {},
   "outputs": [],
   "source": [
    "import numpy as np\n",
    "from dm_yw import yw_morse_skeleton\n",
    "from dm_full import visualize_graph3d \n",
    "\n",
    "n = 2000\n",
    "theta = np.random.rand(n) * 2 * np.pi\n",
    "r = 0.3 + 0.02 * np.random.randn(n)\n",
    "x = 0.5 + r * np.cos(theta)\n",
    "y = 0.5 + r * np.sin(theta)\n",
    "\n",
    "for angle in np.linspace(0, 2 * np.pi, 10, endpoint=False):\n",
    "    x = np.append(x, 0.5 + np.linspace(0, 0.3, 100) * np.cos(angle))\n",
    "    y = np.append(y, 0.5 + np.linspace(0, 0.3, 100) * np.sin(angle))\n",
    "\n",
    "pts = np.stack([x, y], axis=1)"
   ]
  },
  {
   "cell_type": "code",
   "execution_count": 2,
   "id": "ba01c606",
   "metadata": {},
   "outputs": [
    {
     "data": {
      "text/plain": [
       "array([[0.24066881, 0.6816959 ],\n",
       "       [0.57017652, 0.24743943],\n",
       "       [0.70771471, 0.73702945],\n",
       "       ...,\n",
       "       [0.73780197, 0.32722676],\n",
       "       [0.74025353, 0.32544559],\n",
       "       [0.7427051 , 0.32366442]])"
      ]
     },
     "execution_count": 2,
     "metadata": {},
     "output_type": "execute_result"
    }
   ],
   "source": [
    "pts"
   ]
  },
  {
   "cell_type": "code",
   "execution_count": 3,
   "id": "4c73eb19",
   "metadata": {},
   "outputs": [
    {
     "data": {
      "image/png": "[encoded data removed]",
      "text/plain": [
       "<Figure size 600x600 with 1 Axes>"
      ]
     },
     "metadata": {},
     "output_type": "display_data"
    },
    {
     "data": {
      "text/plain": [
       "[<matplotlib.lines.Line2D at 0x287f85a17b0>]"
      ]
     },
     "execution_count": 3,
     "metadata": {},
     "output_type": "execute_result"
    },
    {
     "data": {
      "image/png": "[encoded data removed]",
      "text/plain": [
       "<Figure size 640x480 with 1 Axes>"
      ]
     },
     "metadata": {},
     "output_type": "display_data"
    }
   ],
   "source": [
    "import matplotlib.pyplot as plt\n",
    "\n",
    "\n",
    "plt.figure(figsize=(6, 6))\n",
    "plt.scatter(pts[:, 0], pts[:, 1], s=2, c=\"black\", alpha=0.6)\n",
    "plt.title(\"Original 2D Point Cloud\")\n",
    "plt.axis(\"equal\")\n",
    "plt.grid(True)\n",
    "plt.show()\n",
    "plt.plot(pts[0], pts[1])"
   ]
  },
  {
   "cell_type": "code",
   "execution_count": 5,
   "id": "e106f7cd",
   "metadata": {},
   "outputs": [
    {
     "data": {
      "image/png": "[encoded data removed]",
      "text/plain": [
       "<Figure size 600x600 with 1 Axes>"
      ]
     },
     "metadata": {},
     "output_type": "display_data"
    }
   ],
   "source": [
    "import numpy as np\n",
    "import matplotlib.pyplot as plt\n",
    "from dm_full import discrete_morse_graph, visualize_graph2d\n",
    "G = discrete_morse_graph(pts, grid_res=1024, sigma=100, visualize=False)\n",
    "\n",
    "visualize_graph2d(G, pts)\n",
    "plt.show()"
   ]
  },
  {
   "cell_type": "code",
   "execution_count": null,
   "id": "4ffd08e5",
   "metadata": {},
   "outputs": [
    {
     "data": {
      "text/plain": [
       "(10194, 2)"
      ]
     },
     "execution_count": 32,
     "metadata": {},
     "output_type": "execute_result"
    }
   ],
   "source": [
    "import numpy as np\n",
    "from sklearn.decomposition import PCA\n",
    "import matplotlib.pyplot as plt\n",
    "\n",
    "from dm_full import discrete_morse_graph, visualize_graph2d\n",
    "\n",
    "X_lat = np.load(\"latent_db/latent_8.npy\") \n",
    "\n",
    "pca = PCA(n_components=2, whiten=False, random_state=0)\n",
    "pts2d = pca.fit_transform(X_lat)             \n",
    "\n",
    "pts_min = pts2d.min(0)\n",
    "pts_span = pts2d.max(0) - pts_min\n",
    "pts_norm = (pts2d - pts_min) / pts_span     \n",
    "\n",
    "pts2d.shape"
   ]
  },
  {
   "cell_type": "code",
   "execution_count": null,
   "id": "00272df3",
   "metadata": {},
   "outputs": [
    {
     "name": "stdout",
     "output_type": "stream",
     "text": [
      "Skeleton: 563 nodes, 286 edges\n"
     ]
    },
    {
     "data": {
      "text/plain": [
       "<Axes: title={'center': 'Discrete-Morse skeleton (2D)'}>"
      ]
     },
     "execution_count": 33,
     "metadata": {},
     "output_type": "execute_result"
    },
    {
     "data": {
      "image/png": "[encoded data removed]",
      "text/plain": [
       "<Figure size 600x600 with 1 Axes>"
      ]
     },
     "metadata": {},
     "output_type": "display_data"
    }
   ],
   "source": [
    "from dm_full import discrete_morse_graph, visualize_graph2d\n",
    "G = discrete_morse_graph(\n",
    "        pts_norm,\n",
    "        grid_res = 512,\n",
    "        sigma    = 1,\n",
    "        pers_len = 0.001, \n",
    "        pers_rho = 0.0001,\n",
    "        visualize=False)\n",
    "\n",
    "print(f\"Skeleton: {G.number_of_nodes()} nodes, {G.number_of_edges()} edges\")\n",
    "visualize_graph2d(G)  \n"
   ]
  },
  {
   "cell_type": "code",
   "execution_count": null,
   "id": "403e8ddc",
   "metadata": {},
   "outputs": [],
   "source": []
  },
  {
   "cell_type": "code",
   "execution_count": null,
   "id": "c0169384",
   "metadata": {},
   "outputs": [],
   "source": []
  }
 ],
 "metadata": {
  "kernelspec": {
   "display_name": "gudhi_env",
   "language": "python",
   "name": "python3"
  },
  "language_info": {
   "codemirror_mode": {
    "name": "ipython",
    "version": 3
   },
   "file_extension": ".py",
   "mimetype": "text/x-python",
   "name": "python",
   "nbconvert_exporter": "python",
   "pygments_lexer": "ipython3",
   "version": "3.10.18"
  }
 },
 "nbformat": 4,
 "nbformat_minor": 5
}
