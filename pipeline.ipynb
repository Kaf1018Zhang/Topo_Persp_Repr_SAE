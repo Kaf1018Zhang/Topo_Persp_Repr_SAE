{
 "cells": [
  {
   "cell_type": "markdown",
   "id": "3cd2d9cb",
   "metadata": {},
   "source": [
    "Prepoccess data"
   ]
  },
  {
   "cell_type": "code",
   "execution_count": 1,
   "id": "5bf2cd0a",
   "metadata": {},
   "outputs": [
    {
     "name": "stderr",
     "output_type": "stream",
     "text": [
      "C:\\Users\\Laplace\\AppData\\Roaming\\Python\\Python313\\site-packages\\anndata\\_core\\anndata.py:1758: UserWarning: Variable names are not unique. To make them unique, call `.var_names_make_unique`.\n",
      "  utils.warn_names_duplicates(\"var\")\n",
      "C:\\Users\\Laplace\\AppData\\Roaming\\Python\\Python313\\site-packages\\anndata\\_core\\anndata.py:1758: UserWarning: Variable names are not unique. To make them unique, call `.var_names_make_unique`.\n",
      "  utils.warn_names_duplicates(\"var\")\n"
     ]
    },
    {
     "name": "stdout",
     "output_type": "stream",
     "text": [
      "X_train: (7135, 36601) y_train: (7135,)\n",
      "X_val: (1529, 36601) y_val: (1529,)\n",
      "X_test: (1530, 36601) y_test: (1530,)\n"
     ]
    }
   ],
   "source": [
    "import numpy as np\n",
    "import pandas as pd\n",
    "import scanpy as sc\n",
    "from sklearn.model_selection import train_test_split\n",
    "\n",
    "# === Step 1: 载入 AnnData 和 barcode ===\n",
    "adata = sc.read_10x_h5(\"data/Parent_NGSC3_DI_PBMC_filtered_feature_bc_matrix.h5\")\n",
    "barcodes = adata.obs_names.tolist()\n",
    "\n",
    "# === Step 2: 载入 latent 向量 ===\n",
    "# X = np.load(\"latent_db/latent_128.npy\")  # shape: [n_cells, latent_dim]\n",
    "X = adata.X.toarray()\n",
    "\n",
    "# === Step 3: 载入 cluster label 并构建映射 dict ===\n",
    "df_label = pd.read_csv(\"data/Parent_NGSC3_DI_PBMC_analysis/analysis/clustering/graphclust/clusters.csv\")\n",
    "barcode2cluster = dict(zip(df_label[\"Barcode\"], df_label[\"Cluster\"]))\n",
    "\n",
    "# === Step 4: 构建标签向量 y，未匹配的设为 -1 ===\n",
    "y = np.array([barcode2cluster.get(bc, -1) for bc in barcodes])  # -1 表示缺失标签\n",
    "valid_idx = y != -1\n",
    "\n",
    "# === Step 5: 仅保留有标签的样本 ===\n",
    "X = X[valid_idx]\n",
    "y = y[valid_idx]\n",
    "\n",
    "# === Step 6: 划分训练、验证、测试集 ===\n",
    "X_train, X_temp, y_train, y_temp = train_test_split(X, y, test_size=0.30, stratify=y, random_state=42)\n",
    "X_val, X_test, y_val, y_test = train_test_split(X_temp, y_temp, test_size=0.50, stratify=y_temp, random_state=42)\n",
    "\n",
    "# === Step 7: 打印信息检查 ===\n",
    "print(\"X_train:\", X_train.shape, \"y_train:\", y_train.shape)\n",
    "print(\"X_val:\", X_val.shape, \"y_val:\", y_val.shape)\n",
    "print(\"X_test:\", X_test.shape, \"y_test:\", y_test.shape)"
   ]
  },
  {
   "cell_type": "code",
   "execution_count": 8,
   "id": "fb30388c",
   "metadata": {},
   "outputs": [
    {
     "data": {
      "text/plain": [
       "array([ 1,  2,  3,  4,  5,  6,  7,  8,  9, 10, 11, 12, 13, 14, 15])"
      ]
     },
     "execution_count": 8,
     "metadata": {},
     "output_type": "execute_result"
    }
   ],
   "source": [
    "np.unique(y_train)"
   ]
  },
  {
   "cell_type": "code",
   "execution_count": 9,
   "id": "17784540",
   "metadata": {},
   "outputs": [
    {
     "name": "stdout",
     "output_type": "stream",
     "text": [
      "\n",
      "=== TRAIN SET LABEL DISTRIBUTION ===\n",
      "Label  1 → Count: 1970  |  19.33%\n",
      "Label  2 → Count: 1540  |  15.11%\n",
      "Label  3 → Count:  967  |   9.49%\n",
      "Label  4 → Count:  878  |   8.61%\n",
      "Label  5 → Count:  753  |   7.39%\n",
      "Label  6 → Count:  630  |   6.18%\n",
      "Label  7 → Count:  606  |   5.94%\n",
      "Label  8 → Count:  534  |   5.24%\n",
      "Label  9 → Count:  468  |   4.59%\n",
      "Label 10 → Count:  384  |   3.77%\n",
      "Label 11 → Count:  353  |   3.46%\n",
      "Label 12 → Count:  328  |   3.22%\n",
      "Label 13 → Count:  278  |   2.73%\n",
      "Label 14 → Count:  259  |   2.54%\n",
      "Label 15 → Count:  246  |   2.41%\n",
      "Total: 10194 samples\n"
     ]
    }
   ],
   "source": [
    "def print_label_stats(y, name):\n",
    "    unique, counts = np.unique(y, return_counts=True)\n",
    "    total = len(y)\n",
    "    print(f\"\\n=== {name.upper()} SET LABEL DISTRIBUTION ===\")\n",
    "    for label, count in zip(unique, counts):\n",
    "        percent = 100 * count / total\n",
    "        print(f\"Label {label:2d} → Count: {count:4d}  |  {percent:5.2f}%\")\n",
    "    print(f\"Total: {total} samples\")\n",
    "\n",
    "print_label_stats(y, \"train\")\n"
   ]
  },
  {
   "cell_type": "code",
   "execution_count": 10,
   "id": "793a8188",
   "metadata": {},
   "outputs": [
    {
     "name": "stdout",
     "output_type": "stream",
     "text": [
      "\n",
      "=== TRAIN SET LABEL DISTRIBUTION ===\n",
      "Label  1 → Count: 1379  |  19.33%\n",
      "Label  2 → Count: 1078  |  15.11%\n",
      "Label  3 → Count:  677  |   9.49%\n",
      "Label  4 → Count:  614  |   8.61%\n",
      "Label  5 → Count:  527  |   7.39%\n",
      "Label  6 → Count:  441  |   6.18%\n",
      "Label  7 → Count:  424  |   5.94%\n",
      "Label  8 → Count:  374  |   5.24%\n",
      "Label  9 → Count:  327  |   4.58%\n",
      "Label 10 → Count:  269  |   3.77%\n",
      "Label 11 → Count:  247  |   3.46%\n",
      "Label 12 → Count:  230  |   3.22%\n",
      "Label 13 → Count:  195  |   2.73%\n",
      "Label 14 → Count:  181  |   2.54%\n",
      "Label 15 → Count:  172  |   2.41%\n",
      "Total: 7135 samples\n"
     ]
    }
   ],
   "source": [
    "print_label_stats(y_train, \"train\")"
   ]
  },
  {
   "cell_type": "code",
   "execution_count": 11,
   "id": "f3ba8433",
   "metadata": {},
   "outputs": [
    {
     "name": "stdout",
     "output_type": "stream",
     "text": [
      "\n",
      "=== VAL SET LABEL DISTRIBUTION ===\n",
      "Label  1 → Count:  295  |  19.29%\n",
      "Label  2 → Count:  231  |  15.11%\n",
      "Label  3 → Count:  145  |   9.48%\n",
      "Label  4 → Count:  132  |   8.63%\n",
      "Label  5 → Count:  113  |   7.39%\n",
      "Label  6 → Count:   94  |   6.15%\n",
      "Label  7 → Count:   91  |   5.95%\n",
      "Label  8 → Count:   80  |   5.23%\n",
      "Label  9 → Count:   70  |   4.58%\n",
      "Label 10 → Count:   58  |   3.79%\n",
      "Label 11 → Count:   53  |   3.47%\n",
      "Label 12 → Count:   49  |   3.20%\n",
      "Label 13 → Count:   42  |   2.75%\n",
      "Label 14 → Count:   39  |   2.55%\n",
      "Label 15 → Count:   37  |   2.42%\n",
      "Total: 1529 samples\n"
     ]
    }
   ],
   "source": [
    "print_label_stats(y_val, \"val\")"
   ]
  },
  {
   "cell_type": "code",
   "execution_count": 12,
   "id": "181cd18d",
   "metadata": {},
   "outputs": [
    {
     "name": "stdout",
     "output_type": "stream",
     "text": [
      "\n",
      "=== TEST SET LABEL DISTRIBUTION ===\n",
      "Label  1 → Count:  296  |  19.35%\n",
      "Label  2 → Count:  231  |  15.10%\n",
      "Label  3 → Count:  145  |   9.48%\n",
      "Label  4 → Count:  132  |   8.63%\n",
      "Label  5 → Count:  113  |   7.39%\n",
      "Label  6 → Count:   95  |   6.21%\n",
      "Label  7 → Count:   91  |   5.95%\n",
      "Label  8 → Count:   80  |   5.23%\n",
      "Label  9 → Count:   71  |   4.64%\n",
      "Label 10 → Count:   57  |   3.73%\n",
      "Label 11 → Count:   53  |   3.46%\n",
      "Label 12 → Count:   49  |   3.20%\n",
      "Label 13 → Count:   41  |   2.68%\n",
      "Label 14 → Count:   39  |   2.55%\n",
      "Label 15 → Count:   37  |   2.42%\n",
      "Total: 1530 samples\n"
     ]
    }
   ],
   "source": [
    "print_label_stats(y_test, \"test\")"
   ]
  },
  {
   "cell_type": "markdown",
   "id": "7aeddd7f",
   "metadata": {},
   "source": [
    "Classfication"
   ]
  },
  {
   "cell_type": "code",
   "execution_count": 13,
   "id": "d2b16fe2",
   "metadata": {},
   "outputs": [
    {
     "data": {
      "text/plain": [
       "True"
      ]
     },
     "execution_count": 13,
     "metadata": {},
     "output_type": "execute_result"
    }
   ],
   "source": [
    "import torch\n",
    "torch.cuda.is_available()"
   ]
  },
  {
   "cell_type": "code",
   "execution_count": 18,
   "id": "24521652",
   "metadata": {},
   "outputs": [
    {
     "data": {
      "application/vnd.jupyter.widget-view+json": {
       "model_id": "902eda00b3284146ac482f931750b331",
       "version_major": 2,
       "version_minor": 0
      },
      "text/plain": [
       "Epoch 1/15:   0%|          | 0/112 [00:00<?, ?it/s]"
      ]
     },
     "metadata": {},
     "output_type": "display_data"
    },
    {
     "name": "stdout",
     "output_type": "stream",
     "text": [
      "[Epoch 01] train_loss=2.5213 | val_acc=0.1511\n"
     ]
    },
    {
     "data": {
      "application/vnd.jupyter.widget-view+json": {
       "model_id": "43d3f00a75a24635bc8b2b3eb6ba9cdb",
       "version_major": 2,
       "version_minor": 0
      },
      "text/plain": [
       "Epoch 2/15:   0%|          | 0/112 [00:00<?, ?it/s]"
      ]
     },
     "metadata": {},
     "output_type": "display_data"
    },
    {
     "name": "stdout",
     "output_type": "stream",
     "text": [
      "[Epoch 02] train_loss=2.5065 | val_acc=0.2041\n"
     ]
    },
    {
     "data": {
      "application/vnd.jupyter.widget-view+json": {
       "model_id": "65f1b3baad6d4b03ab81c304eb04e6f6",
       "version_major": 2,
       "version_minor": 0
      },
      "text/plain": [
       "Epoch 3/15:   0%|          | 0/112 [00:00<?, ?it/s]"
      ]
     },
     "metadata": {},
     "output_type": "display_data"
    },
    {
     "name": "stdout",
     "output_type": "stream",
     "text": [
      "[Epoch 03] train_loss=2.5035 | val_acc=0.2041\n"
     ]
    },
    {
     "data": {
      "application/vnd.jupyter.widget-view+json": {
       "model_id": "e05dd69774e144a4a5d72fd79f8ec775",
       "version_major": 2,
       "version_minor": 0
      },
      "text/plain": [
       "Epoch 4/15:   0%|          | 0/112 [00:00<?, ?it/s]"
      ]
     },
     "metadata": {},
     "output_type": "display_data"
    },
    {
     "name": "stdout",
     "output_type": "stream",
     "text": [
      "[Epoch 04] train_loss=2.4976 | val_acc=0.2041\n"
     ]
    },
    {
     "data": {
      "application/vnd.jupyter.widget-view+json": {
       "model_id": "c93246cc22f049dcbc1451f70c825f80",
       "version_major": 2,
       "version_minor": 0
      },
      "text/plain": [
       "Epoch 5/15:   0%|          | 0/112 [00:00<?, ?it/s]"
      ]
     },
     "metadata": {},
     "output_type": "display_data"
    },
    {
     "name": "stdout",
     "output_type": "stream",
     "text": [
      "[Epoch 05] train_loss=2.4882 | val_acc=0.1956\n"
     ]
    },
    {
     "data": {
      "application/vnd.jupyter.widget-view+json": {
       "model_id": "eb748d25bc2a41b692bc44addcc074b3",
       "version_major": 2,
       "version_minor": 0
      },
      "text/plain": [
       "Epoch 6/15:   0%|          | 0/112 [00:00<?, ?it/s]"
      ]
     },
     "metadata": {},
     "output_type": "display_data"
    },
    {
     "name": "stdout",
     "output_type": "stream",
     "text": [
      "[Epoch 06] train_loss=2.4929 | val_acc=0.2041\n"
     ]
    },
    {
     "data": {
      "application/vnd.jupyter.widget-view+json": {
       "model_id": "3516436075714d5a95075299c95183bc",
       "version_major": 2,
       "version_minor": 0
      },
      "text/plain": [
       "Epoch 7/15:   0%|          | 0/112 [00:00<?, ?it/s]"
      ]
     },
     "metadata": {},
     "output_type": "display_data"
    },
    {
     "name": "stdout",
     "output_type": "stream",
     "text": [
      "[Epoch 07] train_loss=2.4943 | val_acc=0.2041\n"
     ]
    },
    {
     "data": {
      "application/vnd.jupyter.widget-view+json": {
       "model_id": "b552301342234ed49acfc47c91cad82a",
       "version_major": 2,
       "version_minor": 0
      },
      "text/plain": [
       "Epoch 8/15:   0%|          | 0/112 [00:00<?, ?it/s]"
      ]
     },
     "metadata": {},
     "output_type": "display_data"
    },
    {
     "name": "stdout",
     "output_type": "stream",
     "text": [
      "[Epoch 08] train_loss=2.4913 | val_acc=0.2041\n"
     ]
    },
    {
     "data": {
      "application/vnd.jupyter.widget-view+json": {
       "model_id": "a87dc6e2077748b0a0f9beb0787b0410",
       "version_major": 2,
       "version_minor": 0
      },
      "text/plain": [
       "Epoch 9/15:   0%|          | 0/112 [00:00<?, ?it/s]"
      ]
     },
     "metadata": {},
     "output_type": "display_data"
    },
    {
     "name": "stdout",
     "output_type": "stream",
     "text": [
      "[Epoch 09] train_loss=2.4884 | val_acc=0.1511\n"
     ]
    },
    {
     "data": {
      "application/vnd.jupyter.widget-view+json": {
       "model_id": "e0de8935105a42469eec25019abc85e0",
       "version_major": 2,
       "version_minor": 0
      },
      "text/plain": [
       "Epoch 10/15:   0%|          | 0/112 [00:00<?, ?it/s]"
      ]
     },
     "metadata": {},
     "output_type": "display_data"
    },
    {
     "name": "stdout",
     "output_type": "stream",
     "text": [
      "[Epoch 10] train_loss=2.4882 | val_acc=0.2041\n"
     ]
    },
    {
     "data": {
      "application/vnd.jupyter.widget-view+json": {
       "model_id": "a8d65c80e5c641e5813802f980ea91dc",
       "version_major": 2,
       "version_minor": 0
      },
      "text/plain": [
       "Epoch 11/15:   0%|          | 0/112 [00:00<?, ?it/s]"
      ]
     },
     "metadata": {},
     "output_type": "display_data"
    },
    {
     "name": "stdout",
     "output_type": "stream",
     "text": [
      "[Epoch 11] train_loss=2.4866 | val_acc=0.2041\n"
     ]
    },
    {
     "data": {
      "application/vnd.jupyter.widget-view+json": {
       "model_id": "f7ccd82a794f421988e047c0b769c4f9",
       "version_major": 2,
       "version_minor": 0
      },
      "text/plain": [
       "Epoch 12/15:   0%|          | 0/112 [00:00<?, ?it/s]"
      ]
     },
     "metadata": {},
     "output_type": "display_data"
    },
    {
     "name": "stdout",
     "output_type": "stream",
     "text": [
      "[Epoch 12] train_loss=2.4868 | val_acc=0.2041\n"
     ]
    },
    {
     "data": {
      "application/vnd.jupyter.widget-view+json": {
       "model_id": "cab686fceab54fdca41a31c3c5d1a3fe",
       "version_major": 2,
       "version_minor": 0
      },
      "text/plain": [
       "Epoch 13/15:   0%|          | 0/112 [00:00<?, ?it/s]"
      ]
     },
     "metadata": {},
     "output_type": "display_data"
    },
    {
     "name": "stdout",
     "output_type": "stream",
     "text": [
      "[Epoch 13] train_loss=2.4871 | val_acc=0.2041\n"
     ]
    },
    {
     "data": {
      "application/vnd.jupyter.widget-view+json": {
       "model_id": "ae254b6f2cca42a68bcc347b97309e07",
       "version_major": 2,
       "version_minor": 0
      },
      "text/plain": [
       "Epoch 14/15:   0%|          | 0/112 [00:00<?, ?it/s]"
      ]
     },
     "metadata": {},
     "output_type": "display_data"
    },
    {
     "name": "stdout",
     "output_type": "stream",
     "text": [
      "[Epoch 14] train_loss=2.4845 | val_acc=0.2041\n"
     ]
    },
    {
     "data": {
      "application/vnd.jupyter.widget-view+json": {
       "model_id": "807255c5353e43d8845a63dc225ec8bc",
       "version_major": 2,
       "version_minor": 0
      },
      "text/plain": [
       "Epoch 15/15:   0%|          | 0/112 [00:00<?, ?it/s]"
      ]
     },
     "metadata": {},
     "output_type": "display_data"
    },
    {
     "name": "stdout",
     "output_type": "stream",
     "text": [
      "[Epoch 15] train_loss=2.4844 | val_acc=0.2041\n",
      "\n",
      ">>> Test Accuracy: 0.2059\n",
      "\n",
      "Final test acc: 0.20588235294117646\n"
     ]
    }
   ],
   "source": [
    "import warnings\n",
    "import random\n",
    "random.seed(42)\n",
    "\n",
    "warnings.filterwarnings('ignore')\n",
    "import importlib, cellbert_runner as cr\n",
    "importlib.reload(cr)\n",
    "\n",
    "cfg = {\n",
    "    \"adata_h5\": \"data/Parent_NGSC3_DI_PBMC_filtered_feature_bc_matrix.h5\",\n",
    "    \"cluster_csv\": \"data/Parent_NGSC3_DI_PBMC_analysis/analysis/clustering/graphclust/clusters.csv\",\n",
    "    # 若要用 SAE latent 向量：\n",
    "    \"use_latent\": True,\n",
    "    \"latent_path\": \"latent_db/latent_8.npy\",\n",
    "\n",
    "    # 模型超参\n",
    "    \"bins\": 100,\n",
    "    \"embed_dim\": 128,\n",
    "    \"layers\": 4,\n",
    "    \"heads\": 8,\n",
    "    \"dropout\": 0.1,\n",
    "    \"epochs\": 15,\n",
    "    \"batch_size\": 64,\n",
    "    \"lr\": 1e-4,\n",
    "}\n",
    "\n",
    "model, test_acc = cr.run_experiment(cfg)\n",
    "print(\"Final test acc:\", test_acc)\n"
   ]
  },
  {
   "cell_type": "code",
   "execution_count": null,
   "id": "71f0f1c3",
   "metadata": {},
   "outputs": [],
   "source": []
  },
  {
   "cell_type": "code",
   "execution_count": null,
   "id": "39ad740d",
   "metadata": {},
   "outputs": [],
   "source": []
  }
 ],
 "metadata": {
  "kernelspec": {
   "display_name": "Python 3",
   "language": "python",
   "name": "python3"
  },
  "language_info": {
   "codemirror_mode": {
    "name": "ipython",
    "version": 3
   },
   "file_extension": ".py",
   "mimetype": "text/x-python",
   "name": "python",
   "nbconvert_exporter": "python",
   "pygments_lexer": "ipython3",
   "version": "3.13.1"
  }
 },
 "nbformat": 4,
 "nbformat_minor": 5
}
