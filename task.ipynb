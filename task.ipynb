{
 "cells": [
  {
   "cell_type": "code",
   "execution_count": 8,
   "id": "f7c495d4",
   "metadata": {},
   "outputs": [
    {
     "name": "stdout",
     "output_type": "stream",
     "text": [
      "PyTorch version: 2.8.0.dev20250314+cu128\n",
      "<function normalize at 0x0000020925C3B4C0>\n"
     ]
    }
   ],
   "source": [
    "import torch\n",
    "print(\"PyTorch version:\", torch.__version__)\n",
    "print(torch.nn.functional.normalize)\n",
    "import sys\n",
    "sys.path.append('./scBERT')"
   ]
  },
  {
   "cell_type": "code",
   "execution_count": 10,
   "id": "c31dbac4",
   "metadata": {},
   "outputs": [
    {
     "name": "stderr",
     "output_type": "stream",
     "text": [
      "usage: ipykernel_launcher.py [-h] [--bin_num BIN_NUM] [--gene_num GENE_NUM]\n",
      "                             [--epoch EPOCH] [--seed SEED]\n",
      "                             [--novel_type NOVEL_TYPE]\n",
      "                             [--unassign_thres UNASSIGN_THRES]\n",
      "                             [--pos_embed POS_EMBED] [--data_path DATA_PATH]\n",
      "                             [--model_path MODEL_PATH]\n",
      "ipykernel_launcher.py: error: unrecognized arguments: --f=c:\\Users\\Laplace\\AppData\\Roaming\\jupyter\\runtime\\kernel-v339f0ccc7444a487900e1b7fc1789c5c484ee7c76.json\n"
     ]
    },
    {
     "ename": "SystemExit",
     "evalue": "2",
     "output_type": "error",
     "traceback": [
      "An exception has occurred, use %tb to see the full traceback.\n",
      "\u001b[1;31mSystemExit\u001b[0m\u001b[1;31m:\u001b[0m 2\n"
     ]
    }
   ],
   "source": [
    "from scBERT.predict import main as predict_main\n",
    "\n",
    "import subprocess\n",
    "\n",
    "subprocess.run([\n",
    "    \"python\", \"scBERT/predict.py\",\n",
    "    \"--data_path\", \"data/your_dataset.h5ad\",\n",
    "    \"--model_path\", \"scBERT/pretrained_model.pth\",\n",
    "    \"--output\", \"predictions.csv\"\n",
    "])\n"
   ]
  },
  {
   "cell_type": "code",
   "execution_count": null,
   "id": "e742815b",
   "metadata": {},
   "outputs": [],
   "source": []
  }
 ],
 "metadata": {
  "kernelspec": {
   "display_name": "Python 3",
   "language": "python",
   "name": "python3"
  },
  "language_info": {
   "codemirror_mode": {
    "name": "ipython",
    "version": 3
   },
   "file_extension": ".py",
   "mimetype": "text/x-python",
   "name": "python",
   "nbconvert_exporter": "python",
   "pygments_lexer": "ipython3",
   "version": "3.13.1"
  }
 },
 "nbformat": 4,
 "nbformat_minor": 5
}
